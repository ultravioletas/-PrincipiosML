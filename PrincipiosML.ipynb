{
  "nbformat": 4,
  "nbformat_minor": 0,
  "metadata": {
    "colab": {
      "name": "PrincipiosML.ipynb",
      "provenance": [],
      "collapsed_sections": []
    },
    "kernelspec": {
      "name": "python3",
      "display_name": "Python 3"
    },
    "language_info": {
      "name": "python"
    }
  },
  "cells": [
    {
      "cell_type": "markdown",
      "source": [
        "## Aprendizaje automático\n",
        "---\n",
        "\n",
        "\n",
        "\n",
        "Integrantes: +Sigrid Segura +Víctor Garro Abarca\n",
        "\n",
        "\n",
        "---\n",
        "\n",
        "\n",
        "\n",
        "Resumen: En este trabajo se seleccionará un conjunto de datos (dataset) de alguna de las fuentes propuestas en clase, o bien de algún repositorio que considere oportuno. Se llevarán a cabo diferentes tareas de aprendizaje automático (tipo benchmark) y se hará un análisis de los resultados y estrategia de diseño de los diferentes experimentos propuestos.\n",
        "\n",
        "\n",
        "---\n",
        "\n"
      ],
      "metadata": {
        "id": "BCNpXNLgT5-7"
      }
    },
    {
      "cell_type": "markdown",
      "source": [
        "# Métodos y caracteŕisticas\n",
        "\n",
        "Los métodos de ensamble de modelos o métodos combinados intentan ayudar a mejorar el rendimiento de los modelos de Machine Learning al mejorar su precisión. Este es un proceso mediante el cual se construyen estratégicamente varios modelos de Machine Learning para resolver un problema particular.\n",
        "\n",
        "En ese sentido, los métodos de ensamble de modelos son técnicas que crean múltiples modelos y luego los combinan para producir mejores resultados. Los métodos de conjunto generalmente producen soluciones más precisas que las que produciría un solo modelo. Este ha sido el caso en varios concursos de aprendizaje automático, donde las soluciones ganadoras utilizaron métodos de conjunto. Algunos ejemplos:\n",
        "\n",
        "* ## Agregación de Bootstrap\n",
        "también conocida como embolsado que involucra un conjunto de árboles de decisión.\n",
        "\n",
        "* ## Generalización apilada(Stacked Generalization)\n",
        "Es un método de conjunto también conocido como apilamiento o combinación que aprende cómo combinar mejor las predicciones de múltiples modelos.\n",
        "\n",
        "* ## Random Forest\n",
        "El algoritmo Random Forest, tiene como objetivo mejorar esa reducción de varianza a trav ́es de construir  ́arboles de clasificaci ́on menos correlados entre ellos. A diferencia de los m ́etodos vistos hasta ahora, donde los modelos base h pod ́ıan pertenecer a cualquier familia, Random Forest está diseñado para ser utilizado  ́unicamente con  ́arboles de decisión.\n",
        "Kernel SVM. Es una extensión de embolsado que da como resultado un entrenamiento más rápido y un mejor rendimiento.\n",
        "\n",
        "Otros métodos y modelos de los vistos, podemos entontrar\n",
        "\n",
        "* ## kNN\n",
        "El algoritmo K-Nearest Neighbors, también llamado KNN, es uno de los más populares para el reconocimiento de patrones y correlaciones. Su uso lo podemos encontrar por ejemplo en modelado financiero para prever cómo estarán los mercados, para detección de spam, o también en el campo de la medicina para saber si un paciente que ha ingresado por un infarto al corazón es probable que sufra otro atendiendo a su historial médico\n",
        "\n",
        "* ## Naive Bayes\n",
        "El clasificador Naive Bayes es muy utilizado y da grandes resultados cuando se usa para clasificación y análisis de texto. Este teorema funciona utilizando la probabilidad condicionada o la probabilidad de que algo pase teniendo conocimiento de lo que ha ocurrido previamente. Así podremos calcular la probabilidad con la que va a ocurrir algo basándonos en la probabilidad condicional.\n",
        "\n",
        "* ## Desición Trees\n",
        "Si hay algo que bien podemos destacar de este tipo de algoritmos y la visualización de su efectividad es por sus reglas de clasificación fácilmente comprensibles para los humanos. La idea viene a través de la conocida estructura de los árboles donde podemos encontrar una raíz y unos nodos, donde veremos sus respectivas ramas y las hojas. Un árbol de decisión empieza por el nodo raíz y se despliega hacia abajo en dos o más ramas de izquierda a\n",
        "derecha. El nodo donde termina la cadena es el que llamaremos nodo hoja.\n",
        "La interpretación de un árbol de decisión sería de la siguiente forma: cada nodo\n",
        "intermedio del árbol lo vamos a considerar como un atributo o característica de los datos a tratar, siendo el nodo raíz aquel atributo más relevante, y cada hoja corresponderá con una clase o etiqueta.\n",
        "\n",
        "Bibliografía consultada: Zamorano, J. (2018). Comparativa y análisis de algoritmos de aprendizaje automático para la predicción. "
      ],
      "metadata": {
        "id": "Sq2-QT-TXwCI"
      }
    },
    {
      "cell_type": "markdown",
      "source": [
        "#ANALISIS del ARBOL DE DECISION SAO-PAULO-PROPERTIES\n"
      ],
      "metadata": {
        "id": "xphdgSI_UV6N"
      }
    },
    {
      "cell_type": "code",
      "execution_count": null,
      "metadata": {
        "id": "Bj1D37mvUT7i"
      },
      "outputs": [],
      "source": [
        "#Se cargan librerias\n",
        "\n",
        "import torch as torch\n",
        "import pandas as pd\n",
        "import numpy as np"
      ]
    },
    {
      "cell_type": "code",
      "source": [
        "def read_dataset(csv_name = 'https://github.com/mathdeoliveira/files/blob/master/sao-paulo-properties-april-2019.csv?raw=true'):\n",
        "    \"\"\"\n",
        "    Reads a csv dataset \n",
        "    returns it as a pytorch tensor\n",
        "    \"\"\"\n",
        "    data_frame = pd.read_csv(csv_name)\n",
        "   \n",
        "    #Preprocesado y retorno de matriz de torch con los tarjets\n",
        "    \n",
        "    '''Se discretiza la variable \"Price\" del dataset, se generan 4 categorias de precio de la siguiente manera:\n",
        "    1) 900000 < Price --> categoría 4,\n",
        "    2) 580000 < Price < 900000----> categoría 3\n",
        "    3) 400000 < Price < 580000 ----> categoría 2\n",
        "    4) Price < 400000 ----> categoría 1'''\n",
        "    \n",
        "    bins= [0,400001,580001,900001,10000001] #10000001 representa el valor maximo del precio+1 \n",
        "    #Se genera la categoria como valor y no como string para que no de problema la conversion a tensor\n",
        "    labels = [1,2,3,4]\n",
        "    data_frame['y'] = pd.cut(data_frame['Price'], bins=bins, labels=labels, right=False)\n",
        "   \n",
        "    #se dejan unicamente los siguientes atributos numéricos: Rooms, Size, Toilets y Parking y la columna \"y\"\n",
        "    data_frame=data_frame.filter(items=['Rooms', 'Size','Toilets','Parking','y'])\n",
        "\n",
        "    #Se convierte el dataset a numpy y despues a tensor\n",
        "    df_array= data_frame.to_numpy()\n",
        "    torch_tensor = torch.from_numpy(df_array)\n",
        "   \n",
        "    \n",
        "    return data_frame,torch_tensor"
      ],
      "metadata": {
        "id": "4t9oyHQZUbff"
      },
      "execution_count": null,
      "outputs": []
    },
    {
      "cell_type": "markdown",
      "source": [
        "# a. Elección del dataset y la estrategia"
      ],
      "metadata": {
        "id": "ci4mfUmHU4pN"
      }
    },
    {
      "cell_type": "code",
      "source": [
        "\n",
        "#Se carga el dataset (se utiliza la funcion read_dataset)\n",
        "\n",
        "pd_dataframe, dataset_torch = read_dataset()\n",
        "\n",
        "#dataset_torch[0:5]\n",
        "\n",
        "#Estadisticas basicas, y group by por el target\n",
        "\n",
        "#pd_dataframe.head(5)\n",
        "\n",
        "#pd_dataframe.describe()\n",
        "\n",
        "#pd_dataframe.groupby(by=['y']).count()\n",
        "\n",
        "pd_dataframe"
      ],
      "metadata": {
        "colab": {
          "base_uri": "https://localhost:8080/",
          "height": 424
        },
        "id": "NemIckyLUf9E",
        "outputId": "d4ed48b8-a752-4d9f-a73b-c687a1f61c79"
      },
      "execution_count": null,
      "outputs": [
        {
          "output_type": "execute_result",
          "data": {
            "text/plain": [
              "       Rooms  Size  Toilets  Parking  y\n",
              "0          2    47        2        1  1\n",
              "1          2    45        2        1  1\n",
              "2          2    48        2        1  1\n",
              "3          2    48        2        1  1\n",
              "4          2    55        2        1  1\n",
              "...      ...   ...      ...      ... ..\n",
              "13635      2    51        1        1  1\n",
              "13636      3    74        2        2  2\n",
              "13637      3   114        3        1  2\n",
              "13638      1    39        2        1  1\n",
              "13639      2    44        1        1  1\n",
              "\n",
              "[13640 rows x 5 columns]"
            ],
            "text/html": [
              "\n",
              "  <div id=\"df-cd8d4f1f-351a-41af-96b8-46c878999ace\">\n",
              "    <div class=\"colab-df-container\">\n",
              "      <div>\n",
              "<style scoped>\n",
              "    .dataframe tbody tr th:only-of-type {\n",
              "        vertical-align: middle;\n",
              "    }\n",
              "\n",
              "    .dataframe tbody tr th {\n",
              "        vertical-align: top;\n",
              "    }\n",
              "\n",
              "    .dataframe thead th {\n",
              "        text-align: right;\n",
              "    }\n",
              "</style>\n",
              "<table border=\"1\" class=\"dataframe\">\n",
              "  <thead>\n",
              "    <tr style=\"text-align: right;\">\n",
              "      <th></th>\n",
              "      <th>Rooms</th>\n",
              "      <th>Size</th>\n",
              "      <th>Toilets</th>\n",
              "      <th>Parking</th>\n",
              "      <th>y</th>\n",
              "    </tr>\n",
              "  </thead>\n",
              "  <tbody>\n",
              "    <tr>\n",
              "      <th>0</th>\n",
              "      <td>2</td>\n",
              "      <td>47</td>\n",
              "      <td>2</td>\n",
              "      <td>1</td>\n",
              "      <td>1</td>\n",
              "    </tr>\n",
              "    <tr>\n",
              "      <th>1</th>\n",
              "      <td>2</td>\n",
              "      <td>45</td>\n",
              "      <td>2</td>\n",
              "      <td>1</td>\n",
              "      <td>1</td>\n",
              "    </tr>\n",
              "    <tr>\n",
              "      <th>2</th>\n",
              "      <td>2</td>\n",
              "      <td>48</td>\n",
              "      <td>2</td>\n",
              "      <td>1</td>\n",
              "      <td>1</td>\n",
              "    </tr>\n",
              "    <tr>\n",
              "      <th>3</th>\n",
              "      <td>2</td>\n",
              "      <td>48</td>\n",
              "      <td>2</td>\n",
              "      <td>1</td>\n",
              "      <td>1</td>\n",
              "    </tr>\n",
              "    <tr>\n",
              "      <th>4</th>\n",
              "      <td>2</td>\n",
              "      <td>55</td>\n",
              "      <td>2</td>\n",
              "      <td>1</td>\n",
              "      <td>1</td>\n",
              "    </tr>\n",
              "    <tr>\n",
              "      <th>...</th>\n",
              "      <td>...</td>\n",
              "      <td>...</td>\n",
              "      <td>...</td>\n",
              "      <td>...</td>\n",
              "      <td>...</td>\n",
              "    </tr>\n",
              "    <tr>\n",
              "      <th>13635</th>\n",
              "      <td>2</td>\n",
              "      <td>51</td>\n",
              "      <td>1</td>\n",
              "      <td>1</td>\n",
              "      <td>1</td>\n",
              "    </tr>\n",
              "    <tr>\n",
              "      <th>13636</th>\n",
              "      <td>3</td>\n",
              "      <td>74</td>\n",
              "      <td>2</td>\n",
              "      <td>2</td>\n",
              "      <td>2</td>\n",
              "    </tr>\n",
              "    <tr>\n",
              "      <th>13637</th>\n",
              "      <td>3</td>\n",
              "      <td>114</td>\n",
              "      <td>3</td>\n",
              "      <td>1</td>\n",
              "      <td>2</td>\n",
              "    </tr>\n",
              "    <tr>\n",
              "      <th>13638</th>\n",
              "      <td>1</td>\n",
              "      <td>39</td>\n",
              "      <td>2</td>\n",
              "      <td>1</td>\n",
              "      <td>1</td>\n",
              "    </tr>\n",
              "    <tr>\n",
              "      <th>13639</th>\n",
              "      <td>2</td>\n",
              "      <td>44</td>\n",
              "      <td>1</td>\n",
              "      <td>1</td>\n",
              "      <td>1</td>\n",
              "    </tr>\n",
              "  </tbody>\n",
              "</table>\n",
              "<p>13640 rows × 5 columns</p>\n",
              "</div>\n",
              "      <button class=\"colab-df-convert\" onclick=\"convertToInteractive('df-cd8d4f1f-351a-41af-96b8-46c878999ace')\"\n",
              "              title=\"Convert this dataframe to an interactive table.\"\n",
              "              style=\"display:none;\">\n",
              "        \n",
              "  <svg xmlns=\"http://www.w3.org/2000/svg\" height=\"24px\"viewBox=\"0 0 24 24\"\n",
              "       width=\"24px\">\n",
              "    <path d=\"M0 0h24v24H0V0z\" fill=\"none\"/>\n",
              "    <path d=\"M18.56 5.44l.94 2.06.94-2.06 2.06-.94-2.06-.94-.94-2.06-.94 2.06-2.06.94zm-11 1L8.5 8.5l.94-2.06 2.06-.94-2.06-.94L8.5 2.5l-.94 2.06-2.06.94zm10 10l.94 2.06.94-2.06 2.06-.94-2.06-.94-.94-2.06-.94 2.06-2.06.94z\"/><path d=\"M17.41 7.96l-1.37-1.37c-.4-.4-.92-.59-1.43-.59-.52 0-1.04.2-1.43.59L10.3 9.45l-7.72 7.72c-.78.78-.78 2.05 0 2.83L4 21.41c.39.39.9.59 1.41.59.51 0 1.02-.2 1.41-.59l7.78-7.78 2.81-2.81c.8-.78.8-2.07 0-2.86zM5.41 20L4 18.59l7.72-7.72 1.47 1.35L5.41 20z\"/>\n",
              "  </svg>\n",
              "      </button>\n",
              "      \n",
              "  <style>\n",
              "    .colab-df-container {\n",
              "      display:flex;\n",
              "      flex-wrap:wrap;\n",
              "      gap: 12px;\n",
              "    }\n",
              "\n",
              "    .colab-df-convert {\n",
              "      background-color: #E8F0FE;\n",
              "      border: none;\n",
              "      border-radius: 50%;\n",
              "      cursor: pointer;\n",
              "      display: none;\n",
              "      fill: #1967D2;\n",
              "      height: 32px;\n",
              "      padding: 0 0 0 0;\n",
              "      width: 32px;\n",
              "    }\n",
              "\n",
              "    .colab-df-convert:hover {\n",
              "      background-color: #E2EBFA;\n",
              "      box-shadow: 0px 1px 2px rgba(60, 64, 67, 0.3), 0px 1px 3px 1px rgba(60, 64, 67, 0.15);\n",
              "      fill: #174EA6;\n",
              "    }\n",
              "\n",
              "    [theme=dark] .colab-df-convert {\n",
              "      background-color: #3B4455;\n",
              "      fill: #D2E3FC;\n",
              "    }\n",
              "\n",
              "    [theme=dark] .colab-df-convert:hover {\n",
              "      background-color: #434B5C;\n",
              "      box-shadow: 0px 1px 3px 1px rgba(0, 0, 0, 0.15);\n",
              "      filter: drop-shadow(0px 1px 2px rgba(0, 0, 0, 0.3));\n",
              "      fill: #FFFFFF;\n",
              "    }\n",
              "  </style>\n",
              "\n",
              "      <script>\n",
              "        const buttonEl =\n",
              "          document.querySelector('#df-cd8d4f1f-351a-41af-96b8-46c878999ace button.colab-df-convert');\n",
              "        buttonEl.style.display =\n",
              "          google.colab.kernel.accessAllowed ? 'block' : 'none';\n",
              "\n",
              "        async function convertToInteractive(key) {\n",
              "          const element = document.querySelector('#df-cd8d4f1f-351a-41af-96b8-46c878999ace');\n",
              "          const dataTable =\n",
              "            await google.colab.kernel.invokeFunction('convertToInteractive',\n",
              "                                                     [key], {});\n",
              "          if (!dataTable) return;\n",
              "\n",
              "          const docLinkHtml = 'Like what you see? Visit the ' +\n",
              "            '<a target=\"_blank\" href=https://colab.research.google.com/notebooks/data_table.ipynb>data table notebook</a>'\n",
              "            + ' to learn more about interactive tables.';\n",
              "          element.innerHTML = '';\n",
              "          dataTable['output_type'] = 'display_data';\n",
              "          await google.colab.output.renderOutput(dataTable, element);\n",
              "          const docLink = document.createElement('div');\n",
              "          docLink.innerHTML = docLinkHtml;\n",
              "          element.appendChild(docLink);\n",
              "        }\n",
              "      </script>\n",
              "    </div>\n",
              "  </div>\n",
              "  "
            ]
          },
          "metadata": {},
          "execution_count": 74
        }
      ]
    },
    {
      "cell_type": "markdown",
      "source": [
        "## Selección de variables"
      ],
      "metadata": {
        "id": "X85PPRA4VU9S"
      }
    },
    {
      "cell_type": "code",
      "source": [
        "explicativas = pd_dataframe.drop(columns='y')\n",
        "objetivo = pd_dataframe.y"
      ],
      "metadata": {
        "id": "gsW-XjIFVV2D"
      },
      "execution_count": null,
      "outputs": []
    },
    {
      "cell_type": "markdown",
      "source": [
        "## Procedemos a partir el conjunto de datos en training y testing\n"
      ],
      "metadata": {
        "id": "R5MFFUsVi593"
      }
    },
    {
      "cell_type": "code",
      "source": [
        "from sklearn.model_selection import train_test_split"
      ],
      "metadata": {
        "id": "E0lArg6Yi8vu"
      },
      "execution_count": null,
      "outputs": []
    },
    {
      "cell_type": "code",
      "source": [
        "X_train, X_test, y_train, y_test = train_test_split(explicativas,objetivo, random_state=13) "
      ],
      "metadata": {
        "id": "4jpnMgbOi_Ay"
      },
      "execution_count": null,
      "outputs": []
    },
    {
      "cell_type": "markdown",
      "source": [
        "## Verificamos los tamaños:"
      ],
      "metadata": {
        "id": "_A-CyVmHjrkv"
      }
    },
    {
      "cell_type": "code",
      "source": [
        "X_train.shape"
      ],
      "metadata": {
        "colab": {
          "base_uri": "https://localhost:8080/"
        },
        "id": "mxF-as64jpWg",
        "outputId": "eeeedb96-73f4-44b9-9b6a-98cd599749d3"
      },
      "execution_count": null,
      "outputs": [
        {
          "output_type": "execute_result",
          "data": {
            "text/plain": [
              "(10230, 4)"
            ]
          },
          "metadata": {},
          "execution_count": 78
        }
      ]
    },
    {
      "cell_type": "code",
      "source": [
        "X_test.shape"
      ],
      "metadata": {
        "colab": {
          "base_uri": "https://localhost:8080/"
        },
        "id": "wuArkVVnjpf2",
        "outputId": "4c16b24c-893d-438f-e039-d9755ed25944"
      },
      "execution_count": null,
      "outputs": [
        {
          "output_type": "execute_result",
          "data": {
            "text/plain": [
              "(3410, 4)"
            ]
          },
          "metadata": {},
          "execution_count": 79
        }
      ]
    },
    {
      "cell_type": "code",
      "source": [
        "y_train.shape"
      ],
      "metadata": {
        "colab": {
          "base_uri": "https://localhost:8080/"
        },
        "id": "Dem85effjpll",
        "outputId": "898462ef-be59-48a3-e082-f1b97299af18"
      },
      "execution_count": null,
      "outputs": [
        {
          "output_type": "execute_result",
          "data": {
            "text/plain": [
              "(10230,)"
            ]
          },
          "metadata": {},
          "execution_count": 80
        }
      ]
    },
    {
      "cell_type": "code",
      "source": [
        "y_test.shape"
      ],
      "metadata": {
        "colab": {
          "base_uri": "https://localhost:8080/"
        },
        "id": "wPq1QGCnjpyG",
        "outputId": "43cd51da-e70b-4e1f-a468-d9b4198f791f"
      },
      "execution_count": null,
      "outputs": [
        {
          "output_type": "execute_result",
          "data": {
            "text/plain": [
              "(3410,)"
            ]
          },
          "metadata": {},
          "execution_count": 81
        }
      ]
    },
    {
      "cell_type": "markdown",
      "source": [
        "## Ahora contruiremos nuestro primer clasificador, usaremos un DT:"
      ],
      "metadata": {
        "id": "lKDPOeAxy9U9"
      }
    },
    {
      "cell_type": "code",
      "source": [
        "#Entrenar modelo"
      ],
      "metadata": {
        "id": "ElFSrR5AVY79"
      },
      "execution_count": null,
      "outputs": []
    },
    {
      "cell_type": "code",
      "source": [
        "from sklearn.tree import DecisionTreeClassifier\n",
        "DecisionTreeModel= DecisionTreeClassifier(max_depth=3)\n",
        "DecisionTreeModel.fit(X=X_train, y=y_train)\n",
        "DecisionTreeClassifier(max_depth=3)\n"
      ],
      "metadata": {
        "colab": {
          "base_uri": "https://localhost:8080/"
        },
        "id": "LgTys20zVbLd",
        "outputId": "481fdf96-662d-400c-8d94-5c95c84d4a86"
      },
      "execution_count": null,
      "outputs": [
        {
          "output_type": "execute_result",
          "data": {
            "text/plain": [
              "DecisionTreeClassifier(max_depth=3)"
            ]
          },
          "metadata": {},
          "execution_count": 83
        }
      ]
    },
    {
      "cell_type": "markdown",
      "source": [
        "Importamos la métrica, en este caso \"accuracy\":"
      ],
      "metadata": {
        "id": "f0IdH7xf0FAC"
      }
    },
    {
      "cell_type": "code",
      "source": [
        "from sklearn.metrics import accuracy_score"
      ],
      "metadata": {
        "id": "S-xb_0Yszg2r"
      },
      "execution_count": null,
      "outputs": []
    },
    {
      "cell_type": "markdown",
      "source": [
        "Llevamos a cabo la predicción con valores de \"testing\":"
      ],
      "metadata": {
        "id": "hUneYFX8zjEp"
      }
    },
    {
      "cell_type": "code",
      "source": [
        "y_predict = DecisionTreeModel.predict(X_test)"
      ],
      "metadata": {
        "id": "eVRfsJ_9zz0z"
      },
      "execution_count": null,
      "outputs": []
    },
    {
      "cell_type": "markdown",
      "source": [
        "y ahora evaluamos nuestros resultados con los verdaderos, para ver que tan bueno fue nuestro modelo:"
      ],
      "metadata": {
        "id": "yzeCdE-wz2Nt"
      }
    },
    {
      "cell_type": "code",
      "source": [
        "dt1 = accuracy_score(y_test, y_predict)\n",
        "dt1"
      ],
      "metadata": {
        "colab": {
          "base_uri": "https://localhost:8080/"
        },
        "id": "obCeAfPbz4-h",
        "outputId": "dadbac7e-1c3b-42c3-a9b2-0401f46a205c"
      },
      "execution_count": null,
      "outputs": [
        {
          "output_type": "execute_result",
          "data": {
            "text/plain": [
              "0.7780058651026392"
            ]
          },
          "metadata": {},
          "execution_count": 86
        }
      ]
    },
    {
      "cell_type": "markdown",
      "source": [
        "# Visualizar el modelo"
      ],
      "metadata": {
        "id": "A6qQlpzzVidW"
      }
    },
    {
      "cell_type": "code",
      "source": [
        "from sklearn.tree import plot_tree\n",
        "import matplotlib.pyplot as plt"
      ],
      "metadata": {
        "id": "onFbPIxZVk7e"
      },
      "execution_count": null,
      "outputs": []
    },
    {
      "cell_type": "code",
      "source": [
        "plt.figure(figsize=(22,8))\n",
        "plot_tree(decision_tree=DecisionTreeModel, feature_names=explicativas.columns, filled=True);"
      ],
      "metadata": {
        "colab": {
          "base_uri": "https://localhost:8080/",
          "height": 466
        },
        "id": "b93u0EZzVnbF",
        "outputId": "9984197a-491b-47fb-da0c-ff3ea4f2eb16"
      },
      "execution_count": null,
      "outputs": [
        {
          "output_type": "display_data",
          "data": {
            "text/plain": [
              "<Figure size 1584x576 with 1 Axes>"
            ],
            "image/png": "[encoded data removed]"
          },
          "metadata": {
            "needs_background": "light"
          }
        }
      ]
    },
    {
      "cell_type": "code",
      "source": [
        "#CALCULAR PREDICCION"
      ],
      "metadata": {
        "id": "myhDqtlJVvKq"
      },
      "execution_count": null,
      "outputs": []
    },
    {
      "cell_type": "code",
      "source": [
        "a=X_test.sample()"
      ],
      "metadata": {
        "id": "rVeKZ_svVxgY"
      },
      "execution_count": null,
      "outputs": []
    },
    {
      "cell_type": "code",
      "source": [
        "a"
      ],
      "metadata": {
        "colab": {
          "base_uri": "https://localhost:8080/",
          "height": 81
        },
        "id": "vXsMF8vBVz0U",
        "outputId": "827a09e3-a351-494d-bbc2-b765b15ee470"
      },
      "execution_count": null,
      "outputs": [
        {
          "output_type": "execute_result",
          "data": {
            "text/plain": [
              "       Rooms  Size  Toilets  Parking\n",
              "11923      3    96        2        2"
            ],
            "text/html": [
              "\n",
              "  <div id=\"df-0cf452bd-caa7-429b-86a1-fbc97500bcfb\">\n",
              "    <div class=\"colab-df-container\">\n",
              "      <div>\n",
              "<style scoped>\n",
              "    .dataframe tbody tr th:only-of-type {\n",
              "        vertical-align: middle;\n",
              "    }\n",
              "\n",
              "    .dataframe tbody tr th {\n",
              "        vertical-align: top;\n",
              "    }\n",
              "\n",
              "    .dataframe thead th {\n",
              "        text-align: right;\n",
              "    }\n",
              "</style>\n",
              "<table border=\"1\" class=\"dataframe\">\n",
              "  <thead>\n",
              "    <tr style=\"text-align: right;\">\n",
              "      <th></th>\n",
              "      <th>Rooms</th>\n",
              "      <th>Size</th>\n",
              "      <th>Toilets</th>\n",
              "      <th>Parking</th>\n",
              "    </tr>\n",
              "  </thead>\n",
              "  <tbody>\n",
              "    <tr>\n",
              "      <th>11923</th>\n",
              "      <td>3</td>\n",
              "      <td>96</td>\n",
              "      <td>2</td>\n",
              "      <td>2</td>\n",
              "    </tr>\n",
              "  </tbody>\n",
              "</table>\n",
              "</div>\n",
              "      <button class=\"colab-df-convert\" onclick=\"convertToInteractive('df-0cf452bd-caa7-429b-86a1-fbc97500bcfb')\"\n",
              "              title=\"Convert this dataframe to an interactive table.\"\n",
              "              style=\"display:none;\">\n",
              "        \n",
              "  <svg xmlns=\"http://www.w3.org/2000/svg\" height=\"24px\"viewBox=\"0 0 24 24\"\n",
              "       width=\"24px\">\n",
              "    <path d=\"M0 0h24v24H0V0z\" fill=\"none\"/>\n",
              "    <path d=\"M18.56 5.44l.94 2.06.94-2.06 2.06-.94-2.06-.94-.94-2.06-.94 2.06-2.06.94zm-11 1L8.5 8.5l.94-2.06 2.06-.94-2.06-.94L8.5 2.5l-.94 2.06-2.06.94zm10 10l.94 2.06.94-2.06 2.06-.94-2.06-.94-.94-2.06-.94 2.06-2.06.94z\"/><path d=\"M17.41 7.96l-1.37-1.37c-.4-.4-.92-.59-1.43-.59-.52 0-1.04.2-1.43.59L10.3 9.45l-7.72 7.72c-.78.78-.78 2.05 0 2.83L4 21.41c.39.39.9.59 1.41.59.51 0 1.02-.2 1.41-.59l7.78-7.78 2.81-2.81c.8-.78.8-2.07 0-2.86zM5.41 20L4 18.59l7.72-7.72 1.47 1.35L5.41 20z\"/>\n",
              "  </svg>\n",
              "      </button>\n",
              "      \n",
              "  <style>\n",
              "    .colab-df-container {\n",
              "      display:flex;\n",
              "      flex-wrap:wrap;\n",
              "      gap: 12px;\n",
              "    }\n",
              "\n",
              "    .colab-df-convert {\n",
              "      background-color: #E8F0FE;\n",
              "      border: none;\n",
              "      border-radius: 50%;\n",
              "      cursor: pointer;\n",
              "      display: none;\n",
              "      fill: #1967D2;\n",
              "      height: 32px;\n",
              "      padding: 0 0 0 0;\n",
              "      width: 32px;\n",
              "    }\n",
              "\n",
              "    .colab-df-convert:hover {\n",
              "      background-color: #E2EBFA;\n",
              "      box-shadow: 0px 1px 2px rgba(60, 64, 67, 0.3), 0px 1px 3px 1px rgba(60, 64, 67, 0.15);\n",
              "      fill: #174EA6;\n",
              "    }\n",
              "\n",
              "    [theme=dark] .colab-df-convert {\n",
              "      background-color: #3B4455;\n",
              "      fill: #D2E3FC;\n",
              "    }\n",
              "\n",
              "    [theme=dark] .colab-df-convert:hover {\n",
              "      background-color: #434B5C;\n",
              "      box-shadow: 0px 1px 3px 1px rgba(0, 0, 0, 0.15);\n",
              "      filter: drop-shadow(0px 1px 2px rgba(0, 0, 0, 0.3));\n",
              "      fill: #FFFFFF;\n",
              "    }\n",
              "  </style>\n",
              "\n",
              "      <script>\n",
              "        const buttonEl =\n",
              "          document.querySelector('#df-0cf452bd-caa7-429b-86a1-fbc97500bcfb button.colab-df-convert');\n",
              "        buttonEl.style.display =\n",
              "          google.colab.kernel.accessAllowed ? 'block' : 'none';\n",
              "\n",
              "        async function convertToInteractive(key) {\n",
              "          const element = document.querySelector('#df-0cf452bd-caa7-429b-86a1-fbc97500bcfb');\n",
              "          const dataTable =\n",
              "            await google.colab.kernel.invokeFunction('convertToInteractive',\n",
              "                                                     [key], {});\n",
              "          if (!dataTable) return;\n",
              "\n",
              "          const docLinkHtml = 'Like what you see? Visit the ' +\n",
              "            '<a target=\"_blank\" href=https://colab.research.google.com/notebooks/data_table.ipynb>data table notebook</a>'\n",
              "            + ' to learn more about interactive tables.';\n",
              "          element.innerHTML = '';\n",
              "          dataTable['output_type'] = 'display_data';\n",
              "          await google.colab.output.renderOutput(dataTable, element);\n",
              "          const docLink = document.createElement('div');\n",
              "          docLink.innerHTML = docLinkHtml;\n",
              "          element.appendChild(docLink);\n",
              "        }\n",
              "      </script>\n",
              "    </div>\n",
              "  </div>\n",
              "  "
            ]
          },
          "metadata": {},
          "execution_count": 91
        }
      ]
    },
    {
      "cell_type": "markdown",
      "source": [
        "### Valor/Samples "
      ],
      "metadata": {
        "id": "KhgWfSikV5QC"
      }
    },
    {
      "cell_type": "code",
      "source": [
        "3608/3791"
      ],
      "metadata": {
        "colab": {
          "base_uri": "https://localhost:8080/"
        },
        "id": "6w3uRLYkXCri",
        "outputId": "b9c9affd-0680-49ca-9f6c-13d8eb8f6052"
      },
      "execution_count": null,
      "outputs": [
        {
          "output_type": "execute_result",
          "data": {
            "text/plain": [
              "0.9517277763123186"
            ]
          },
          "metadata": {},
          "execution_count": 1
        }
      ]
    },
    {
      "cell_type": "code",
      "source": [
        "141/3791"
      ],
      "metadata": {
        "colab": {
          "base_uri": "https://localhost:8080/"
        },
        "id": "-gJcjaywXI_a",
        "outputId": "604a337c-42cd-4b1b-89f1-3760a06f6bec"
      },
      "execution_count": null,
      "outputs": [
        {
          "output_type": "execute_result",
          "data": {
            "text/plain": [
              "0.03719335267739383"
            ]
          },
          "metadata": {},
          "execution_count": 93
        }
      ]
    },
    {
      "cell_type": "code",
      "source": [
        "36/3791"
      ],
      "metadata": {
        "colab": {
          "base_uri": "https://localhost:8080/"
        },
        "id": "CaX5thl_XJXF",
        "outputId": "13d29847-6bc1-4b82-aa75-8c2d7dfc2026"
      },
      "execution_count": null,
      "outputs": [
        {
          "output_type": "execute_result",
          "data": {
            "text/plain": [
              "0.00949617515167502"
            ]
          },
          "metadata": {},
          "execution_count": 94
        }
      ]
    },
    {
      "cell_type": "code",
      "source": [
        "6/3791"
      ],
      "metadata": {
        "colab": {
          "base_uri": "https://localhost:8080/"
        },
        "id": "_2283LteXJrq",
        "outputId": "e15c5d4c-2a19-4cdd-c308-6e3ac5053504"
      },
      "execution_count": null,
      "outputs": [
        {
          "output_type": "execute_result",
          "data": {
            "text/plain": [
              "0.0015826958586125032"
            ]
          },
          "metadata": {},
          "execution_count": 95
        }
      ]
    },
    {
      "cell_type": "code",
      "source": [
        "DecisionTreeModel.predict_proba(a)"
      ],
      "metadata": {
        "colab": {
          "base_uri": "https://localhost:8080/"
        },
        "id": "71aoiKiuXi-c",
        "outputId": "b27bf304-2ba0-4694-a287-33a74c7ef3f2"
      },
      "execution_count": null,
      "outputs": [
        {
          "output_type": "execute_result",
          "data": {
            "text/plain": [
              "array([[0.63739377, 0.12747875, 0.17790368, 0.0572238 ]])"
            ]
          },
          "metadata": {},
          "execution_count": 96
        }
      ]
    },
    {
      "cell_type": "code",
      "source": [
        "y_pred = DecisionTreeModel.predict(X_train)"
      ],
      "metadata": {
        "id": "YhtnUwA1XnY_"
      },
      "execution_count": null,
      "outputs": []
    },
    {
      "cell_type": "code",
      "source": [
        "#Interpretar el modelo"
      ],
      "metadata": {
        "id": "O9c9_cqAXsv-"
      },
      "execution_count": null,
      "outputs": []
    },
    {
      "cell_type": "code",
      "source": [
        "import seaborn as sns"
      ],
      "metadata": {
        "id": "Xd4JPsz-Xt-X"
      },
      "execution_count": null,
      "outputs": []
    },
    {
      "cell_type": "code",
      "source": [
        "sns.histplot(x=pd_dataframe.Toilets, hue=pd_dataframe.y)"
      ],
      "metadata": {
        "colab": {
          "base_uri": "https://localhost:8080/",
          "height": 299
        },
        "id": "bUn99ctyXvSO",
        "outputId": "934324d2-5798-4ab6-ed01-4076f8125a04"
      },
      "execution_count": null,
      "outputs": [
        {
          "output_type": "execute_result",
          "data": {
            "text/plain": [
              "<matplotlib.axes._subplots.AxesSubplot at 0x7f15b71c2350>"
            ]
          },
          "metadata": {},
          "execution_count": 100
        },
        {
          "output_type": "display_data",
          "data": {
            "text/plain": [
              "<Figure size 432x288 with 1 Axes>"
            ],
            "image/png": "[encoded data removed]"
          },
          "metadata": {
            "needs_background": "light"
          }
        }
      ]
    },
    {
      "cell_type": "code",
      "source": [
        "# Como de bueno es el Modelo"
      ],
      "metadata": {
        "id": "9lyAk26uX405"
      },
      "execution_count": null,
      "outputs": []
    },
    {
      "cell_type": "code",
      "source": [
        "pd_dataframe['pred'] = objetivo"
      ],
      "metadata": {
        "id": "0BpPsXx6X6hh"
      },
      "execution_count": null,
      "outputs": []
    },
    {
      "cell_type": "code",
      "source": [
        "pd_dataframe.sample(10)[['y','pred']]"
      ],
      "metadata": {
        "colab": {
          "base_uri": "https://localhost:8080/",
          "height": 363
        },
        "id": "mMoPSIP-X8zn",
        "outputId": "9b26327e-f404-4390-c7bc-1f623fde4940"
      },
      "execution_count": null,
      "outputs": [
        {
          "output_type": "execute_result",
          "data": {
            "text/plain": [
              "       y pred\n",
              "12460  3    3\n",
              "13621  3    3\n",
              "12287  4    4\n",
              "5002   4    4\n",
              "5080   4    4\n",
              "8937   4    4\n",
              "11903  1    1\n",
              "10272  1    1\n",
              "11636  1    1\n",
              "7977   1    1"
            ],
            "text/html": [
              "\n",
              "  <div id=\"df-1037b87b-7b85-4066-a1f4-4e2ec441e08d\">\n",
              "    <div class=\"colab-df-container\">\n",
              "      <div>\n",
              "<style scoped>\n",
              "    .dataframe tbody tr th:only-of-type {\n",
              "        vertical-align: middle;\n",
              "    }\n",
              "\n",
              "    .dataframe tbody tr th {\n",
              "        vertical-align: top;\n",
              "    }\n",
              "\n",
              "    .dataframe thead th {\n",
              "        text-align: right;\n",
              "    }\n",
              "</style>\n",
              "<table border=\"1\" class=\"dataframe\">\n",
              "  <thead>\n",
              "    <tr style=\"text-align: right;\">\n",
              "      <th></th>\n",
              "      <th>y</th>\n",
              "      <th>pred</th>\n",
              "    </tr>\n",
              "  </thead>\n",
              "  <tbody>\n",
              "    <tr>\n",
              "      <th>12460</th>\n",
              "      <td>3</td>\n",
              "      <td>3</td>\n",
              "    </tr>\n",
              "    <tr>\n",
              "      <th>13621</th>\n",
              "      <td>3</td>\n",
              "      <td>3</td>\n",
              "    </tr>\n",
              "    <tr>\n",
              "      <th>12287</th>\n",
              "      <td>4</td>\n",
              "      <td>4</td>\n",
              "    </tr>\n",
              "    <tr>\n",
              "      <th>5002</th>\n",
              "      <td>4</td>\n",
              "      <td>4</td>\n",
              "    </tr>\n",
              "    <tr>\n",
              "      <th>5080</th>\n",
              "      <td>4</td>\n",
              "      <td>4</td>\n",
              "    </tr>\n",
              "    <tr>\n",
              "      <th>8937</th>\n",
              "      <td>4</td>\n",
              "      <td>4</td>\n",
              "    </tr>\n",
              "    <tr>\n",
              "      <th>11903</th>\n",
              "      <td>1</td>\n",
              "      <td>1</td>\n",
              "    </tr>\n",
              "    <tr>\n",
              "      <th>10272</th>\n",
              "      <td>1</td>\n",
              "      <td>1</td>\n",
              "    </tr>\n",
              "    <tr>\n",
              "      <th>11636</th>\n",
              "      <td>1</td>\n",
              "      <td>1</td>\n",
              "    </tr>\n",
              "    <tr>\n",
              "      <th>7977</th>\n",
              "      <td>1</td>\n",
              "      <td>1</td>\n",
              "    </tr>\n",
              "  </tbody>\n",
              "</table>\n",
              "</div>\n",
              "      <button class=\"colab-df-convert\" onclick=\"convertToInteractive('df-1037b87b-7b85-4066-a1f4-4e2ec441e08d')\"\n",
              "              title=\"Convert this dataframe to an interactive table.\"\n",
              "              style=\"display:none;\">\n",
              "        \n",
              "  <svg xmlns=\"http://www.w3.org/2000/svg\" height=\"24px\"viewBox=\"0 0 24 24\"\n",
              "       width=\"24px\">\n",
              "    <path d=\"M0 0h24v24H0V0z\" fill=\"none\"/>\n",
              "    <path d=\"M18.56 5.44l.94 2.06.94-2.06 2.06-.94-2.06-.94-.94-2.06-.94 2.06-2.06.94zm-11 1L8.5 8.5l.94-2.06 2.06-.94-2.06-.94L8.5 2.5l-.94 2.06-2.06.94zm10 10l.94 2.06.94-2.06 2.06-.94-2.06-.94-.94-2.06-.94 2.06-2.06.94z\"/><path d=\"M17.41 7.96l-1.37-1.37c-.4-.4-.92-.59-1.43-.59-.52 0-1.04.2-1.43.59L10.3 9.45l-7.72 7.72c-.78.78-.78 2.05 0 2.83L4 21.41c.39.39.9.59 1.41.59.51 0 1.02-.2 1.41-.59l7.78-7.78 2.81-2.81c.8-.78.8-2.07 0-2.86zM5.41 20L4 18.59l7.72-7.72 1.47 1.35L5.41 20z\"/>\n",
              "  </svg>\n",
              "      </button>\n",
              "      \n",
              "  <style>\n",
              "    .colab-df-container {\n",
              "      display:flex;\n",
              "      flex-wrap:wrap;\n",
              "      gap: 12px;\n",
              "    }\n",
              "\n",
              "    .colab-df-convert {\n",
              "      background-color: #E8F0FE;\n",
              "      border: none;\n",
              "      border-radius: 50%;\n",
              "      cursor: pointer;\n",
              "      display: none;\n",
              "      fill: #1967D2;\n",
              "      height: 32px;\n",
              "      padding: 0 0 0 0;\n",
              "      width: 32px;\n",
              "    }\n",
              "\n",
              "    .colab-df-convert:hover {\n",
              "      background-color: #E2EBFA;\n",
              "      box-shadow: 0px 1px 2px rgba(60, 64, 67, 0.3), 0px 1px 3px 1px rgba(60, 64, 67, 0.15);\n",
              "      fill: #174EA6;\n",
              "    }\n",
              "\n",
              "    [theme=dark] .colab-df-convert {\n",
              "      background-color: #3B4455;\n",
              "      fill: #D2E3FC;\n",
              "    }\n",
              "\n",
              "    [theme=dark] .colab-df-convert:hover {\n",
              "      background-color: #434B5C;\n",
              "      box-shadow: 0px 1px 3px 1px rgba(0, 0, 0, 0.15);\n",
              "      filter: drop-shadow(0px 1px 2px rgba(0, 0, 0, 0.3));\n",
              "      fill: #FFFFFF;\n",
              "    }\n",
              "  </style>\n",
              "\n",
              "      <script>\n",
              "        const buttonEl =\n",
              "          document.querySelector('#df-1037b87b-7b85-4066-a1f4-4e2ec441e08d button.colab-df-convert');\n",
              "        buttonEl.style.display =\n",
              "          google.colab.kernel.accessAllowed ? 'block' : 'none';\n",
              "\n",
              "        async function convertToInteractive(key) {\n",
              "          const element = document.querySelector('#df-1037b87b-7b85-4066-a1f4-4e2ec441e08d');\n",
              "          const dataTable =\n",
              "            await google.colab.kernel.invokeFunction('convertToInteractive',\n",
              "                                                     [key], {});\n",
              "          if (!dataTable) return;\n",
              "\n",
              "          const docLinkHtml = 'Like what you see? Visit the ' +\n",
              "            '<a target=\"_blank\" href=https://colab.research.google.com/notebooks/data_table.ipynb>data table notebook</a>'\n",
              "            + ' to learn more about interactive tables.';\n",
              "          element.innerHTML = '';\n",
              "          dataTable['output_type'] = 'display_data';\n",
              "          await google.colab.output.renderOutput(dataTable, element);\n",
              "          const docLink = document.createElement('div');\n",
              "          docLink.innerHTML = docLinkHtml;\n",
              "          element.appendChild(docLink);\n",
              "        }\n",
              "      </script>\n",
              "    </div>\n",
              "  </div>\n",
              "  "
            ]
          },
          "metadata": {},
          "execution_count": 103
        }
      ]
    },
    {
      "cell_type": "code",
      "source": [
        "(pd_dataframe['y']==pd_dataframe['pred']).sum()"
      ],
      "metadata": {
        "colab": {
          "base_uri": "https://localhost:8080/"
        },
        "id": "F6VUsq-QX_J2",
        "outputId": "74e08551-c859-4832-c1a0-8d63a3c812a9"
      },
      "execution_count": null,
      "outputs": [
        {
          "output_type": "execute_result",
          "data": {
            "text/plain": [
              "13640"
            ]
          },
          "metadata": {},
          "execution_count": 104
        }
      ]
    },
    {
      "cell_type": "code",
      "source": [
        "(pd_dataframe['y']==pd_dataframe['pred']).mean()"
      ],
      "metadata": {
        "colab": {
          "base_uri": "https://localhost:8080/"
        },
        "id": "-uBFpJP1YBYT",
        "outputId": "7f766f20-8b8c-4436-8951-cc56b7e2ae90"
      },
      "execution_count": null,
      "outputs": [
        {
          "output_type": "execute_result",
          "data": {
            "text/plain": [
              "1.0"
            ]
          },
          "metadata": {},
          "execution_count": 105
        }
      ]
    },
    {
      "cell_type": "code",
      "source": [
        "(pd_dataframe['y']==pd_dataframe['pred']).sum()/13640"
      ],
      "metadata": {
        "colab": {
          "base_uri": "https://localhost:8080/"
        },
        "id": "A50J5D6HYFSW",
        "outputId": "47cff689-71ca-4179-cdf0-f459ee040ab1"
      },
      "execution_count": null,
      "outputs": [
        {
          "output_type": "execute_result",
          "data": {
            "text/plain": [
              "1.0"
            ]
          },
          "metadata": {},
          "execution_count": 106
        }
      ]
    },
    {
      "cell_type": "markdown",
      "source": [
        "...y si variamos la profundidad del modelo anterior?\n",
        "\n"
      ],
      "metadata": {
        "id": "jwOxh_o80uGR"
      }
    },
    {
      "cell_type": "code",
      "source": [
        "DecisionTreeModel = DecisionTreeClassifier(max_depth = 5)\n",
        "DecisionTreeModel.fit(X_train,y_train)\n",
        "y_predict = DecisionTreeModel.predict(X_test)\n",
        "dt3 = accuracy_score(y_test, y_predict)\n",
        "dt3"
      ],
      "metadata": {
        "colab": {
          "base_uri": "https://localhost:8080/"
        },
        "id": "XKrFh9T10wS5",
        "outputId": "410a79a0-5ac7-4177-a828-bc5cc3e9281f"
      },
      "execution_count": null,
      "outputs": [
        {
          "output_type": "execute_result",
          "data": {
            "text/plain": [
              "0.7762463343108504"
            ]
          },
          "metadata": {},
          "execution_count": 107
        }
      ]
    },
    {
      "cell_type": "markdown",
      "source": [
        "#Modelo de Aprendizaje Simple... SAO-PAULO-PROPERTIES\n"
      ],
      "metadata": {
        "id": "FOBeC_UiYeiO"
      }
    },
    {
      "cell_type": "markdown",
      "source": [
        "Probamos con RANDOM FOREST RF"
      ],
      "metadata": {
        "id": "y0lLvZfnZ0X1"
      }
    },
    {
      "cell_type": "code",
      "source": [
        "from sklearn.ensemble import RandomForestClassifier\n"
      ],
      "metadata": {
        "id": "Hb0qoZWXZnjU"
      },
      "execution_count": null,
      "outputs": []
    },
    {
      "cell_type": "code",
      "source": [
        ""
      ],
      "metadata": {
        "id": "m0uK4_NJ3zTq"
      },
      "execution_count": null,
      "outputs": []
    },
    {
      "cell_type": "code",
      "source": [
        "RandomForestModel = RandomForestClassifier(min_samples_leaf=3,min_samples_split=20,n_estimators=500, max_depth= None, random_state=10)\n"
      ],
      "metadata": {
        "id": "d-xdnCX3Z8_V"
      },
      "execution_count": null,
      "outputs": []
    },
    {
      "cell_type": "code",
      "source": [
        "RandomForestModel.fit(X_train, y_train)\n"
      ],
      "metadata": {
        "colab": {
          "base_uri": "https://localhost:8080/"
        },
        "id": "imqiZHFCaInD",
        "outputId": "8399c05f-7e96-4605-845d-71020d793679"
      },
      "execution_count": null,
      "outputs": [
        {
          "output_type": "execute_result",
          "data": {
            "text/plain": [
              "RandomForestClassifier(min_samples_leaf=3, min_samples_split=20,\n",
              "                       n_estimators=500, random_state=10)"
            ]
          },
          "metadata": {},
          "execution_count": 110
        }
      ]
    },
    {
      "cell_type": "code",
      "source": [
        "y_predict = RandomForestModel.predict(X_test)\n"
      ],
      "metadata": {
        "id": "sVL86D8BackI"
      },
      "execution_count": null,
      "outputs": []
    },
    {
      "cell_type": "code",
      "source": [
        "rf = accuracy_score(y_test,y_predict)\n",
        "rf"
      ],
      "metadata": {
        "colab": {
          "base_uri": "https://localhost:8080/"
        },
        "id": "HQjmo1lKaf1v",
        "outputId": "3885a395-834d-488f-f3af-5f1205a7e0c4"
      },
      "execution_count": null,
      "outputs": [
        {
          "output_type": "execute_result",
          "data": {
            "text/plain": [
              "0.7818181818181819"
            ]
          },
          "metadata": {},
          "execution_count": 112
        }
      ]
    },
    {
      "cell_type": "code",
      "source": [
        "from sklearn.tree import plot_tree\n",
        "import matplotlib.pyplot as plt\n",
        "estimator = RandomForestModel.estimators_[0]\n",
        "plt.figure(figsize=(22,8))\n",
        "plot_tree(decision_tree=estimator, feature_names=explicativas.columns, filled=True);"
      ],
      "metadata": {
        "colab": {
          "base_uri": "https://localhost:8080/",
          "height": 466
        },
        "id": "liQCSFM8rr3u",
        "outputId": "f38c0c70-e55d-48af-8750-f9e85f450e4e"
      },
      "execution_count": null,
      "outputs": [
        {
          "output_type": "display_data",
          "data": {
            "text/plain": [
              "<Figure size 1584x576 with 1 Axes>"
            ],
            "image/png": "[encoded data removed]"
          },
          "metadata": {
            "needs_background": "light"
          }
        }
      ]
    },
    {
      "cell_type": "code",
      "source": [
        "from sklearn.tree import export_graphviz\n",
        "estimator = RandomForestModel.estimators_[0]\n",
        "export_graphviz(estimator, out_file='complete_tree.dot', feature_names=explicativas.columns,class_names=['1','2','3','4'],impurity=False,filled=True)\n",
        "from subprocess import call\n",
        "call(['dot', '-T', 'png', 'complete_tree.dot', '-o', 'complete_tree.png'])\n",
        "\n"
      ],
      "metadata": {
        "colab": {
          "base_uri": "https://localhost:8080/"
        },
        "id": "6nKOhx2SahoG",
        "outputId": "d01d9061-f2e2-4180-f3c1-705e5ffa0cf0"
      },
      "execution_count": null,
      "outputs": [
        {
          "output_type": "execute_result",
          "data": {
            "text/plain": [
              "0"
            ]
          },
          "metadata": {},
          "execution_count": 114
        }
      ]
    },
    {
      "cell_type": "code",
      "source": [
        "importances = pd.DataFrame({'feature' : X_train.columns, 'importance':RandomForestModel.feature_importances_})"
      ],
      "metadata": {
        "id": "Y0Ax1RAds1Kn"
      },
      "execution_count": null,
      "outputs": []
    },
    {
      "cell_type": "code",
      "source": [
        "importances = importances.sort_values('importance', ascending = False).set_index('feature')"
      ],
      "metadata": {
        "id": "qB6ufGyWs9Sy"
      },
      "execution_count": null,
      "outputs": []
    },
    {
      "cell_type": "code",
      "source": [
        "importances.head(9)\n"
      ],
      "metadata": {
        "colab": {
          "base_uri": "https://localhost:8080/",
          "height": 266
        },
        "id": "lqsO-rQJtCk6",
        "outputId": "77f38206-a94f-4208-cc1b-9ae236db9647"
      },
      "execution_count": null,
      "outputs": [
        {
          "output_type": "execute_result",
          "data": {
            "text/plain": [
              "         importance\n",
              "feature            \n",
              "Size       0.675398\n",
              "Parking    0.139550\n",
              "Toilets    0.105651\n",
              "Rooms      0.079401"
            ],
            "text/html": [
              "\n",
              "  <div id=\"df-86ebcdd9-7eb6-45b5-bb93-557b0cb17eb5\">\n",
              "    <div class=\"colab-df-container\">\n",
              "      <div>\n",
              "<style scoped>\n",
              "    .dataframe tbody tr th:only-of-type {\n",
              "        vertical-align: middle;\n",
              "    }\n",
              "\n",
              "    .dataframe tbody tr th {\n",
              "        vertical-align: top;\n",
              "    }\n",
              "\n",
              "    .dataframe thead th {\n",
              "        text-align: right;\n",
              "    }\n",
              "</style>\n",
              "<table border=\"1\" class=\"dataframe\">\n",
              "  <thead>\n",
              "    <tr style=\"text-align: right;\">\n",
              "      <th></th>\n",
              "      <th>importance</th>\n",
              "    </tr>\n",
              "    <tr>\n",
              "      <th>feature</th>\n",
              "      <th></th>\n",
              "    </tr>\n",
              "  </thead>\n",
              "  <tbody>\n",
              "    <tr>\n",
              "      <th>Size</th>\n",
              "      <td>0.675398</td>\n",
              "    </tr>\n",
              "    <tr>\n",
              "      <th>Parking</th>\n",
              "      <td>0.139550</td>\n",
              "    </tr>\n",
              "    <tr>\n",
              "      <th>Toilets</th>\n",
              "      <td>0.105651</td>\n",
              "    </tr>\n",
              "    <tr>\n",
              "      <th>Rooms</th>\n",
              "      <td>0.079401</td>\n",
              "    </tr>\n",
              "  </tbody>\n",
              "</table>\n",
              "</div>\n",
              "      <button class=\"colab-df-convert\" onclick=\"convertToInteractive('df-86ebcdd9-7eb6-45b5-bb93-557b0cb17eb5')\"\n",
              "              title=\"Convert this dataframe to an interactive table.\"\n",
              "              style=\"display:none;\">\n",
              "        \n",
              "  <svg xmlns=\"http://www.w3.org/2000/svg\" height=\"24px\"viewBox=\"0 0 24 24\"\n",
              "       width=\"24px\">\n",
              "    <path d=\"M0 0h24v24H0V0z\" fill=\"none\"/>\n",
              "    <path d=\"M18.56 5.44l.94 2.06.94-2.06 2.06-.94-2.06-.94-.94-2.06-.94 2.06-2.06.94zm-11 1L8.5 8.5l.94-2.06 2.06-.94-2.06-.94L8.5 2.5l-.94 2.06-2.06.94zm10 10l.94 2.06.94-2.06 2.06-.94-2.06-.94-.94-2.06-.94 2.06-2.06.94z\"/><path d=\"M17.41 7.96l-1.37-1.37c-.4-.4-.92-.59-1.43-.59-.52 0-1.04.2-1.43.59L10.3 9.45l-7.72 7.72c-.78.78-.78 2.05 0 2.83L4 21.41c.39.39.9.59 1.41.59.51 0 1.02-.2 1.41-.59l7.78-7.78 2.81-2.81c.8-.78.8-2.07 0-2.86zM5.41 20L4 18.59l7.72-7.72 1.47 1.35L5.41 20z\"/>\n",
              "  </svg>\n",
              "      </button>\n",
              "      \n",
              "  <style>\n",
              "    .colab-df-container {\n",
              "      display:flex;\n",
              "      flex-wrap:wrap;\n",
              "      gap: 12px;\n",
              "    }\n",
              "\n",
              "    .colab-df-convert {\n",
              "      background-color: #E8F0FE;\n",
              "      border: none;\n",
              "      border-radius: 50%;\n",
              "      cursor: pointer;\n",
              "      display: none;\n",
              "      fill: #1967D2;\n",
              "      height: 32px;\n",
              "      padding: 0 0 0 0;\n",
              "      width: 32px;\n",
              "    }\n",
              "\n",
              "    .colab-df-convert:hover {\n",
              "      background-color: #E2EBFA;\n",
              "      box-shadow: 0px 1px 2px rgba(60, 64, 67, 0.3), 0px 1px 3px 1px rgba(60, 64, 67, 0.15);\n",
              "      fill: #174EA6;\n",
              "    }\n",
              "\n",
              "    [theme=dark] .colab-df-convert {\n",
              "      background-color: #3B4455;\n",
              "      fill: #D2E3FC;\n",
              "    }\n",
              "\n",
              "    [theme=dark] .colab-df-convert:hover {\n",
              "      background-color: #434B5C;\n",
              "      box-shadow: 0px 1px 3px 1px rgba(0, 0, 0, 0.15);\n",
              "      filter: drop-shadow(0px 1px 2px rgba(0, 0, 0, 0.3));\n",
              "      fill: #FFFFFF;\n",
              "    }\n",
              "  </style>\n",
              "\n",
              "      <script>\n",
              "        const buttonEl =\n",
              "          document.querySelector('#df-86ebcdd9-7eb6-45b5-bb93-557b0cb17eb5 button.colab-df-convert');\n",
              "        buttonEl.style.display =\n",
              "          google.colab.kernel.accessAllowed ? 'block' : 'none';\n",
              "\n",
              "        async function convertToInteractive(key) {\n",
              "          const element = document.querySelector('#df-86ebcdd9-7eb6-45b5-bb93-557b0cb17eb5');\n",
              "          const dataTable =\n",
              "            await google.colab.kernel.invokeFunction('convertToInteractive',\n",
              "                                                     [key], {});\n",
              "          if (!dataTable) return;\n",
              "\n",
              "          const docLinkHtml = 'Like what you see? Visit the ' +\n",
              "            '<a target=\"_blank\" href=https://colab.research.google.com/notebooks/data_table.ipynb>data table notebook</a>'\n",
              "            + ' to learn more about interactive tables.';\n",
              "          element.innerHTML = '';\n",
              "          dataTable['output_type'] = 'display_data';\n",
              "          await google.colab.output.renderOutput(dataTable, element);\n",
              "          const docLink = document.createElement('div');\n",
              "          docLink.innerHTML = docLinkHtml;\n",
              "          element.appendChild(docLink);\n",
              "        }\n",
              "      </script>\n",
              "    </div>\n",
              "  </div>\n",
              "  "
            ]
          },
          "metadata": {},
          "execution_count": 117
        },
        {
          "output_type": "stream",
          "name": "stdout",
          "text": [
            "Error: Runtime no longer has a reference to this dataframe, please re-run this cell and try again.\n",
            "Error: Runtime no longer has a reference to this dataframe, please re-run this cell and try again.\n"
          ]
        }
      ]
    },
    {
      "cell_type": "code",
      "source": [
        "from matplotlib import pyplot as plt\n",
        "plt.style.use('ggplot')"
      ],
      "metadata": {
        "id": "iOEpXcaAtLI2"
      },
      "execution_count": null,
      "outputs": []
    },
    {
      "cell_type": "code",
      "source": [
        "importances.plot.bar()"
      ],
      "metadata": {
        "colab": {
          "base_uri": "https://localhost:8080/",
          "height": 328
        },
        "id": "zEXU5OyPtPrh",
        "outputId": "9679cabb-60e5-46a3-baa9-6691a3ac21cb"
      },
      "execution_count": null,
      "outputs": [
        {
          "output_type": "execute_result",
          "data": {
            "text/plain": [
              "<matplotlib.axes._subplots.AxesSubplot at 0x7f15b7073e90>"
            ]
          },
          "metadata": {},
          "execution_count": 119
        },
        {
          "output_type": "display_data",
          "data": {
            "text/plain": [
              "<Figure size 432x288 with 1 Axes>"
            ],
            "image/png": "[encoded data removed]"
          },
          "metadata": {}
        }
      ]
    },
    {
      "cell_type": "markdown",
      "source": [
        "#Modelo de SVM SAO-PAULO-PROPERTIES"
      ],
      "metadata": {
        "id": "Ibbd_MKi3gCz"
      }
    },
    {
      "cell_type": "code",
      "source": [
        "import pandas as pd\n",
        "import numpy as np\n",
        "import matplotlib.pyplot as plt\n",
        "%matplotlib inline"
      ],
      "metadata": {
        "id": "6_Xh6pl43fLz"
      },
      "execution_count": null,
      "outputs": []
    },
    {
      "cell_type": "markdown",
      "source": [
        "Importando el DataSet"
      ],
      "metadata": {
        "id": "d8H3akqS-pqq"
      }
    },
    {
      "cell_type": "code",
      "source": [
        "pd_dataframe, dataset_torch = read_dataset()\n",
        "\n",
        "\n",
        "\n"
      ],
      "metadata": {
        "id": "V5ePEvQa4HFx"
      },
      "execution_count": null,
      "outputs": []
    },
    {
      "cell_type": "markdown",
      "source": [
        "EDA"
      ],
      "metadata": {
        "id": "yrjxK0t972l2"
      }
    },
    {
      "cell_type": "code",
      "source": [
        "pd_dataframe.shape"
      ],
      "metadata": {
        "colab": {
          "base_uri": "https://localhost:8080/"
        },
        "id": "3E_1D4NQ7jCJ",
        "outputId": "7eda63b2-abbd-4c1d-f20d-1b4a15dad099"
      },
      "execution_count": null,
      "outputs": [
        {
          "output_type": "execute_result",
          "data": {
            "text/plain": [
              "(13640, 5)"
            ]
          },
          "metadata": {},
          "execution_count": 122
        }
      ]
    },
    {
      "cell_type": "code",
      "source": [
        "pd_dataframe.head()"
      ],
      "metadata": {
        "colab": {
          "base_uri": "https://localhost:8080/",
          "height": 206
        },
        "id": "TJ4pe3Pu7zZX",
        "outputId": "a4d70cc2-9408-4ec1-f3c6-708b0c2ddf32"
      },
      "execution_count": null,
      "outputs": [
        {
          "output_type": "execute_result",
          "data": {
            "text/plain": [
              "   Rooms  Size  Toilets  Parking  y\n",
              "0      2    47        2        1  1\n",
              "1      2    45        2        1  1\n",
              "2      2    48        2        1  1\n",
              "3      2    48        2        1  1\n",
              "4      2    55        2        1  1"
            ],
            "text/html": [
              "\n",
              "  <div id=\"df-0aa89a2e-e3fd-466d-b87d-60e29be21a9b\">\n",
              "    <div class=\"colab-df-container\">\n",
              "      <div>\n",
              "<style scoped>\n",
              "    .dataframe tbody tr th:only-of-type {\n",
              "        vertical-align: middle;\n",
              "    }\n",
              "\n",
              "    .dataframe tbody tr th {\n",
              "        vertical-align: top;\n",
              "    }\n",
              "\n",
              "    .dataframe thead th {\n",
              "        text-align: right;\n",
              "    }\n",
              "</style>\n",
              "<table border=\"1\" class=\"dataframe\">\n",
              "  <thead>\n",
              "    <tr style=\"text-align: right;\">\n",
              "      <th></th>\n",
              "      <th>Rooms</th>\n",
              "      <th>Size</th>\n",
              "      <th>Toilets</th>\n",
              "      <th>Parking</th>\n",
              "      <th>y</th>\n",
              "    </tr>\n",
              "  </thead>\n",
              "  <tbody>\n",
              "    <tr>\n",
              "      <th>0</th>\n",
              "      <td>2</td>\n",
              "      <td>47</td>\n",
              "      <td>2</td>\n",
              "      <td>1</td>\n",
              "      <td>1</td>\n",
              "    </tr>\n",
              "    <tr>\n",
              "      <th>1</th>\n",
              "      <td>2</td>\n",
              "      <td>45</td>\n",
              "      <td>2</td>\n",
              "      <td>1</td>\n",
              "      <td>1</td>\n",
              "    </tr>\n",
              "    <tr>\n",
              "      <th>2</th>\n",
              "      <td>2</td>\n",
              "      <td>48</td>\n",
              "      <td>2</td>\n",
              "      <td>1</td>\n",
              "      <td>1</td>\n",
              "    </tr>\n",
              "    <tr>\n",
              "      <th>3</th>\n",
              "      <td>2</td>\n",
              "      <td>48</td>\n",
              "      <td>2</td>\n",
              "      <td>1</td>\n",
              "      <td>1</td>\n",
              "    </tr>\n",
              "    <tr>\n",
              "      <th>4</th>\n",
              "      <td>2</td>\n",
              "      <td>55</td>\n",
              "      <td>2</td>\n",
              "      <td>1</td>\n",
              "      <td>1</td>\n",
              "    </tr>\n",
              "  </tbody>\n",
              "</table>\n",
              "</div>\n",
              "      <button class=\"colab-df-convert\" onclick=\"convertToInteractive('df-0aa89a2e-e3fd-466d-b87d-60e29be21a9b')\"\n",
              "              title=\"Convert this dataframe to an interactive table.\"\n",
              "              style=\"display:none;\">\n",
              "        \n",
              "  <svg xmlns=\"http://www.w3.org/2000/svg\" height=\"24px\"viewBox=\"0 0 24 24\"\n",
              "       width=\"24px\">\n",
              "    <path d=\"M0 0h24v24H0V0z\" fill=\"none\"/>\n",
              "    <path d=\"M18.56 5.44l.94 2.06.94-2.06 2.06-.94-2.06-.94-.94-2.06-.94 2.06-2.06.94zm-11 1L8.5 8.5l.94-2.06 2.06-.94-2.06-.94L8.5 2.5l-.94 2.06-2.06.94zm10 10l.94 2.06.94-2.06 2.06-.94-2.06-.94-.94-2.06-.94 2.06-2.06.94z\"/><path d=\"M17.41 7.96l-1.37-1.37c-.4-.4-.92-.59-1.43-.59-.52 0-1.04.2-1.43.59L10.3 9.45l-7.72 7.72c-.78.78-.78 2.05 0 2.83L4 21.41c.39.39.9.59 1.41.59.51 0 1.02-.2 1.41-.59l7.78-7.78 2.81-2.81c.8-.78.8-2.07 0-2.86zM5.41 20L4 18.59l7.72-7.72 1.47 1.35L5.41 20z\"/>\n",
              "  </svg>\n",
              "      </button>\n",
              "      \n",
              "  <style>\n",
              "    .colab-df-container {\n",
              "      display:flex;\n",
              "      flex-wrap:wrap;\n",
              "      gap: 12px;\n",
              "    }\n",
              "\n",
              "    .colab-df-convert {\n",
              "      background-color: #E8F0FE;\n",
              "      border: none;\n",
              "      border-radius: 50%;\n",
              "      cursor: pointer;\n",
              "      display: none;\n",
              "      fill: #1967D2;\n",
              "      height: 32px;\n",
              "      padding: 0 0 0 0;\n",
              "      width: 32px;\n",
              "    }\n",
              "\n",
              "    .colab-df-convert:hover {\n",
              "      background-color: #E2EBFA;\n",
              "      box-shadow: 0px 1px 2px rgba(60, 64, 67, 0.3), 0px 1px 3px 1px rgba(60, 64, 67, 0.15);\n",
              "      fill: #174EA6;\n",
              "    }\n",
              "\n",
              "    [theme=dark] .colab-df-convert {\n",
              "      background-color: #3B4455;\n",
              "      fill: #D2E3FC;\n",
              "    }\n",
              "\n",
              "    [theme=dark] .colab-df-convert:hover {\n",
              "      background-color: #434B5C;\n",
              "      box-shadow: 0px 1px 3px 1px rgba(0, 0, 0, 0.15);\n",
              "      filter: drop-shadow(0px 1px 2px rgba(0, 0, 0, 0.3));\n",
              "      fill: #FFFFFF;\n",
              "    }\n",
              "  </style>\n",
              "\n",
              "      <script>\n",
              "        const buttonEl =\n",
              "          document.querySelector('#df-0aa89a2e-e3fd-466d-b87d-60e29be21a9b button.colab-df-convert');\n",
              "        buttonEl.style.display =\n",
              "          google.colab.kernel.accessAllowed ? 'block' : 'none';\n",
              "\n",
              "        async function convertToInteractive(key) {\n",
              "          const element = document.querySelector('#df-0aa89a2e-e3fd-466d-b87d-60e29be21a9b');\n",
              "          const dataTable =\n",
              "            await google.colab.kernel.invokeFunction('convertToInteractive',\n",
              "                                                     [key], {});\n",
              "          if (!dataTable) return;\n",
              "\n",
              "          const docLinkHtml = 'Like what you see? Visit the ' +\n",
              "            '<a target=\"_blank\" href=https://colab.research.google.com/notebooks/data_table.ipynb>data table notebook</a>'\n",
              "            + ' to learn more about interactive tables.';\n",
              "          element.innerHTML = '';\n",
              "          dataTable['output_type'] = 'display_data';\n",
              "          await google.colab.output.renderOutput(dataTable, element);\n",
              "          const docLink = document.createElement('div');\n",
              "          docLink.innerHTML = docLinkHtml;\n",
              "          element.appendChild(docLink);\n",
              "        }\n",
              "      </script>\n",
              "    </div>\n",
              "  </div>\n",
              "  "
            ]
          },
          "metadata": {},
          "execution_count": 123
        }
      ]
    },
    {
      "cell_type": "code",
      "source": [
        "explicativas = pd_dataframe.drop(columns='y')\n",
        "objetivo = pd_dataframe.y"
      ],
      "metadata": {
        "id": "1UrfVDoGgNXR"
      },
      "execution_count": null,
      "outputs": []
    },
    {
      "cell_type": "markdown",
      "source": [
        "Preprocesamiento:"
      ],
      "metadata": {
        "id": "o5TfLtbX7QeU"
      }
    },
    {
      "cell_type": "code",
      "source": [
        "from sklearn.model_selection import train_test_split\n",
        "X_train, X_test, y_train, y_test = train_test_split(explicativas,objetivo, test_size = 0.20)"
      ],
      "metadata": {
        "id": "9vWOjo2V5c8A"
      },
      "execution_count": null,
      "outputs": []
    },
    {
      "cell_type": "markdown",
      "source": [
        "Entrenando el Algoritmo:"
      ],
      "metadata": {
        "id": "QqAXSwtZ7FGK"
      }
    },
    {
      "cell_type": "code",
      "source": [
        "from sklearn.svm import SVC\n",
        "svclassifier = SVC(kernel='linear')\n",
        "svclassifier.fit(X_train, y_train)"
      ],
      "metadata": {
        "colab": {
          "base_uri": "https://localhost:8080/"
        },
        "id": "3Mf5bGPA6Evc",
        "outputId": "95cf5228-1841-41ed-e696-bd186961fe5e"
      },
      "execution_count": null,
      "outputs": [
        {
          "output_type": "execute_result",
          "data": {
            "text/plain": [
              "SVC(kernel='linear')"
            ]
          },
          "metadata": {},
          "execution_count": 126
        }
      ]
    },
    {
      "cell_type": "markdown",
      "source": [
        "Haciendo las predicciones :"
      ],
      "metadata": {
        "id": "DTBiX71A6_e5"
      }
    },
    {
      "cell_type": "code",
      "source": [
        "y_pred = svclassifier.predict(X_test)"
      ],
      "metadata": {
        "id": "Eq-Mx0H96KQY"
      },
      "execution_count": null,
      "outputs": []
    },
    {
      "cell_type": "markdown",
      "source": [
        "Evaluación del Algoritmo y Resultados\n",
        "\n",
        "Los resultados de la Evaluación son :"
      ],
      "metadata": {
        "id": "l22ehr_j6fqj"
      }
    },
    {
      "cell_type": "code",
      "source": [
        "from sklearn.metrics import classification_report, confusion_matrix\n",
        "print(confusion_matrix(y_test,y_pred))\n",
        "print(classification_report(y_test,y_pred))"
      ],
      "metadata": {
        "colab": {
          "base_uri": "https://localhost:8080/"
        },
        "id": "XfCrBoqT6MyJ",
        "outputId": "a2917f7e-72ba-4f66-d611-09ef652cd461"
      },
      "execution_count": null,
      "outputs": [
        {
          "output_type": "stream",
          "name": "stdout",
          "text": [
            "[[2127    0    0    0]\n",
            " [ 200    0    0    0]\n",
            " [ 208    0    0    0]\n",
            " [ 193    0    0    0]]\n",
            "              precision    recall  f1-score   support\n",
            "\n",
            "           1       0.78      1.00      0.88      2127\n",
            "           2       0.00      0.00      0.00       200\n",
            "           3       0.00      0.00      0.00       208\n",
            "           4       0.00      0.00      0.00       193\n",
            "\n",
            "    accuracy                           0.78      2728\n",
            "   macro avg       0.19      0.25      0.22      2728\n",
            "weighted avg       0.61      0.78      0.68      2728\n",
            "\n"
          ]
        },
        {
          "output_type": "stream",
          "name": "stderr",
          "text": [
            "/usr/local/lib/python3.7/dist-packages/sklearn/metrics/_classification.py:1318: UndefinedMetricWarning: Precision and F-score are ill-defined and being set to 0.0 in labels with no predicted samples. Use `zero_division` parameter to control this behavior.\n",
            "  _warn_prf(average, modifier, msg_start, len(result))\n",
            "/usr/local/lib/python3.7/dist-packages/sklearn/metrics/_classification.py:1318: UndefinedMetricWarning: Precision and F-score are ill-defined and being set to 0.0 in labels with no predicted samples. Use `zero_division` parameter to control this behavior.\n",
            "  _warn_prf(average, modifier, msg_start, len(result))\n",
            "/usr/local/lib/python3.7/dist-packages/sklearn/metrics/_classification.py:1318: UndefinedMetricWarning: Precision and F-score are ill-defined and being set to 0.0 in labels with no predicted samples. Use `zero_division` parameter to control this behavior.\n",
            "  _warn_prf(average, modifier, msg_start, len(result))\n"
          ]
        }
      ]
    },
    {
      "cell_type": "markdown",
      "source": [
        "#Modelo KERNEL SVM SAO-PAULO-PROPERTIES\n",
        "\n"
      ],
      "metadata": {
        "id": "pVPukgvo6eDa"
      }
    },
    {
      "cell_type": "code",
      "source": [
        "import pandas as pd\n",
        "import numpy as np\n",
        "import matplotlib.pyplot as plt\n",
        "%matplotlib inline"
      ],
      "metadata": {
        "id": "mDHEEzZd_q2U"
      },
      "execution_count": null,
      "outputs": []
    },
    {
      "cell_type": "code",
      "source": [
        "pd_dataframe, dataset_torch = read_dataset()"
      ],
      "metadata": {
        "id": "pANCAZvb_uDz"
      },
      "execution_count": null,
      "outputs": []
    },
    {
      "cell_type": "code",
      "source": [
        "explicativas = pd_dataframe.drop(columns='y')\n",
        "objetivo = pd_dataframe.y"
      ],
      "metadata": {
        "id": "ERaT1LXqg0J1"
      },
      "execution_count": null,
      "outputs": []
    },
    {
      "cell_type": "code",
      "source": [
        "from sklearn.model_selection import train_test_split\n",
        "X_train, X_test, y_train, y_test = train_test_split(explicativas,objetivo, test_size = 0.20)"
      ],
      "metadata": {
        "id": "l95eudmw_utC"
      },
      "execution_count": null,
      "outputs": []
    },
    {
      "cell_type": "markdown",
      "source": [
        "1. Gaussian Kernel"
      ],
      "metadata": {
        "id": "gEzN4NZhAL8u"
      }
    },
    {
      "cell_type": "code",
      "source": [
        "from sklearn.svm import SVC\n",
        "svclassifier = SVC(kernel='rbf')\n",
        "svclassifier.fit(X_train, y_train)"
      ],
      "metadata": {
        "colab": {
          "base_uri": "https://localhost:8080/"
        },
        "id": "6IzTwfTaANDy",
        "outputId": "462b513b-06b2-44df-cbab-b32217f428f8"
      },
      "execution_count": null,
      "outputs": [
        {
          "output_type": "execute_result",
          "data": {
            "text/plain": [
              "SVC()"
            ]
          },
          "metadata": {},
          "execution_count": 133
        }
      ]
    },
    {
      "cell_type": "code",
      "source": [
        "y_pred = svclassifier.predict(X_test)"
      ],
      "metadata": {
        "id": "IyL7Zn8LAQ9b"
      },
      "execution_count": null,
      "outputs": []
    },
    {
      "cell_type": "code",
      "source": [
        "from sklearn.metrics import classification_report, confusion_matrix\n",
        "print(confusion_matrix(y_test, y_pred))\n",
        "print(classification_report(y_test, y_pred))"
      ],
      "metadata": {
        "colab": {
          "base_uri": "https://localhost:8080/"
        },
        "id": "J-nv1MW0AUNT",
        "outputId": "09bd0a67-bee4-4027-d51f-62c2aaab46fc"
      },
      "execution_count": null,
      "outputs": [
        {
          "output_type": "stream",
          "name": "stdout",
          "text": [
            "[[2136    0    0    0]\n",
            " [ 203    0    0    0]\n",
            " [ 191    0    0    0]\n",
            " [ 198    0    0    0]]\n",
            "              precision    recall  f1-score   support\n",
            "\n",
            "           1       0.78      1.00      0.88      2136\n",
            "           2       0.00      0.00      0.00       203\n",
            "           3       0.00      0.00      0.00       191\n",
            "           4       0.00      0.00      0.00       198\n",
            "\n",
            "    accuracy                           0.78      2728\n",
            "   macro avg       0.20      0.25      0.22      2728\n",
            "weighted avg       0.61      0.78      0.69      2728\n",
            "\n"
          ]
        },
        {
          "output_type": "stream",
          "name": "stderr",
          "text": [
            "/usr/local/lib/python3.7/dist-packages/sklearn/metrics/_classification.py:1318: UndefinedMetricWarning: Precision and F-score are ill-defined and being set to 0.0 in labels with no predicted samples. Use `zero_division` parameter to control this behavior.\n",
            "  _warn_prf(average, modifier, msg_start, len(result))\n",
            "/usr/local/lib/python3.7/dist-packages/sklearn/metrics/_classification.py:1318: UndefinedMetricWarning: Precision and F-score are ill-defined and being set to 0.0 in labels with no predicted samples. Use `zero_division` parameter to control this behavior.\n",
            "  _warn_prf(average, modifier, msg_start, len(result))\n",
            "/usr/local/lib/python3.7/dist-packages/sklearn/metrics/_classification.py:1318: UndefinedMetricWarning: Precision and F-score are ill-defined and being set to 0.0 in labels with no predicted samples. Use `zero_division` parameter to control this behavior.\n",
            "  _warn_prf(average, modifier, msg_start, len(result))\n"
          ]
        }
      ]
    },
    {
      "cell_type": "markdown",
      "source": [
        "2. Sigmoid Kernel"
      ],
      "metadata": {
        "id": "7S0-TEpsAWvj"
      }
    },
    {
      "cell_type": "code",
      "source": [
        "from sklearn.svm import SVC\n",
        "svclassifier = SVC(kernel='sigmoid')\n",
        "svclassifier.fit(X_train, y_train)"
      ],
      "metadata": {
        "colab": {
          "base_uri": "https://localhost:8080/"
        },
        "id": "_e1KHjmTAYvx",
        "outputId": "11384c8a-e21b-40da-faa2-3f8ff0b339b6"
      },
      "execution_count": null,
      "outputs": [
        {
          "output_type": "execute_result",
          "data": {
            "text/plain": [
              "SVC(kernel='sigmoid')"
            ]
          },
          "metadata": {},
          "execution_count": 136
        }
      ]
    },
    {
      "cell_type": "code",
      "source": [
        "y_pred = svclassifier.predict(X_test)"
      ],
      "metadata": {
        "id": "Yxk55H6-Ab1s"
      },
      "execution_count": null,
      "outputs": []
    },
    {
      "cell_type": "code",
      "source": [
        "from sklearn.metrics import classification_report, confusion_matrix\n",
        "print(confusion_matrix(y_test, y_pred))\n",
        "print(classification_report(y_test, y_pred))"
      ],
      "metadata": {
        "colab": {
          "base_uri": "https://localhost:8080/"
        },
        "id": "X3YGALXwAeai",
        "outputId": "471f93dd-6e08-496e-e1a7-fd3fc687a0e7"
      },
      "execution_count": null,
      "outputs": [
        {
          "output_type": "stream",
          "name": "stdout",
          "text": [
            "[[2136    0    0    0]\n",
            " [ 203    0    0    0]\n",
            " [ 191    0    0    0]\n",
            " [ 198    0    0    0]]\n",
            "              precision    recall  f1-score   support\n",
            "\n",
            "           1       0.78      1.00      0.88      2136\n",
            "           2       0.00      0.00      0.00       203\n",
            "           3       0.00      0.00      0.00       191\n",
            "           4       0.00      0.00      0.00       198\n",
            "\n",
            "    accuracy                           0.78      2728\n",
            "   macro avg       0.20      0.25      0.22      2728\n",
            "weighted avg       0.61      0.78      0.69      2728\n",
            "\n"
          ]
        },
        {
          "output_type": "stream",
          "name": "stderr",
          "text": [
            "/usr/local/lib/python3.7/dist-packages/sklearn/metrics/_classification.py:1318: UndefinedMetricWarning: Precision and F-score are ill-defined and being set to 0.0 in labels with no predicted samples. Use `zero_division` parameter to control this behavior.\n",
            "  _warn_prf(average, modifier, msg_start, len(result))\n",
            "/usr/local/lib/python3.7/dist-packages/sklearn/metrics/_classification.py:1318: UndefinedMetricWarning: Precision and F-score are ill-defined and being set to 0.0 in labels with no predicted samples. Use `zero_division` parameter to control this behavior.\n",
            "  _warn_prf(average, modifier, msg_start, len(result))\n",
            "/usr/local/lib/python3.7/dist-packages/sklearn/metrics/_classification.py:1318: UndefinedMetricWarning: Precision and F-score are ill-defined and being set to 0.0 in labels with no predicted samples. Use `zero_division` parameter to control this behavior.\n",
            "  _warn_prf(average, modifier, msg_start, len(result))\n"
          ]
        }
      ]
    },
    {
      "cell_type": "markdown",
      "source": [
        "3. Polynomial Kernel"
      ],
      "metadata": {
        "id": "HBirNWrf_9eZ"
      }
    },
    {
      "cell_type": "code",
      "source": [
        "from sklearn.svm import SVC\n",
        "svclassifier = SVC(kernel='poly', degree=2)\n",
        "svclassifier.fit(X_train, y_train)"
      ],
      "metadata": {
        "id": "iXkV2Mo2AAVg",
        "colab": {
          "base_uri": "https://localhost:8080/"
        },
        "outputId": "b6ad689f-0af1-4154-8bc2-4967d4c6e51c"
      },
      "execution_count": null,
      "outputs": [
        {
          "output_type": "execute_result",
          "data": {
            "text/plain": [
              "SVC(degree=2, kernel='poly')"
            ]
          },
          "metadata": {},
          "execution_count": 69
        }
      ]
    },
    {
      "cell_type": "code",
      "source": [
        "y_pred = svclassifier.predict(X_test)"
      ],
      "metadata": {
        "id": "-bOAe41JAEag"
      },
      "execution_count": null,
      "outputs": []
    },
    {
      "cell_type": "code",
      "source": [
        "from sklearn.metrics import classification_report, confusion_matrix\n",
        "print(confusion_matrix(y_test, y_pred))\n",
        "print(classification_report(y_test, y_pred))"
      ],
      "metadata": {
        "id": "0RCRsdLRAIWI",
        "colab": {
          "base_uri": "https://localhost:8080/"
        },
        "outputId": "69367cc7-a8f4-4ca2-cdf6-bbc577995550"
      },
      "execution_count": null,
      "outputs": [
        {
          "output_type": "stream",
          "name": "stdout",
          "text": [
            "[[2129    0    0    0]\n",
            " [ 196    0    0    0]\n",
            " [ 209    0    0    0]\n",
            " [ 194    0    0    0]]\n",
            "              precision    recall  f1-score   support\n",
            "\n",
            "           1       0.78      1.00      0.88      2129\n",
            "           2       0.00      0.00      0.00       196\n",
            "           3       0.00      0.00      0.00       209\n",
            "           4       0.00      0.00      0.00       194\n",
            "\n",
            "    accuracy                           0.78      2728\n",
            "   macro avg       0.20      0.25      0.22      2728\n",
            "weighted avg       0.61      0.78      0.68      2728\n",
            "\n"
          ]
        },
        {
          "output_type": "stream",
          "name": "stderr",
          "text": [
            "/usr/local/lib/python3.7/dist-packages/sklearn/metrics/_classification.py:1318: UndefinedMetricWarning: Precision and F-score are ill-defined and being set to 0.0 in labels with no predicted samples. Use `zero_division` parameter to control this behavior.\n",
            "  _warn_prf(average, modifier, msg_start, len(result))\n",
            "/usr/local/lib/python3.7/dist-packages/sklearn/metrics/_classification.py:1318: UndefinedMetricWarning: Precision and F-score are ill-defined and being set to 0.0 in labels with no predicted samples. Use `zero_division` parameter to control this behavior.\n",
            "  _warn_prf(average, modifier, msg_start, len(result))\n",
            "/usr/local/lib/python3.7/dist-packages/sklearn/metrics/_classification.py:1318: UndefinedMetricWarning: Precision and F-score are ill-defined and being set to 0.0 in labels with no predicted samples. Use `zero_division` parameter to control this behavior.\n",
            "  _warn_prf(average, modifier, msg_start, len(result))\n"
          ]
        }
      ]
    },
    {
      "cell_type": "markdown",
      "source": [
        "# Compuertas XOR"
      ],
      "metadata": {
        "id": "EL6lUJspVguV"
      }
    },
    {
      "cell_type": "markdown",
      "source": [
        "Tenemos dos entradas binarias (1 ó 0) y la salida será 1 sólo si una de las entradas es verdadera (1) y la otra falsa (0).\n",
        "\n",
        "De cuatro combinaciones posibles, sólo dos tienen salida 1 y las otras dos serán 0:\n",
        "\n",
        "    XOR(0,0) = 0\n",
        "    XOR(0,1) = 1\n",
        "    XOR(1,0) = 1\n",
        "    XOR(1,1) = 0"
      ],
      "metadata": {
        "id": "yVu8xxMpSGDw"
      }
    },
    {
      "cell_type": "code",
      "source": [
        "# carga de librerías\n",
        "from keras.models import Sequential\n",
        "from keras.layers.core import Dense"
      ],
      "metadata": {
        "id": "Ih7nLfP7No_G"
      },
      "execution_count": null,
      "outputs": []
    },
    {
      "cell_type": "code",
      "source": [
        "# creamos los arrays de entrada y salida\n",
        "# cargamos las 4 combinaciones de las compuertas XOR\n",
        "explicativas = np.array([[0,0],[0,1],[1,0],[1,1]], \"float32\")\n",
        " \n",
        "# resultados que se obtienen, en el mismo orden\n",
        "objetivo = np.array([[0],[1],[1],[0]], \"float32\")"
      ],
      "metadata": {
        "id": "NmFN9tTjNwFA"
      },
      "execution_count": null,
      "outputs": []
    },
    {
      "cell_type": "code",
      "source": [
        "# creamos la arquitectura de la red neuronal\n",
        "model = Sequential()\n",
        "model.add(Dense(16, input_dim=2, activation='relu'))\n",
        "model.add(Dense(1, activation='sigmoid'))"
      ],
      "metadata": {
        "id": "E2OAZrNmOo3L"
      },
      "execution_count": null,
      "outputs": []
    },
    {
      "cell_type": "code",
      "source": [
        "# entrenamos la red\n",
        "model.compile(loss='mean_squared_error',\n",
        "              optimizer='adam',\n",
        "              metrics=['binary_accuracy'])\n",
        "\t\n",
        "model.compile(loss='mean_squared_error',\n",
        "              optimizer='adam',\n",
        "              metrics=['binary_accuracy'])"
      ],
      "metadata": {
        "id": "GBkgcT4TO6xK"
      },
      "execution_count": null,
      "outputs": []
    },
    {
      "cell_type": "code",
      "source": [
        "# resultados del entrenamiento\n",
        "model.fit(explicativas, objetivo, epochs=1000)"
      ],
      "metadata": {
        "colab": {
          "base_uri": "https://localhost:8080/"
        },
        "id": "aeQq40C0PJN5",
        "outputId": "68bfab3f-080c-486f-c30a-5460ecf92137"
      },
      "execution_count": null,
      "outputs": [
        {
          "output_type": "stream",
          "name": "stdout",
          "text": [
            "Epoch 1/1000\n",
            "1/1 [==============================] - 1s 1s/step - loss: 0.2753 - binary_accuracy: 0.5000\n",
            "Epoch 2/1000\n",
            "1/1 [==============================] - 0s 20ms/step - loss: 0.2745 - binary_accuracy: 0.2500\n",
            "Epoch 3/1000\n",
            "1/1 [==============================] - 0s 24ms/step - loss: 0.2736 - binary_accuracy: 0.2500\n",
            "Epoch 4/1000\n",
            "1/1 [==============================] - 0s 21ms/step - loss: 0.2727 - binary_accuracy: 0.2500\n",
            "Epoch 5/1000\n",
            "1/1 [==============================] - 0s 19ms/step - loss: 0.2719 - binary_accuracy: 0.2500\n",
            "Epoch 6/1000\n",
            "1/1 [==============================] - 0s 32ms/step - loss: 0.2710 - binary_accuracy: 0.2500\n",
            "Epoch 7/1000\n",
            "1/1 [==============================] - 0s 15ms/step - loss: 0.2702 - binary_accuracy: 0.2500\n",
            "Epoch 8/1000\n",
            "1/1 [==============================] - 0s 24ms/step - loss: 0.2694 - binary_accuracy: 0.2500\n",
            "Epoch 9/1000\n",
            "1/1 [==============================] - 0s 23ms/step - loss: 0.2686 - binary_accuracy: 0.2500\n",
            "Epoch 10/1000\n",
            "1/1 [==============================] - 0s 17ms/step - loss: 0.2678 - binary_accuracy: 0.2500\n",
            "Epoch 11/1000\n",
            "1/1 [==============================] - 0s 16ms/step - loss: 0.2671 - binary_accuracy: 0.2500\n",
            "Epoch 12/1000\n",
            "1/1 [==============================] - 0s 16ms/step - loss: 0.2663 - binary_accuracy: 0.2500\n",
            "Epoch 13/1000\n",
            "1/1 [==============================] - 0s 19ms/step - loss: 0.2656 - binary_accuracy: 0.2500\n",
            "Epoch 14/1000\n",
            "1/1 [==============================] - 0s 17ms/step - loss: 0.2649 - binary_accuracy: 0.2500\n",
            "Epoch 15/1000\n",
            "1/1 [==============================] - 0s 14ms/step - loss: 0.2641 - binary_accuracy: 0.2500\n",
            "Epoch 16/1000\n",
            "1/1 [==============================] - 0s 16ms/step - loss: 0.2634 - binary_accuracy: 0.2500\n",
            "Epoch 17/1000\n",
            "1/1 [==============================] - 0s 17ms/step - loss: 0.2628 - binary_accuracy: 0.2500\n",
            "Epoch 18/1000\n",
            "1/1 [==============================] - 0s 20ms/step - loss: 0.2621 - binary_accuracy: 0.2500\n",
            "Epoch 19/1000\n",
            "1/1 [==============================] - 0s 15ms/step - loss: 0.2614 - binary_accuracy: 0.2500\n",
            "Epoch 20/1000\n",
            "1/1 [==============================] - 0s 23ms/step - loss: 0.2608 - binary_accuracy: 0.2500\n",
            "Epoch 21/1000\n",
            "1/1 [==============================] - 0s 23ms/step - loss: 0.2601 - binary_accuracy: 0.2500\n",
            "Epoch 22/1000\n",
            "1/1 [==============================] - 0s 14ms/step - loss: 0.2595 - binary_accuracy: 0.2500\n",
            "Epoch 23/1000\n",
            "1/1 [==============================] - 0s 16ms/step - loss: 0.2589 - binary_accuracy: 0.2500\n",
            "Epoch 24/1000\n",
            "1/1 [==============================] - 0s 16ms/step - loss: 0.2583 - binary_accuracy: 0.2500\n",
            "Epoch 25/1000\n",
            "1/1 [==============================] - 0s 14ms/step - loss: 0.2578 - binary_accuracy: 0.2500\n",
            "Epoch 26/1000\n",
            "1/1 [==============================] - 0s 14ms/step - loss: 0.2572 - binary_accuracy: 0.2500\n",
            "Epoch 27/1000\n",
            "1/1 [==============================] - 0s 15ms/step - loss: 0.2566 - binary_accuracy: 0.2500\n",
            "Epoch 28/1000\n",
            "1/1 [==============================] - 0s 15ms/step - loss: 0.2561 - binary_accuracy: 0.5000\n",
            "Epoch 29/1000\n",
            "1/1 [==============================] - 0s 14ms/step - loss: 0.2556 - binary_accuracy: 0.5000\n",
            "Epoch 30/1000\n",
            "1/1 [==============================] - 0s 12ms/step - loss: 0.2550 - binary_accuracy: 0.5000\n",
            "Epoch 31/1000\n",
            "1/1 [==============================] - 0s 12ms/step - loss: 0.2545 - binary_accuracy: 0.5000\n",
            "Epoch 32/1000\n",
            "1/1 [==============================] - 0s 13ms/step - loss: 0.2540 - binary_accuracy: 0.5000\n",
            "Epoch 33/1000\n",
            "1/1 [==============================] - 0s 21ms/step - loss: 0.2536 - binary_accuracy: 0.5000\n",
            "Epoch 34/1000\n",
            "1/1 [==============================] - 0s 15ms/step - loss: 0.2531 - binary_accuracy: 0.5000\n",
            "Epoch 35/1000\n",
            "1/1 [==============================] - 0s 16ms/step - loss: 0.2526 - binary_accuracy: 0.5000\n",
            "Epoch 36/1000\n",
            "1/1 [==============================] - 0s 18ms/step - loss: 0.2522 - binary_accuracy: 0.5000\n",
            "Epoch 37/1000\n",
            "1/1 [==============================] - 0s 15ms/step - loss: 0.2518 - binary_accuracy: 0.5000\n",
            "Epoch 38/1000\n",
            "1/1 [==============================] - 0s 11ms/step - loss: 0.2514 - binary_accuracy: 0.5000\n",
            "Epoch 39/1000\n",
            "1/1 [==============================] - 0s 19ms/step - loss: 0.2510 - binary_accuracy: 0.5000\n",
            "Epoch 40/1000\n",
            "1/1 [==============================] - 0s 21ms/step - loss: 0.2506 - binary_accuracy: 0.5000\n",
            "Epoch 41/1000\n",
            "1/1 [==============================] - 0s 19ms/step - loss: 0.2503 - binary_accuracy: 0.5000\n",
            "Epoch 42/1000\n",
            "1/1 [==============================] - 0s 18ms/step - loss: 0.2499 - binary_accuracy: 0.5000\n",
            "Epoch 43/1000\n",
            "1/1 [==============================] - 0s 10ms/step - loss: 0.2495 - binary_accuracy: 0.5000\n",
            "Epoch 44/1000\n",
            "1/1 [==============================] - 0s 12ms/step - loss: 0.2492 - binary_accuracy: 0.5000\n",
            "Epoch 45/1000\n",
            "1/1 [==============================] - 0s 22ms/step - loss: 0.2488 - binary_accuracy: 0.5000\n",
            "Epoch 46/1000\n",
            "1/1 [==============================] - 0s 22ms/step - loss: 0.2485 - binary_accuracy: 0.5000\n",
            "Epoch 47/1000\n",
            "1/1 [==============================] - 0s 21ms/step - loss: 0.2482 - binary_accuracy: 0.5000\n",
            "Epoch 48/1000\n",
            "1/1 [==============================] - 0s 20ms/step - loss: 0.2478 - binary_accuracy: 0.5000\n",
            "Epoch 49/1000\n",
            "1/1 [==============================] - 0s 20ms/step - loss: 0.2475 - binary_accuracy: 0.5000\n",
            "Epoch 50/1000\n",
            "1/1 [==============================] - 0s 13ms/step - loss: 0.2472 - binary_accuracy: 0.5000\n",
            "Epoch 51/1000\n",
            "1/1 [==============================] - 0s 12ms/step - loss: 0.2469 - binary_accuracy: 0.5000\n",
            "Epoch 52/1000\n",
            "1/1 [==============================] - 0s 13ms/step - loss: 0.2466 - binary_accuracy: 0.5000\n",
            "Epoch 53/1000\n",
            "1/1 [==============================] - 0s 15ms/step - loss: 0.2463 - binary_accuracy: 0.5000\n",
            "Epoch 54/1000\n",
            "1/1 [==============================] - 0s 14ms/step - loss: 0.2460 - binary_accuracy: 0.5000\n",
            "Epoch 55/1000\n",
            "1/1 [==============================] - 0s 14ms/step - loss: 0.2457 - binary_accuracy: 0.5000\n",
            "Epoch 56/1000\n",
            "1/1 [==============================] - 0s 24ms/step - loss: 0.2454 - binary_accuracy: 0.5000\n",
            "Epoch 57/1000\n",
            "1/1 [==============================] - 0s 42ms/step - loss: 0.2451 - binary_accuracy: 0.5000\n",
            "Epoch 58/1000\n",
            "1/1 [==============================] - 0s 15ms/step - loss: 0.2448 - binary_accuracy: 0.5000\n",
            "Epoch 59/1000\n",
            "1/1 [==============================] - 0s 27ms/step - loss: 0.2446 - binary_accuracy: 0.5000\n",
            "Epoch 60/1000\n",
            "1/1 [==============================] - 0s 16ms/step - loss: 0.2443 - binary_accuracy: 0.5000\n",
            "Epoch 61/1000\n",
            "1/1 [==============================] - 0s 18ms/step - loss: 0.2440 - binary_accuracy: 0.5000\n",
            "Epoch 62/1000\n",
            "1/1 [==============================] - 0s 17ms/step - loss: 0.2438 - binary_accuracy: 0.5000\n",
            "Epoch 63/1000\n",
            "1/1 [==============================] - 0s 22ms/step - loss: 0.2435 - binary_accuracy: 0.5000\n",
            "Epoch 64/1000\n",
            "1/1 [==============================] - 0s 21ms/step - loss: 0.2432 - binary_accuracy: 0.5000\n",
            "Epoch 65/1000\n",
            "1/1 [==============================] - 0s 16ms/step - loss: 0.2430 - binary_accuracy: 0.5000\n",
            "Epoch 66/1000\n",
            "1/1 [==============================] - 0s 11ms/step - loss: 0.2427 - binary_accuracy: 0.5000\n",
            "Epoch 67/1000\n",
            "1/1 [==============================] - 0s 8ms/step - loss: 0.2425 - binary_accuracy: 0.5000\n",
            "Epoch 68/1000\n",
            "1/1 [==============================] - 0s 10ms/step - loss: 0.2422 - binary_accuracy: 0.5000\n",
            "Epoch 69/1000\n",
            "1/1 [==============================] - 0s 18ms/step - loss: 0.2420 - binary_accuracy: 0.5000\n",
            "Epoch 70/1000\n",
            "1/1 [==============================] - 0s 19ms/step - loss: 0.2417 - binary_accuracy: 0.5000\n",
            "Epoch 71/1000\n",
            "1/1 [==============================] - 0s 11ms/step - loss: 0.2415 - binary_accuracy: 0.5000\n",
            "Epoch 72/1000\n",
            "1/1 [==============================] - 0s 10ms/step - loss: 0.2412 - binary_accuracy: 0.5000\n",
            "Epoch 73/1000\n",
            "1/1 [==============================] - 0s 18ms/step - loss: 0.2410 - binary_accuracy: 0.5000\n",
            "Epoch 74/1000\n",
            "1/1 [==============================] - 0s 19ms/step - loss: 0.2407 - binary_accuracy: 0.5000\n",
            "Epoch 75/1000\n",
            "1/1 [==============================] - 0s 10ms/step - loss: 0.2405 - binary_accuracy: 0.5000\n",
            "Epoch 76/1000\n",
            "1/1 [==============================] - 0s 6ms/step - loss: 0.2403 - binary_accuracy: 0.5000\n",
            "Epoch 77/1000\n",
            "1/1 [==============================] - 0s 12ms/step - loss: 0.2400 - binary_accuracy: 0.5000\n",
            "Epoch 78/1000\n",
            "1/1 [==============================] - 0s 17ms/step - loss: 0.2398 - binary_accuracy: 0.5000\n",
            "Epoch 79/1000\n",
            "1/1 [==============================] - 0s 14ms/step - loss: 0.2395 - binary_accuracy: 0.5000\n",
            "Epoch 80/1000\n",
            "1/1 [==============================] - 0s 18ms/step - loss: 0.2393 - binary_accuracy: 0.5000\n",
            "Epoch 81/1000\n",
            "1/1 [==============================] - 0s 8ms/step - loss: 0.2391 - binary_accuracy: 0.5000\n",
            "Epoch 82/1000\n",
            "1/1 [==============================] - 0s 21ms/step - loss: 0.2388 - binary_accuracy: 0.5000\n",
            "Epoch 83/1000\n",
            "1/1 [==============================] - 0s 20ms/step - loss: 0.2386 - binary_accuracy: 0.5000\n",
            "Epoch 84/1000\n",
            "1/1 [==============================] - 0s 8ms/step - loss: 0.2383 - binary_accuracy: 0.5000\n",
            "Epoch 85/1000\n",
            "1/1 [==============================] - 0s 12ms/step - loss: 0.2381 - binary_accuracy: 0.5000\n",
            "Epoch 86/1000\n",
            "1/1 [==============================] - 0s 7ms/step - loss: 0.2379 - binary_accuracy: 0.5000\n",
            "Epoch 87/1000\n",
            "1/1 [==============================] - 0s 8ms/step - loss: 0.2376 - binary_accuracy: 0.5000\n",
            "Epoch 88/1000\n",
            "1/1 [==============================] - 0s 11ms/step - loss: 0.2374 - binary_accuracy: 0.5000\n",
            "Epoch 89/1000\n",
            "1/1 [==============================] - 0s 10ms/step - loss: 0.2372 - binary_accuracy: 0.5000\n",
            "Epoch 90/1000\n",
            "1/1 [==============================] - 0s 7ms/step - loss: 0.2369 - binary_accuracy: 0.5000\n",
            "Epoch 91/1000\n",
            "1/1 [==============================] - 0s 10ms/step - loss: 0.2367 - binary_accuracy: 0.5000\n",
            "Epoch 92/1000\n",
            "1/1 [==============================] - 0s 12ms/step - loss: 0.2364 - binary_accuracy: 0.5000\n",
            "Epoch 93/1000\n",
            "1/1 [==============================] - 0s 10ms/step - loss: 0.2362 - binary_accuracy: 0.5000\n",
            "Epoch 94/1000\n",
            "1/1 [==============================] - 0s 9ms/step - loss: 0.2360 - binary_accuracy: 0.5000\n",
            "Epoch 95/1000\n",
            "1/1 [==============================] - 0s 8ms/step - loss: 0.2357 - binary_accuracy: 0.5000\n",
            "Epoch 96/1000\n",
            "1/1 [==============================] - 0s 6ms/step - loss: 0.2355 - binary_accuracy: 0.5000\n",
            "Epoch 97/1000\n",
            "1/1 [==============================] - 0s 6ms/step - loss: 0.2352 - binary_accuracy: 0.5000\n",
            "Epoch 98/1000\n",
            "1/1 [==============================] - 0s 7ms/step - loss: 0.2350 - binary_accuracy: 0.5000\n",
            "Epoch 99/1000\n",
            "1/1 [==============================] - 0s 8ms/step - loss: 0.2348 - binary_accuracy: 0.5000\n",
            "Epoch 100/1000\n",
            "1/1 [==============================] - 0s 6ms/step - loss: 0.2345 - binary_accuracy: 0.5000\n",
            "Epoch 101/1000\n",
            "1/1 [==============================] - 0s 17ms/step - loss: 0.2343 - binary_accuracy: 0.5000\n",
            "Epoch 102/1000\n",
            "1/1 [==============================] - 0s 9ms/step - loss: 0.2341 - binary_accuracy: 0.5000\n",
            "Epoch 103/1000\n",
            "1/1 [==============================] - 0s 8ms/step - loss: 0.2338 - binary_accuracy: 0.5000\n",
            "Epoch 104/1000\n",
            "1/1 [==============================] - 0s 7ms/step - loss: 0.2336 - binary_accuracy: 0.5000\n",
            "Epoch 105/1000\n",
            "1/1 [==============================] - 0s 10ms/step - loss: 0.2333 - binary_accuracy: 0.5000\n",
            "Epoch 106/1000\n",
            "1/1 [==============================] - 0s 10ms/step - loss: 0.2331 - binary_accuracy: 0.5000\n",
            "Epoch 107/1000\n",
            "1/1 [==============================] - 0s 11ms/step - loss: 0.2329 - binary_accuracy: 0.7500\n",
            "Epoch 108/1000\n",
            "1/1 [==============================] - 0s 8ms/step - loss: 0.2326 - binary_accuracy: 0.7500\n",
            "Epoch 109/1000\n",
            "1/1 [==============================] - 0s 11ms/step - loss: 0.2324 - binary_accuracy: 0.7500\n",
            "Epoch 110/1000\n",
            "1/1 [==============================] - 0s 7ms/step - loss: 0.2321 - binary_accuracy: 0.7500\n",
            "Epoch 111/1000\n",
            "1/1 [==============================] - 0s 7ms/step - loss: 0.2319 - binary_accuracy: 0.7500\n",
            "Epoch 112/1000\n",
            "1/1 [==============================] - 0s 13ms/step - loss: 0.2317 - binary_accuracy: 0.7500\n",
            "Epoch 113/1000\n",
            "1/1 [==============================] - 0s 17ms/step - loss: 0.2314 - binary_accuracy: 0.7500\n",
            "Epoch 114/1000\n",
            "1/1 [==============================] - 0s 13ms/step - loss: 0.2312 - binary_accuracy: 0.7500\n",
            "Epoch 115/1000\n",
            "1/1 [==============================] - 0s 15ms/step - loss: 0.2309 - binary_accuracy: 0.7500\n",
            "Epoch 116/1000\n",
            "1/1 [==============================] - 0s 9ms/step - loss: 0.2307 - binary_accuracy: 0.7500\n",
            "Epoch 117/1000\n",
            "1/1 [==============================] - 0s 9ms/step - loss: 0.2304 - binary_accuracy: 0.7500\n",
            "Epoch 118/1000\n",
            "1/1 [==============================] - 0s 14ms/step - loss: 0.2302 - binary_accuracy: 0.7500\n",
            "Epoch 119/1000\n",
            "1/1 [==============================] - 0s 17ms/step - loss: 0.2300 - binary_accuracy: 0.7500\n",
            "Epoch 120/1000\n",
            "1/1 [==============================] - 0s 20ms/step - loss: 0.2297 - binary_accuracy: 0.7500\n",
            "Epoch 121/1000\n",
            "1/1 [==============================] - 0s 17ms/step - loss: 0.2295 - binary_accuracy: 0.7500\n",
            "Epoch 122/1000\n",
            "1/1 [==============================] - 0s 14ms/step - loss: 0.2292 - binary_accuracy: 0.7500\n",
            "Epoch 123/1000\n",
            "1/1 [==============================] - 0s 11ms/step - loss: 0.2290 - binary_accuracy: 0.7500\n",
            "Epoch 124/1000\n",
            "1/1 [==============================] - 0s 10ms/step - loss: 0.2288 - binary_accuracy: 0.7500\n",
            "Epoch 125/1000\n",
            "1/1 [==============================] - 0s 15ms/step - loss: 0.2285 - binary_accuracy: 0.7500\n",
            "Epoch 126/1000\n",
            "1/1 [==============================] - 0s 6ms/step - loss: 0.2283 - binary_accuracy: 0.7500\n",
            "Epoch 127/1000\n",
            "1/1 [==============================] - 0s 6ms/step - loss: 0.2280 - binary_accuracy: 0.7500\n",
            "Epoch 128/1000\n",
            "1/1 [==============================] - 0s 6ms/step - loss: 0.2278 - binary_accuracy: 0.7500\n",
            "Epoch 129/1000\n",
            "1/1 [==============================] - 0s 7ms/step - loss: 0.2275 - binary_accuracy: 0.7500\n",
            "Epoch 130/1000\n",
            "1/1 [==============================] - 0s 8ms/step - loss: 0.2273 - binary_accuracy: 0.7500\n",
            "Epoch 131/1000\n",
            "1/1 [==============================] - 0s 7ms/step - loss: 0.2271 - binary_accuracy: 0.7500\n",
            "Epoch 132/1000\n",
            "1/1 [==============================] - 0s 7ms/step - loss: 0.2268 - binary_accuracy: 0.7500\n",
            "Epoch 133/1000\n",
            "1/1 [==============================] - 0s 12ms/step - loss: 0.2266 - binary_accuracy: 0.7500\n",
            "Epoch 134/1000\n",
            "1/1 [==============================] - 0s 14ms/step - loss: 0.2263 - binary_accuracy: 0.7500\n",
            "Epoch 135/1000\n",
            "1/1 [==============================] - 0s 15ms/step - loss: 0.2261 - binary_accuracy: 0.7500\n",
            "Epoch 136/1000\n",
            "1/1 [==============================] - 0s 13ms/step - loss: 0.2258 - binary_accuracy: 0.7500\n",
            "Epoch 137/1000\n",
            "1/1 [==============================] - 0s 14ms/step - loss: 0.2256 - binary_accuracy: 0.7500\n",
            "Epoch 138/1000\n",
            "1/1 [==============================] - 0s 14ms/step - loss: 0.2253 - binary_accuracy: 0.7500\n",
            "Epoch 139/1000\n",
            "1/1 [==============================] - 0s 10ms/step - loss: 0.2251 - binary_accuracy: 0.7500\n",
            "Epoch 140/1000\n",
            "1/1 [==============================] - 0s 20ms/step - loss: 0.2248 - binary_accuracy: 0.7500\n",
            "Epoch 141/1000\n",
            "1/1 [==============================] - 0s 16ms/step - loss: 0.2246 - binary_accuracy: 0.7500\n",
            "Epoch 142/1000\n",
            "1/1 [==============================] - 0s 12ms/step - loss: 0.2243 - binary_accuracy: 0.7500\n",
            "Epoch 143/1000\n",
            "1/1 [==============================] - 0s 20ms/step - loss: 0.2241 - binary_accuracy: 0.7500\n",
            "Epoch 144/1000\n",
            "1/1 [==============================] - 0s 16ms/step - loss: 0.2238 - binary_accuracy: 0.7500\n",
            "Epoch 145/1000\n",
            "1/1 [==============================] - 0s 19ms/step - loss: 0.2236 - binary_accuracy: 0.7500\n",
            "Epoch 146/1000\n",
            "1/1 [==============================] - 0s 21ms/step - loss: 0.2233 - binary_accuracy: 0.7500\n",
            "Epoch 147/1000\n",
            "1/1 [==============================] - 0s 24ms/step - loss: 0.2231 - binary_accuracy: 0.7500\n",
            "Epoch 148/1000\n",
            "1/1 [==============================] - 0s 28ms/step - loss: 0.2228 - binary_accuracy: 0.7500\n",
            "Epoch 149/1000\n",
            "1/1 [==============================] - 0s 14ms/step - loss: 0.2226 - binary_accuracy: 0.7500\n",
            "Epoch 150/1000\n",
            "1/1 [==============================] - 0s 18ms/step - loss: 0.2223 - binary_accuracy: 0.7500\n",
            "Epoch 151/1000\n",
            "1/1 [==============================] - 0s 12ms/step - loss: 0.2221 - binary_accuracy: 0.7500\n",
            "Epoch 152/1000\n",
            "1/1 [==============================] - 0s 8ms/step - loss: 0.2218 - binary_accuracy: 0.7500\n",
            "Epoch 153/1000\n",
            "1/1 [==============================] - 0s 7ms/step - loss: 0.2216 - binary_accuracy: 0.7500\n",
            "Epoch 154/1000\n",
            "1/1 [==============================] - 0s 10ms/step - loss: 0.2214 - binary_accuracy: 0.7500\n",
            "Epoch 155/1000\n",
            "1/1 [==============================] - 0s 11ms/step - loss: 0.2211 - binary_accuracy: 0.7500\n",
            "Epoch 156/1000\n",
            "1/1 [==============================] - 0s 13ms/step - loss: 0.2209 - binary_accuracy: 0.7500\n",
            "Epoch 157/1000\n",
            "1/1 [==============================] - 0s 7ms/step - loss: 0.2207 - binary_accuracy: 0.7500\n",
            "Epoch 158/1000\n",
            "1/1 [==============================] - 0s 6ms/step - loss: 0.2204 - binary_accuracy: 0.7500\n",
            "Epoch 159/1000\n",
            "1/1 [==============================] - 0s 19ms/step - loss: 0.2202 - binary_accuracy: 0.7500\n",
            "Epoch 160/1000\n",
            "1/1 [==============================] - 0s 37ms/step - loss: 0.2200 - binary_accuracy: 0.7500\n",
            "Epoch 161/1000\n",
            "1/1 [==============================] - 0s 36ms/step - loss: 0.2197 - binary_accuracy: 0.7500\n",
            "Epoch 162/1000\n",
            "1/1 [==============================] - 0s 32ms/step - loss: 0.2195 - binary_accuracy: 0.7500\n",
            "Epoch 163/1000\n",
            "1/1 [==============================] - 0s 10ms/step - loss: 0.2192 - binary_accuracy: 0.7500\n",
            "Epoch 164/1000\n",
            "1/1 [==============================] - 0s 17ms/step - loss: 0.2190 - binary_accuracy: 0.7500\n",
            "Epoch 165/1000\n",
            "1/1 [==============================] - 0s 13ms/step - loss: 0.2188 - binary_accuracy: 0.7500\n",
            "Epoch 166/1000\n",
            "1/1 [==============================] - 0s 11ms/step - loss: 0.2185 - binary_accuracy: 0.7500\n",
            "Epoch 167/1000\n",
            "1/1 [==============================] - 0s 15ms/step - loss: 0.2183 - binary_accuracy: 0.7500\n",
            "Epoch 168/1000\n",
            "1/1 [==============================] - 0s 11ms/step - loss: 0.2180 - binary_accuracy: 0.7500\n",
            "Epoch 169/1000\n",
            "1/1 [==============================] - 0s 9ms/step - loss: 0.2178 - binary_accuracy: 0.7500\n",
            "Epoch 170/1000\n",
            "1/1 [==============================] - 0s 15ms/step - loss: 0.2176 - binary_accuracy: 0.7500\n",
            "Epoch 171/1000\n",
            "1/1 [==============================] - 0s 15ms/step - loss: 0.2173 - binary_accuracy: 0.7500\n",
            "Epoch 172/1000\n",
            "1/1 [==============================] - 0s 10ms/step - loss: 0.2171 - binary_accuracy: 0.7500\n",
            "Epoch 173/1000\n",
            "1/1 [==============================] - 0s 16ms/step - loss: 0.2168 - binary_accuracy: 0.7500\n",
            "Epoch 174/1000\n",
            "1/1 [==============================] - 0s 8ms/step - loss: 0.2166 - binary_accuracy: 0.7500\n",
            "Epoch 175/1000\n",
            "1/1 [==============================] - 0s 21ms/step - loss: 0.2163 - binary_accuracy: 0.7500\n",
            "Epoch 176/1000\n",
            "1/1 [==============================] - 0s 15ms/step - loss: 0.2161 - binary_accuracy: 0.7500\n",
            "Epoch 177/1000\n",
            "1/1 [==============================] - 0s 11ms/step - loss: 0.2158 - binary_accuracy: 0.7500\n",
            "Epoch 178/1000\n",
            "1/1 [==============================] - 0s 9ms/step - loss: 0.2156 - binary_accuracy: 0.7500\n",
            "Epoch 179/1000\n",
            "1/1 [==============================] - 0s 10ms/step - loss: 0.2153 - binary_accuracy: 0.7500\n",
            "Epoch 180/1000\n",
            "1/1 [==============================] - 0s 14ms/step - loss: 0.2151 - binary_accuracy: 0.7500\n",
            "Epoch 181/1000\n",
            "1/1 [==============================] - 0s 10ms/step - loss: 0.2148 - binary_accuracy: 0.7500\n",
            "Epoch 182/1000\n",
            "1/1 [==============================] - 0s 9ms/step - loss: 0.2146 - binary_accuracy: 0.7500\n",
            "Epoch 183/1000\n",
            "1/1 [==============================] - 0s 14ms/step - loss: 0.2143 - binary_accuracy: 0.7500\n",
            "Epoch 184/1000\n",
            "1/1 [==============================] - 0s 11ms/step - loss: 0.2141 - binary_accuracy: 0.7500\n",
            "Epoch 185/1000\n",
            "1/1 [==============================] - 0s 17ms/step - loss: 0.2138 - binary_accuracy: 0.7500\n",
            "Epoch 186/1000\n",
            "1/1 [==============================] - 0s 35ms/step - loss: 0.2136 - binary_accuracy: 0.7500\n",
            "Epoch 187/1000\n",
            "1/1 [==============================] - 0s 27ms/step - loss: 0.2133 - binary_accuracy: 0.7500\n",
            "Epoch 188/1000\n",
            "1/1 [==============================] - 0s 43ms/step - loss: 0.2131 - binary_accuracy: 0.7500\n",
            "Epoch 189/1000\n",
            "1/1 [==============================] - 0s 29ms/step - loss: 0.2128 - binary_accuracy: 0.7500\n",
            "Epoch 190/1000\n",
            "1/1 [==============================] - 0s 13ms/step - loss: 0.2125 - binary_accuracy: 0.7500\n",
            "Epoch 191/1000\n",
            "1/1 [==============================] - 0s 22ms/step - loss: 0.2123 - binary_accuracy: 0.7500\n",
            "Epoch 192/1000\n",
            "1/1 [==============================] - 0s 13ms/step - loss: 0.2120 - binary_accuracy: 0.7500\n",
            "Epoch 193/1000\n",
            "1/1 [==============================] - 0s 18ms/step - loss: 0.2118 - binary_accuracy: 0.7500\n",
            "Epoch 194/1000\n",
            "1/1 [==============================] - 0s 12ms/step - loss: 0.2115 - binary_accuracy: 0.7500\n",
            "Epoch 195/1000\n",
            "1/1 [==============================] - 0s 7ms/step - loss: 0.2112 - binary_accuracy: 0.7500\n",
            "Epoch 196/1000\n",
            "1/1 [==============================] - 0s 10ms/step - loss: 0.2110 - binary_accuracy: 0.7500\n",
            "Epoch 197/1000\n",
            "1/1 [==============================] - 0s 7ms/step - loss: 0.2107 - binary_accuracy: 0.7500\n",
            "Epoch 198/1000\n",
            "1/1 [==============================] - 0s 10ms/step - loss: 0.2104 - binary_accuracy: 0.7500\n",
            "Epoch 199/1000\n",
            "1/1 [==============================] - 0s 6ms/step - loss: 0.2102 - binary_accuracy: 0.7500\n",
            "Epoch 200/1000\n",
            "1/1 [==============================] - 0s 7ms/step - loss: 0.2099 - binary_accuracy: 0.7500\n",
            "Epoch 201/1000\n",
            "1/1 [==============================] - 0s 6ms/step - loss: 0.2096 - binary_accuracy: 0.7500\n",
            "Epoch 202/1000\n",
            "1/1 [==============================] - 0s 9ms/step - loss: 0.2094 - binary_accuracy: 0.7500\n",
            "Epoch 203/1000\n",
            "1/1 [==============================] - 0s 6ms/step - loss: 0.2091 - binary_accuracy: 0.7500\n",
            "Epoch 204/1000\n",
            "1/1 [==============================] - 0s 6ms/step - loss: 0.2088 - binary_accuracy: 0.7500\n",
            "Epoch 205/1000\n",
            "1/1 [==============================] - 0s 12ms/step - loss: 0.2086 - binary_accuracy: 0.7500\n",
            "Epoch 206/1000\n",
            "1/1 [==============================] - 0s 10ms/step - loss: 0.2083 - binary_accuracy: 0.7500\n",
            "Epoch 207/1000\n",
            "1/1 [==============================] - 0s 17ms/step - loss: 0.2080 - binary_accuracy: 0.7500\n",
            "Epoch 208/1000\n",
            "1/1 [==============================] - 0s 8ms/step - loss: 0.2077 - binary_accuracy: 0.7500\n",
            "Epoch 209/1000\n",
            "1/1 [==============================] - 0s 19ms/step - loss: 0.2075 - binary_accuracy: 0.7500\n",
            "Epoch 210/1000\n",
            "1/1 [==============================] - 0s 27ms/step - loss: 0.2072 - binary_accuracy: 0.7500\n",
            "Epoch 211/1000\n",
            "1/1 [==============================] - 0s 6ms/step - loss: 0.2069 - binary_accuracy: 0.7500\n",
            "Epoch 212/1000\n",
            "1/1 [==============================] - 0s 8ms/step - loss: 0.2066 - binary_accuracy: 0.7500\n",
            "Epoch 213/1000\n",
            "1/1 [==============================] - 0s 9ms/step - loss: 0.2064 - binary_accuracy: 0.7500\n",
            "Epoch 214/1000\n",
            "1/1 [==============================] - 0s 10ms/step - loss: 0.2061 - binary_accuracy: 0.7500\n",
            "Epoch 215/1000\n",
            "1/1 [==============================] - 0s 15ms/step - loss: 0.2058 - binary_accuracy: 0.7500\n",
            "Epoch 216/1000\n",
            "1/1 [==============================] - 0s 7ms/step - loss: 0.2055 - binary_accuracy: 0.7500\n",
            "Epoch 217/1000\n",
            "1/1 [==============================] - 0s 10ms/step - loss: 0.2052 - binary_accuracy: 0.7500\n",
            "Epoch 218/1000\n",
            "1/1 [==============================] - 0s 11ms/step - loss: 0.2050 - binary_accuracy: 0.7500\n",
            "Epoch 219/1000\n",
            "1/1 [==============================] - 0s 14ms/step - loss: 0.2047 - binary_accuracy: 0.7500\n",
            "Epoch 220/1000\n",
            "1/1 [==============================] - 0s 8ms/step - loss: 0.2044 - binary_accuracy: 0.7500\n",
            "Epoch 221/1000\n",
            "1/1 [==============================] - 0s 7ms/step - loss: 0.2041 - binary_accuracy: 0.7500\n",
            "Epoch 222/1000\n",
            "1/1 [==============================] - 0s 6ms/step - loss: 0.2038 - binary_accuracy: 0.7500\n",
            "Epoch 223/1000\n",
            "1/1 [==============================] - 0s 6ms/step - loss: 0.2036 - binary_accuracy: 0.7500\n",
            "Epoch 224/1000\n",
            "1/1 [==============================] - 0s 7ms/step - loss: 0.2033 - binary_accuracy: 0.7500\n",
            "Epoch 225/1000\n",
            "1/1 [==============================] - 0s 6ms/step - loss: 0.2030 - binary_accuracy: 0.7500\n",
            "Epoch 226/1000\n",
            "1/1 [==============================] - 0s 8ms/step - loss: 0.2027 - binary_accuracy: 0.7500\n",
            "Epoch 227/1000\n",
            "1/1 [==============================] - 0s 6ms/step - loss: 0.2024 - binary_accuracy: 0.7500\n",
            "Epoch 228/1000\n",
            "1/1 [==============================] - 0s 6ms/step - loss: 0.2021 - binary_accuracy: 0.7500\n",
            "Epoch 229/1000\n",
            "1/1 [==============================] - 0s 6ms/step - loss: 0.2018 - binary_accuracy: 0.7500\n",
            "Epoch 230/1000\n",
            "1/1 [==============================] - 0s 7ms/step - loss: 0.2015 - binary_accuracy: 0.7500\n",
            "Epoch 231/1000\n",
            "1/1 [==============================] - 0s 6ms/step - loss: 0.2012 - binary_accuracy: 0.7500\n",
            "Epoch 232/1000\n",
            "1/1 [==============================] - 0s 9ms/step - loss: 0.2009 - binary_accuracy: 0.7500\n",
            "Epoch 233/1000\n",
            "1/1 [==============================] - 0s 6ms/step - loss: 0.2006 - binary_accuracy: 1.0000\n",
            "Epoch 234/1000\n",
            "1/1 [==============================] - 0s 6ms/step - loss: 0.2003 - binary_accuracy: 1.0000\n",
            "Epoch 235/1000\n",
            "1/1 [==============================] - 0s 6ms/step - loss: 0.2001 - binary_accuracy: 1.0000\n",
            "Epoch 236/1000\n",
            "1/1 [==============================] - 0s 11ms/step - loss: 0.1998 - binary_accuracy: 1.0000\n",
            "Epoch 237/1000\n",
            "1/1 [==============================] - 0s 7ms/step - loss: 0.1995 - binary_accuracy: 1.0000\n",
            "Epoch 238/1000\n",
            "1/1 [==============================] - 0s 6ms/step - loss: 0.1992 - binary_accuracy: 1.0000\n",
            "Epoch 239/1000\n",
            "1/1 [==============================] - 0s 10ms/step - loss: 0.1989 - binary_accuracy: 1.0000\n",
            "Epoch 240/1000\n",
            "1/1 [==============================] - 0s 7ms/step - loss: 0.1986 - binary_accuracy: 1.0000\n",
            "Epoch 241/1000\n",
            "1/1 [==============================] - 0s 7ms/step - loss: 0.1983 - binary_accuracy: 1.0000\n",
            "Epoch 242/1000\n",
            "1/1 [==============================] - 0s 9ms/step - loss: 0.1980 - binary_accuracy: 1.0000\n",
            "Epoch 243/1000\n",
            "1/1 [==============================] - 0s 7ms/step - loss: 0.1977 - binary_accuracy: 1.0000\n",
            "Epoch 244/1000\n",
            "1/1 [==============================] - 0s 20ms/step - loss: 0.1974 - binary_accuracy: 1.0000\n",
            "Epoch 245/1000\n",
            "1/1 [==============================] - 0s 8ms/step - loss: 0.1971 - binary_accuracy: 1.0000\n",
            "Epoch 246/1000\n",
            "1/1 [==============================] - 0s 8ms/step - loss: 0.1967 - binary_accuracy: 1.0000\n",
            "Epoch 247/1000\n",
            "1/1 [==============================] - 0s 7ms/step - loss: 0.1965 - binary_accuracy: 1.0000\n",
            "Epoch 248/1000\n",
            "1/1 [==============================] - 0s 9ms/step - loss: 0.1961 - binary_accuracy: 1.0000\n",
            "Epoch 249/1000\n",
            "1/1 [==============================] - 0s 8ms/step - loss: 0.1958 - binary_accuracy: 1.0000\n",
            "Epoch 250/1000\n",
            "1/1 [==============================] - 0s 10ms/step - loss: 0.1955 - binary_accuracy: 1.0000\n",
            "Epoch 251/1000\n",
            "1/1 [==============================] - 0s 6ms/step - loss: 0.1952 - binary_accuracy: 1.0000\n",
            "Epoch 252/1000\n",
            "1/1 [==============================] - 0s 6ms/step - loss: 0.1949 - binary_accuracy: 1.0000\n",
            "Epoch 253/1000\n",
            "1/1 [==============================] - 0s 6ms/step - loss: 0.1946 - binary_accuracy: 1.0000\n",
            "Epoch 254/1000\n",
            "1/1 [==============================] - 0s 6ms/step - loss: 0.1943 - binary_accuracy: 1.0000\n",
            "Epoch 255/1000\n",
            "1/1 [==============================] - 0s 27ms/step - loss: 0.1940 - binary_accuracy: 1.0000\n",
            "Epoch 256/1000\n",
            "1/1 [==============================] - 0s 34ms/step - loss: 0.1937 - binary_accuracy: 1.0000\n",
            "Epoch 257/1000\n",
            "1/1 [==============================] - 0s 45ms/step - loss: 0.1933 - binary_accuracy: 1.0000\n",
            "Epoch 258/1000\n",
            "1/1 [==============================] - 0s 13ms/step - loss: 0.1930 - binary_accuracy: 1.0000\n",
            "Epoch 259/1000\n",
            "1/1 [==============================] - 0s 13ms/step - loss: 0.1927 - binary_accuracy: 1.0000\n",
            "Epoch 260/1000\n",
            "1/1 [==============================] - 0s 8ms/step - loss: 0.1924 - binary_accuracy: 1.0000\n",
            "Epoch 261/1000\n",
            "1/1 [==============================] - 0s 8ms/step - loss: 0.1921 - binary_accuracy: 1.0000\n",
            "Epoch 262/1000\n",
            "1/1 [==============================] - 0s 13ms/step - loss: 0.1918 - binary_accuracy: 1.0000\n",
            "Epoch 263/1000\n",
            "1/1 [==============================] - 0s 6ms/step - loss: 0.1915 - binary_accuracy: 1.0000\n",
            "Epoch 264/1000\n",
            "1/1 [==============================] - 0s 8ms/step - loss: 0.1911 - binary_accuracy: 1.0000\n",
            "Epoch 265/1000\n",
            "1/1 [==============================] - 0s 19ms/step - loss: 0.1908 - binary_accuracy: 1.0000\n",
            "Epoch 266/1000\n",
            "1/1 [==============================] - 0s 12ms/step - loss: 0.1905 - binary_accuracy: 1.0000\n",
            "Epoch 267/1000\n",
            "1/1 [==============================] - 0s 17ms/step - loss: 0.1902 - binary_accuracy: 1.0000\n",
            "Epoch 268/1000\n",
            "1/1 [==============================] - 0s 14ms/step - loss: 0.1898 - binary_accuracy: 1.0000\n",
            "Epoch 269/1000\n",
            "1/1 [==============================] - 0s 20ms/step - loss: 0.1895 - binary_accuracy: 1.0000\n",
            "Epoch 270/1000\n",
            "1/1 [==============================] - 0s 15ms/step - loss: 0.1892 - binary_accuracy: 1.0000\n",
            "Epoch 271/1000\n",
            "1/1 [==============================] - 0s 15ms/step - loss: 0.1889 - binary_accuracy: 1.0000\n",
            "Epoch 272/1000\n",
            "1/1 [==============================] - 0s 11ms/step - loss: 0.1886 - binary_accuracy: 1.0000\n",
            "Epoch 273/1000\n",
            "1/1 [==============================] - 0s 9ms/step - loss: 0.1882 - binary_accuracy: 1.0000\n",
            "Epoch 274/1000\n",
            "1/1 [==============================] - 0s 11ms/step - loss: 0.1879 - binary_accuracy: 1.0000\n",
            "Epoch 275/1000\n",
            "1/1 [==============================] - 0s 48ms/step - loss: 0.1876 - binary_accuracy: 1.0000\n",
            "Epoch 276/1000\n",
            "1/1 [==============================] - 0s 18ms/step - loss: 0.1873 - binary_accuracy: 1.0000\n",
            "Epoch 277/1000\n",
            "1/1 [==============================] - 0s 19ms/step - loss: 0.1870 - binary_accuracy: 1.0000\n",
            "Epoch 278/1000\n",
            "1/1 [==============================] - 0s 12ms/step - loss: 0.1866 - binary_accuracy: 1.0000\n",
            "Epoch 279/1000\n",
            "1/1 [==============================] - 0s 11ms/step - loss: 0.1863 - binary_accuracy: 1.0000\n",
            "Epoch 280/1000\n",
            "1/1 [==============================] - 0s 14ms/step - loss: 0.1860 - binary_accuracy: 1.0000\n",
            "Epoch 281/1000\n",
            "1/1 [==============================] - 0s 9ms/step - loss: 0.1857 - binary_accuracy: 1.0000\n",
            "Epoch 282/1000\n",
            "1/1 [==============================] - 0s 11ms/step - loss: 0.1854 - binary_accuracy: 1.0000\n",
            "Epoch 283/1000\n",
            "1/1 [==============================] - 0s 11ms/step - loss: 0.1851 - binary_accuracy: 1.0000\n",
            "Epoch 284/1000\n",
            "1/1 [==============================] - 0s 23ms/step - loss: 0.1848 - binary_accuracy: 1.0000\n",
            "Epoch 285/1000\n",
            "1/1 [==============================] - 0s 17ms/step - loss: 0.1844 - binary_accuracy: 1.0000\n",
            "Epoch 286/1000\n",
            "1/1 [==============================] - 0s 33ms/step - loss: 0.1841 - binary_accuracy: 1.0000\n",
            "Epoch 287/1000\n",
            "1/1 [==============================] - 0s 11ms/step - loss: 0.1838 - binary_accuracy: 1.0000\n",
            "Epoch 288/1000\n",
            "1/1 [==============================] - 0s 11ms/step - loss: 0.1834 - binary_accuracy: 1.0000\n",
            "Epoch 289/1000\n",
            "1/1 [==============================] - 0s 25ms/step - loss: 0.1831 - binary_accuracy: 1.0000\n",
            "Epoch 290/1000\n",
            "1/1 [==============================] - 0s 8ms/step - loss: 0.1828 - binary_accuracy: 1.0000\n",
            "Epoch 291/1000\n",
            "1/1 [==============================] - 0s 7ms/step - loss: 0.1825 - binary_accuracy: 1.0000\n",
            "Epoch 292/1000\n",
            "1/1 [==============================] - 0s 8ms/step - loss: 0.1822 - binary_accuracy: 1.0000\n",
            "Epoch 293/1000\n",
            "1/1 [==============================] - 0s 7ms/step - loss: 0.1818 - binary_accuracy: 1.0000\n",
            "Epoch 294/1000\n",
            "1/1 [==============================] - 0s 16ms/step - loss: 0.1815 - binary_accuracy: 1.0000\n",
            "Epoch 295/1000\n",
            "1/1 [==============================] - 0s 18ms/step - loss: 0.1812 - binary_accuracy: 1.0000\n",
            "Epoch 296/1000\n",
            "1/1 [==============================] - 0s 10ms/step - loss: 0.1808 - binary_accuracy: 1.0000\n",
            "Epoch 297/1000\n",
            "1/1 [==============================] - 0s 34ms/step - loss: 0.1805 - binary_accuracy: 1.0000\n",
            "Epoch 298/1000\n",
            "1/1 [==============================] - 0s 15ms/step - loss: 0.1802 - binary_accuracy: 1.0000\n",
            "Epoch 299/1000\n",
            "1/1 [==============================] - 0s 18ms/step - loss: 0.1799 - binary_accuracy: 1.0000\n",
            "Epoch 300/1000\n",
            "1/1 [==============================] - 0s 15ms/step - loss: 0.1795 - binary_accuracy: 1.0000\n",
            "Epoch 301/1000\n",
            "1/1 [==============================] - 0s 13ms/step - loss: 0.1792 - binary_accuracy: 1.0000\n",
            "Epoch 302/1000\n",
            "1/1 [==============================] - 0s 20ms/step - loss: 0.1789 - binary_accuracy: 1.0000\n",
            "Epoch 303/1000\n",
            "1/1 [==============================] - 0s 14ms/step - loss: 0.1785 - binary_accuracy: 1.0000\n",
            "Epoch 304/1000\n",
            "1/1 [==============================] - 0s 19ms/step - loss: 0.1782 - binary_accuracy: 1.0000\n",
            "Epoch 305/1000\n",
            "1/1 [==============================] - 0s 14ms/step - loss: 0.1779 - binary_accuracy: 1.0000\n",
            "Epoch 306/1000\n",
            "1/1 [==============================] - 0s 13ms/step - loss: 0.1776 - binary_accuracy: 1.0000\n",
            "Epoch 307/1000\n",
            "1/1 [==============================] - 0s 29ms/step - loss: 0.1772 - binary_accuracy: 1.0000\n",
            "Epoch 308/1000\n",
            "1/1 [==============================] - 0s 24ms/step - loss: 0.1769 - binary_accuracy: 1.0000\n",
            "Epoch 309/1000\n",
            "1/1 [==============================] - 0s 15ms/step - loss: 0.1766 - binary_accuracy: 1.0000\n",
            "Epoch 310/1000\n",
            "1/1 [==============================] - 0s 16ms/step - loss: 0.1762 - binary_accuracy: 1.0000\n",
            "Epoch 311/1000\n",
            "1/1 [==============================] - 0s 16ms/step - loss: 0.1759 - binary_accuracy: 1.0000\n",
            "Epoch 312/1000\n",
            "1/1 [==============================] - 0s 17ms/step - loss: 0.1756 - binary_accuracy: 1.0000\n",
            "Epoch 313/1000\n",
            "1/1 [==============================] - 0s 54ms/step - loss: 0.1752 - binary_accuracy: 1.0000\n",
            "Epoch 314/1000\n",
            "1/1 [==============================] - 0s 21ms/step - loss: 0.1749 - binary_accuracy: 1.0000\n",
            "Epoch 315/1000\n",
            "1/1 [==============================] - 0s 19ms/step - loss: 0.1746 - binary_accuracy: 1.0000\n",
            "Epoch 316/1000\n",
            "1/1 [==============================] - 0s 20ms/step - loss: 0.1742 - binary_accuracy: 1.0000\n",
            "Epoch 317/1000\n",
            "1/1 [==============================] - 0s 24ms/step - loss: 0.1739 - binary_accuracy: 1.0000\n",
            "Epoch 318/1000\n",
            "1/1 [==============================] - 0s 20ms/step - loss: 0.1736 - binary_accuracy: 1.0000\n",
            "Epoch 319/1000\n",
            "1/1 [==============================] - 0s 20ms/step - loss: 0.1732 - binary_accuracy: 1.0000\n",
            "Epoch 320/1000\n",
            "1/1 [==============================] - 0s 18ms/step - loss: 0.1729 - binary_accuracy: 1.0000\n",
            "Epoch 321/1000\n",
            "1/1 [==============================] - 0s 28ms/step - loss: 0.1725 - binary_accuracy: 1.0000\n",
            "Epoch 322/1000\n",
            "1/1 [==============================] - 0s 26ms/step - loss: 0.1722 - binary_accuracy: 1.0000\n",
            "Epoch 323/1000\n",
            "1/1 [==============================] - 0s 26ms/step - loss: 0.1719 - binary_accuracy: 1.0000\n",
            "Epoch 324/1000\n",
            "1/1 [==============================] - 0s 19ms/step - loss: 0.1715 - binary_accuracy: 1.0000\n",
            "Epoch 325/1000\n",
            "1/1 [==============================] - 0s 21ms/step - loss: 0.1712 - binary_accuracy: 1.0000\n",
            "Epoch 326/1000\n",
            "1/1 [==============================] - 0s 17ms/step - loss: 0.1708 - binary_accuracy: 1.0000\n",
            "Epoch 327/1000\n",
            "1/1 [==============================] - 0s 22ms/step - loss: 0.1705 - binary_accuracy: 1.0000\n",
            "Epoch 328/1000\n",
            "1/1 [==============================] - 0s 19ms/step - loss: 0.1702 - binary_accuracy: 1.0000\n",
            "Epoch 329/1000\n",
            "1/1 [==============================] - 0s 61ms/step - loss: 0.1698 - binary_accuracy: 1.0000\n",
            "Epoch 330/1000\n",
            "1/1 [==============================] - 0s 26ms/step - loss: 0.1695 - binary_accuracy: 1.0000\n",
            "Epoch 331/1000\n",
            "1/1 [==============================] - 0s 27ms/step - loss: 0.1691 - binary_accuracy: 1.0000\n",
            "Epoch 332/1000\n",
            "1/1 [==============================] - 0s 40ms/step - loss: 0.1688 - binary_accuracy: 1.0000\n",
            "Epoch 333/1000\n",
            "1/1 [==============================] - 0s 17ms/step - loss: 0.1684 - binary_accuracy: 1.0000\n",
            "Epoch 334/1000\n",
            "1/1 [==============================] - 0s 24ms/step - loss: 0.1681 - binary_accuracy: 1.0000\n",
            "Epoch 335/1000\n",
            "1/1 [==============================] - 0s 25ms/step - loss: 0.1678 - binary_accuracy: 1.0000\n",
            "Epoch 336/1000\n",
            "1/1 [==============================] - 0s 22ms/step - loss: 0.1674 - binary_accuracy: 1.0000\n",
            "Epoch 337/1000\n",
            "1/1 [==============================] - 0s 17ms/step - loss: 0.1671 - binary_accuracy: 1.0000\n",
            "Epoch 338/1000\n",
            "1/1 [==============================] - 0s 19ms/step - loss: 0.1667 - binary_accuracy: 1.0000\n",
            "Epoch 339/1000\n",
            "1/1 [==============================] - 0s 17ms/step - loss: 0.1664 - binary_accuracy: 1.0000\n",
            "Epoch 340/1000\n",
            "1/1 [==============================] - 0s 21ms/step - loss: 0.1660 - binary_accuracy: 1.0000\n",
            "Epoch 341/1000\n",
            "1/1 [==============================] - 0s 15ms/step - loss: 0.1657 - binary_accuracy: 1.0000\n",
            "Epoch 342/1000\n",
            "1/1 [==============================] - 0s 19ms/step - loss: 0.1653 - binary_accuracy: 1.0000\n",
            "Epoch 343/1000\n",
            "1/1 [==============================] - 0s 9ms/step - loss: 0.1650 - binary_accuracy: 1.0000\n",
            "Epoch 344/1000\n",
            "1/1 [==============================] - 0s 13ms/step - loss: 0.1647 - binary_accuracy: 1.0000\n",
            "Epoch 345/1000\n",
            "1/1 [==============================] - 0s 15ms/step - loss: 0.1643 - binary_accuracy: 1.0000\n",
            "Epoch 346/1000\n",
            "1/1 [==============================] - 0s 10ms/step - loss: 0.1640 - binary_accuracy: 1.0000\n",
            "Epoch 347/1000\n",
            "1/1 [==============================] - 0s 8ms/step - loss: 0.1636 - binary_accuracy: 1.0000\n",
            "Epoch 348/1000\n",
            "1/1 [==============================] - 0s 14ms/step - loss: 0.1633 - binary_accuracy: 1.0000\n",
            "Epoch 349/1000\n",
            "1/1 [==============================] - 0s 8ms/step - loss: 0.1629 - binary_accuracy: 1.0000\n",
            "Epoch 350/1000\n",
            "1/1 [==============================] - 0s 26ms/step - loss: 0.1626 - binary_accuracy: 1.0000\n",
            "Epoch 351/1000\n",
            "1/1 [==============================] - 0s 7ms/step - loss: 0.1623 - binary_accuracy: 1.0000\n",
            "Epoch 352/1000\n",
            "1/1 [==============================] - 0s 7ms/step - loss: 0.1619 - binary_accuracy: 1.0000\n",
            "Epoch 353/1000\n",
            "1/1 [==============================] - 0s 25ms/step - loss: 0.1616 - binary_accuracy: 1.0000\n",
            "Epoch 354/1000\n",
            "1/1 [==============================] - 0s 11ms/step - loss: 0.1613 - binary_accuracy: 1.0000\n",
            "Epoch 355/1000\n",
            "1/1 [==============================] - 0s 14ms/step - loss: 0.1609 - binary_accuracy: 1.0000\n",
            "Epoch 356/1000\n",
            "1/1 [==============================] - 0s 16ms/step - loss: 0.1606 - binary_accuracy: 1.0000\n",
            "Epoch 357/1000\n",
            "1/1 [==============================] - 0s 9ms/step - loss: 0.1602 - binary_accuracy: 1.0000\n",
            "Epoch 358/1000\n",
            "1/1 [==============================] - 0s 17ms/step - loss: 0.1599 - binary_accuracy: 1.0000\n",
            "Epoch 359/1000\n",
            "1/1 [==============================] - 0s 13ms/step - loss: 0.1595 - binary_accuracy: 1.0000\n",
            "Epoch 360/1000\n",
            "1/1 [==============================] - 0s 15ms/step - loss: 0.1592 - binary_accuracy: 1.0000\n",
            "Epoch 361/1000\n",
            "1/1 [==============================] - 0s 15ms/step - loss: 0.1589 - binary_accuracy: 1.0000\n",
            "Epoch 362/1000\n",
            "1/1 [==============================] - 0s 13ms/step - loss: 0.1585 - binary_accuracy: 1.0000\n",
            "Epoch 363/1000\n",
            "1/1 [==============================] - 0s 11ms/step - loss: 0.1582 - binary_accuracy: 1.0000\n",
            "Epoch 364/1000\n",
            "1/1 [==============================] - 0s 12ms/step - loss: 0.1578 - binary_accuracy: 1.0000\n",
            "Epoch 365/1000\n",
            "1/1 [==============================] - 0s 13ms/step - loss: 0.1575 - binary_accuracy: 1.0000\n",
            "Epoch 366/1000\n",
            "1/1 [==============================] - 0s 10ms/step - loss: 0.1572 - binary_accuracy: 1.0000\n",
            "Epoch 367/1000\n",
            "1/1 [==============================] - 0s 13ms/step - loss: 0.1568 - binary_accuracy: 1.0000\n",
            "Epoch 368/1000\n",
            "1/1 [==============================] - 0s 9ms/step - loss: 0.1565 - binary_accuracy: 1.0000\n",
            "Epoch 369/1000\n",
            "1/1 [==============================] - 0s 12ms/step - loss: 0.1561 - binary_accuracy: 1.0000\n",
            "Epoch 370/1000\n",
            "1/1 [==============================] - 0s 16ms/step - loss: 0.1558 - binary_accuracy: 1.0000\n",
            "Epoch 371/1000\n",
            "1/1 [==============================] - 0s 13ms/step - loss: 0.1555 - binary_accuracy: 1.0000\n",
            "Epoch 372/1000\n",
            "1/1 [==============================] - 0s 13ms/step - loss: 0.1551 - binary_accuracy: 1.0000\n",
            "Epoch 373/1000\n",
            "1/1 [==============================] - 0s 8ms/step - loss: 0.1548 - binary_accuracy: 1.0000\n",
            "Epoch 374/1000\n",
            "1/1 [==============================] - 0s 16ms/step - loss: 0.1544 - binary_accuracy: 1.0000\n",
            "Epoch 375/1000\n",
            "1/1 [==============================] - 0s 6ms/step - loss: 0.1541 - binary_accuracy: 1.0000\n",
            "Epoch 376/1000\n",
            "1/1 [==============================] - 0s 11ms/step - loss: 0.1537 - binary_accuracy: 1.0000\n",
            "Epoch 377/1000\n",
            "1/1 [==============================] - 0s 7ms/step - loss: 0.1534 - binary_accuracy: 1.0000\n",
            "Epoch 378/1000\n",
            "1/1 [==============================] - 0s 14ms/step - loss: 0.1531 - binary_accuracy: 1.0000\n",
            "Epoch 379/1000\n",
            "1/1 [==============================] - 0s 5ms/step - loss: 0.1527 - binary_accuracy: 1.0000\n",
            "Epoch 380/1000\n",
            "1/1 [==============================] - 0s 5ms/step - loss: 0.1524 - binary_accuracy: 1.0000\n",
            "Epoch 381/1000\n",
            "1/1 [==============================] - 0s 11ms/step - loss: 0.1521 - binary_accuracy: 1.0000\n",
            "Epoch 382/1000\n",
            "1/1 [==============================] - 0s 7ms/step - loss: 0.1517 - binary_accuracy: 1.0000\n",
            "Epoch 383/1000\n",
            "1/1 [==============================] - 0s 6ms/step - loss: 0.1514 - binary_accuracy: 1.0000\n",
            "Epoch 384/1000\n",
            "1/1 [==============================] - 0s 9ms/step - loss: 0.1510 - binary_accuracy: 1.0000\n",
            "Epoch 385/1000\n",
            "1/1 [==============================] - 0s 15ms/step - loss: 0.1507 - binary_accuracy: 1.0000\n",
            "Epoch 386/1000\n",
            "1/1 [==============================] - 0s 11ms/step - loss: 0.1504 - binary_accuracy: 1.0000\n",
            "Epoch 387/1000\n",
            "1/1 [==============================] - 0s 7ms/step - loss: 0.1500 - binary_accuracy: 1.0000\n",
            "Epoch 388/1000\n",
            "1/1 [==============================] - 0s 13ms/step - loss: 0.1497 - binary_accuracy: 1.0000\n",
            "Epoch 389/1000\n",
            "1/1 [==============================] - 0s 6ms/step - loss: 0.1493 - binary_accuracy: 1.0000\n",
            "Epoch 390/1000\n",
            "1/1 [==============================] - 0s 6ms/step - loss: 0.1490 - binary_accuracy: 1.0000\n",
            "Epoch 391/1000\n",
            "1/1 [==============================] - 0s 6ms/step - loss: 0.1486 - binary_accuracy: 1.0000\n",
            "Epoch 392/1000\n",
            "1/1 [==============================] - 0s 6ms/step - loss: 0.1483 - binary_accuracy: 1.0000\n",
            "Epoch 393/1000\n",
            "1/1 [==============================] - 0s 6ms/step - loss: 0.1480 - binary_accuracy: 1.0000\n",
            "Epoch 394/1000\n",
            "1/1 [==============================] - 0s 6ms/step - loss: 0.1476 - binary_accuracy: 1.0000\n",
            "Epoch 395/1000\n",
            "1/1 [==============================] - 0s 6ms/step - loss: 0.1473 - binary_accuracy: 1.0000\n",
            "Epoch 396/1000\n",
            "1/1 [==============================] - 0s 8ms/step - loss: 0.1469 - binary_accuracy: 1.0000\n",
            "Epoch 397/1000\n",
            "1/1 [==============================] - 0s 7ms/step - loss: 0.1466 - binary_accuracy: 1.0000\n",
            "Epoch 398/1000\n",
            "1/1 [==============================] - 0s 6ms/step - loss: 0.1463 - binary_accuracy: 1.0000\n",
            "Epoch 399/1000\n",
            "1/1 [==============================] - 0s 6ms/step - loss: 0.1460 - binary_accuracy: 1.0000\n",
            "Epoch 400/1000\n",
            "1/1 [==============================] - 0s 15ms/step - loss: 0.1456 - binary_accuracy: 1.0000\n",
            "Epoch 401/1000\n",
            "1/1 [==============================] - 0s 12ms/step - loss: 0.1453 - binary_accuracy: 1.0000\n",
            "Epoch 402/1000\n",
            "1/1 [==============================] - 0s 11ms/step - loss: 0.1450 - binary_accuracy: 1.0000\n",
            "Epoch 403/1000\n",
            "1/1 [==============================] - 0s 13ms/step - loss: 0.1446 - binary_accuracy: 1.0000\n",
            "Epoch 404/1000\n",
            "1/1 [==============================] - 0s 9ms/step - loss: 0.1443 - binary_accuracy: 1.0000\n",
            "Epoch 405/1000\n",
            "1/1 [==============================] - 0s 12ms/step - loss: 0.1440 - binary_accuracy: 1.0000\n",
            "Epoch 406/1000\n",
            "1/1 [==============================] - 0s 8ms/step - loss: 0.1437 - binary_accuracy: 1.0000\n",
            "Epoch 407/1000\n",
            "1/1 [==============================] - 0s 7ms/step - loss: 0.1433 - binary_accuracy: 1.0000\n",
            "Epoch 408/1000\n",
            "1/1 [==============================] - 0s 6ms/step - loss: 0.1430 - binary_accuracy: 1.0000\n",
            "Epoch 409/1000\n",
            "1/1 [==============================] - 0s 6ms/step - loss: 0.1427 - binary_accuracy: 1.0000\n",
            "Epoch 410/1000\n",
            "1/1 [==============================] - 0s 8ms/step - loss: 0.1423 - binary_accuracy: 1.0000\n",
            "Epoch 411/1000\n",
            "1/1 [==============================] - 0s 6ms/step - loss: 0.1420 - binary_accuracy: 1.0000\n",
            "Epoch 412/1000\n",
            "1/1 [==============================] - 0s 6ms/step - loss: 0.1417 - binary_accuracy: 1.0000\n",
            "Epoch 413/1000\n",
            "1/1 [==============================] - 0s 6ms/step - loss: 0.1414 - binary_accuracy: 1.0000\n",
            "Epoch 414/1000\n",
            "1/1 [==============================] - 0s 6ms/step - loss: 0.1410 - binary_accuracy: 1.0000\n",
            "Epoch 415/1000\n",
            "1/1 [==============================] - 0s 6ms/step - loss: 0.1407 - binary_accuracy: 1.0000\n",
            "Epoch 416/1000\n",
            "1/1 [==============================] - 0s 6ms/step - loss: 0.1404 - binary_accuracy: 1.0000\n",
            "Epoch 417/1000\n",
            "1/1 [==============================] - 0s 8ms/step - loss: 0.1401 - binary_accuracy: 1.0000\n",
            "Epoch 418/1000\n",
            "1/1 [==============================] - 0s 9ms/step - loss: 0.1397 - binary_accuracy: 1.0000\n",
            "Epoch 419/1000\n",
            "1/1 [==============================] - 0s 15ms/step - loss: 0.1394 - binary_accuracy: 1.0000\n",
            "Epoch 420/1000\n",
            "1/1 [==============================] - 0s 10ms/step - loss: 0.1391 - binary_accuracy: 1.0000\n",
            "Epoch 421/1000\n",
            "1/1 [==============================] - 0s 12ms/step - loss: 0.1388 - binary_accuracy: 1.0000\n",
            "Epoch 422/1000\n",
            "1/1 [==============================] - 0s 8ms/step - loss: 0.1385 - binary_accuracy: 1.0000\n",
            "Epoch 423/1000\n",
            "1/1 [==============================] - 0s 10ms/step - loss: 0.1382 - binary_accuracy: 1.0000\n",
            "Epoch 424/1000\n",
            "1/1 [==============================] - 0s 12ms/step - loss: 0.1378 - binary_accuracy: 1.0000\n",
            "Epoch 425/1000\n",
            "1/1 [==============================] - 0s 6ms/step - loss: 0.1375 - binary_accuracy: 1.0000\n",
            "Epoch 426/1000\n",
            "1/1 [==============================] - 0s 6ms/step - loss: 0.1372 - binary_accuracy: 1.0000\n",
            "Epoch 427/1000\n",
            "1/1 [==============================] - 0s 44ms/step - loss: 0.1369 - binary_accuracy: 1.0000\n",
            "Epoch 428/1000\n",
            "1/1 [==============================] - 0s 9ms/step - loss: 0.1365 - binary_accuracy: 1.0000\n",
            "Epoch 429/1000\n",
            "1/1 [==============================] - 0s 6ms/step - loss: 0.1362 - binary_accuracy: 1.0000\n",
            "Epoch 430/1000\n",
            "1/1 [==============================] - 0s 6ms/step - loss: 0.1359 - binary_accuracy: 1.0000\n",
            "Epoch 431/1000\n",
            "1/1 [==============================] - 0s 6ms/step - loss: 0.1356 - binary_accuracy: 1.0000\n",
            "Epoch 432/1000\n",
            "1/1 [==============================] - 0s 10ms/step - loss: 0.1353 - binary_accuracy: 1.0000\n",
            "Epoch 433/1000\n",
            "1/1 [==============================] - 0s 9ms/step - loss: 0.1350 - binary_accuracy: 1.0000\n",
            "Epoch 434/1000\n",
            "1/1 [==============================] - 0s 6ms/step - loss: 0.1347 - binary_accuracy: 1.0000\n",
            "Epoch 435/1000\n",
            "1/1 [==============================] - 0s 10ms/step - loss: 0.1344 - binary_accuracy: 1.0000\n",
            "Epoch 436/1000\n",
            "1/1 [==============================] - 0s 10ms/step - loss: 0.1340 - binary_accuracy: 1.0000\n",
            "Epoch 437/1000\n",
            "1/1 [==============================] - 0s 13ms/step - loss: 0.1338 - binary_accuracy: 1.0000\n",
            "Epoch 438/1000\n",
            "1/1 [==============================] - 0s 10ms/step - loss: 0.1335 - binary_accuracy: 1.0000\n",
            "Epoch 439/1000\n",
            "1/1 [==============================] - 0s 15ms/step - loss: 0.1332 - binary_accuracy: 1.0000\n",
            "Epoch 440/1000\n",
            "1/1 [==============================] - 0s 25ms/step - loss: 0.1329 - binary_accuracy: 1.0000\n",
            "Epoch 441/1000\n",
            "1/1 [==============================] - 0s 23ms/step - loss: 0.1325 - binary_accuracy: 1.0000\n",
            "Epoch 442/1000\n",
            "1/1 [==============================] - 0s 22ms/step - loss: 0.1322 - binary_accuracy: 1.0000\n",
            "Epoch 443/1000\n",
            "1/1 [==============================] - 0s 11ms/step - loss: 0.1319 - binary_accuracy: 1.0000\n",
            "Epoch 444/1000\n",
            "1/1 [==============================] - 0s 20ms/step - loss: 0.1316 - binary_accuracy: 1.0000\n",
            "Epoch 445/1000\n",
            "1/1 [==============================] - 0s 10ms/step - loss: 0.1313 - binary_accuracy: 1.0000\n",
            "Epoch 446/1000\n",
            "1/1 [==============================] - 0s 7ms/step - loss: 0.1310 - binary_accuracy: 1.0000\n",
            "Epoch 447/1000\n",
            "1/1 [==============================] - 0s 9ms/step - loss: 0.1307 - binary_accuracy: 1.0000\n",
            "Epoch 448/1000\n",
            "1/1 [==============================] - 0s 10ms/step - loss: 0.1304 - binary_accuracy: 1.0000\n",
            "Epoch 449/1000\n",
            "1/1 [==============================] - 0s 10ms/step - loss: 0.1301 - binary_accuracy: 1.0000\n",
            "Epoch 450/1000\n",
            "1/1 [==============================] - 0s 10ms/step - loss: 0.1299 - binary_accuracy: 1.0000\n",
            "Epoch 451/1000\n",
            "1/1 [==============================] - 0s 11ms/step - loss: 0.1295 - binary_accuracy: 1.0000\n",
            "Epoch 452/1000\n",
            "1/1 [==============================] - 0s 20ms/step - loss: 0.1292 - binary_accuracy: 1.0000\n",
            "Epoch 453/1000\n",
            "1/1 [==============================] - 0s 21ms/step - loss: 0.1289 - binary_accuracy: 1.0000\n",
            "Epoch 454/1000\n",
            "1/1 [==============================] - 0s 14ms/step - loss: 0.1286 - binary_accuracy: 1.0000\n",
            "Epoch 455/1000\n",
            "1/1 [==============================] - 0s 17ms/step - loss: 0.1284 - binary_accuracy: 1.0000\n",
            "Epoch 456/1000\n",
            "1/1 [==============================] - 0s 17ms/step - loss: 0.1281 - binary_accuracy: 1.0000\n",
            "Epoch 457/1000\n",
            "1/1 [==============================] - 0s 21ms/step - loss: 0.1278 - binary_accuracy: 1.0000\n",
            "Epoch 458/1000\n",
            "1/1 [==============================] - 0s 15ms/step - loss: 0.1275 - binary_accuracy: 1.0000\n",
            "Epoch 459/1000\n",
            "1/1 [==============================] - 0s 9ms/step - loss: 0.1272 - binary_accuracy: 1.0000\n",
            "Epoch 460/1000\n",
            "1/1 [==============================] - 0s 12ms/step - loss: 0.1269 - binary_accuracy: 1.0000\n",
            "Epoch 461/1000\n",
            "1/1 [==============================] - 0s 11ms/step - loss: 0.1266 - binary_accuracy: 1.0000\n",
            "Epoch 462/1000\n",
            "1/1 [==============================] - 0s 10ms/step - loss: 0.1263 - binary_accuracy: 1.0000\n",
            "Epoch 463/1000\n",
            "1/1 [==============================] - 0s 18ms/step - loss: 0.1260 - binary_accuracy: 1.0000\n",
            "Epoch 464/1000\n",
            "1/1 [==============================] - 0s 20ms/step - loss: 0.1257 - binary_accuracy: 1.0000\n",
            "Epoch 465/1000\n",
            "1/1 [==============================] - 0s 9ms/step - loss: 0.1254 - binary_accuracy: 1.0000\n",
            "Epoch 466/1000\n",
            "1/1 [==============================] - 0s 16ms/step - loss: 0.1251 - binary_accuracy: 1.0000\n",
            "Epoch 467/1000\n",
            "1/1 [==============================] - 0s 14ms/step - loss: 0.1248 - binary_accuracy: 1.0000\n",
            "Epoch 468/1000\n",
            "1/1 [==============================] - 0s 24ms/step - loss: 0.1245 - binary_accuracy: 1.0000\n",
            "Epoch 469/1000\n",
            "1/1 [==============================] - 0s 15ms/step - loss: 0.1242 - binary_accuracy: 1.0000\n",
            "Epoch 470/1000\n",
            "1/1 [==============================] - 0s 19ms/step - loss: 0.1239 - binary_accuracy: 1.0000\n",
            "Epoch 471/1000\n",
            "1/1 [==============================] - 0s 25ms/step - loss: 0.1236 - binary_accuracy: 1.0000\n",
            "Epoch 472/1000\n",
            "1/1 [==============================] - 0s 27ms/step - loss: 0.1234 - binary_accuracy: 1.0000\n",
            "Epoch 473/1000\n",
            "1/1 [==============================] - 0s 16ms/step - loss: 0.1231 - binary_accuracy: 1.0000\n",
            "Epoch 474/1000\n",
            "1/1 [==============================] - 0s 24ms/step - loss: 0.1228 - binary_accuracy: 1.0000\n",
            "Epoch 475/1000\n",
            "1/1 [==============================] - 0s 41ms/step - loss: 0.1225 - binary_accuracy: 1.0000\n",
            "Epoch 476/1000\n",
            "1/1 [==============================] - 0s 27ms/step - loss: 0.1222 - binary_accuracy: 1.0000\n",
            "Epoch 477/1000\n",
            "1/1 [==============================] - 0s 13ms/step - loss: 0.1219 - binary_accuracy: 1.0000\n",
            "Epoch 478/1000\n",
            "1/1 [==============================] - 0s 15ms/step - loss: 0.1216 - binary_accuracy: 1.0000\n",
            "Epoch 479/1000\n",
            "1/1 [==============================] - 0s 12ms/step - loss: 0.1213 - binary_accuracy: 1.0000\n",
            "Epoch 480/1000\n",
            "1/1 [==============================] - 0s 14ms/step - loss: 0.1210 - binary_accuracy: 1.0000\n",
            "Epoch 481/1000\n",
            "1/1 [==============================] - 0s 11ms/step - loss: 0.1207 - binary_accuracy: 1.0000\n",
            "Epoch 482/1000\n",
            "1/1 [==============================] - 0s 15ms/step - loss: 0.1204 - binary_accuracy: 1.0000\n",
            "Epoch 483/1000\n",
            "1/1 [==============================] - 0s 9ms/step - loss: 0.1202 - binary_accuracy: 1.0000\n",
            "Epoch 484/1000\n",
            "1/1 [==============================] - 0s 11ms/step - loss: 0.1199 - binary_accuracy: 1.0000\n",
            "Epoch 485/1000\n",
            "1/1 [==============================] - 0s 20ms/step - loss: 0.1196 - binary_accuracy: 1.0000\n",
            "Epoch 486/1000\n",
            "1/1 [==============================] - 0s 22ms/step - loss: 0.1193 - binary_accuracy: 1.0000\n",
            "Epoch 487/1000\n",
            "1/1 [==============================] - 0s 15ms/step - loss: 0.1190 - binary_accuracy: 1.0000\n",
            "Epoch 488/1000\n",
            "1/1 [==============================] - 0s 12ms/step - loss: 0.1187 - binary_accuracy: 1.0000\n",
            "Epoch 489/1000\n",
            "1/1 [==============================] - 0s 12ms/step - loss: 0.1184 - binary_accuracy: 1.0000\n",
            "Epoch 490/1000\n",
            "1/1 [==============================] - 0s 21ms/step - loss: 0.1182 - binary_accuracy: 1.0000\n",
            "Epoch 491/1000\n",
            "1/1 [==============================] - 0s 15ms/step - loss: 0.1179 - binary_accuracy: 1.0000\n",
            "Epoch 492/1000\n",
            "1/1 [==============================] - 0s 12ms/step - loss: 0.1176 - binary_accuracy: 1.0000\n",
            "Epoch 493/1000\n",
            "1/1 [==============================] - 0s 15ms/step - loss: 0.1173 - binary_accuracy: 1.0000\n",
            "Epoch 494/1000\n",
            "1/1 [==============================] - 0s 11ms/step - loss: 0.1170 - binary_accuracy: 1.0000\n",
            "Epoch 495/1000\n",
            "1/1 [==============================] - 0s 10ms/step - loss: 0.1168 - binary_accuracy: 1.0000\n",
            "Epoch 496/1000\n",
            "1/1 [==============================] - 0s 11ms/step - loss: 0.1165 - binary_accuracy: 1.0000\n",
            "Epoch 497/1000\n",
            "1/1 [==============================] - 0s 12ms/step - loss: 0.1162 - binary_accuracy: 1.0000\n",
            "Epoch 498/1000\n",
            "1/1 [==============================] - 0s 24ms/step - loss: 0.1159 - binary_accuracy: 1.0000\n",
            "Epoch 499/1000\n",
            "1/1 [==============================] - 0s 13ms/step - loss: 0.1156 - binary_accuracy: 1.0000\n",
            "Epoch 500/1000\n",
            "1/1 [==============================] - 0s 12ms/step - loss: 0.1154 - binary_accuracy: 1.0000\n",
            "Epoch 501/1000\n",
            "1/1 [==============================] - 0s 8ms/step - loss: 0.1151 - binary_accuracy: 1.0000\n",
            "Epoch 502/1000\n",
            "1/1 [==============================] - 0s 19ms/step - loss: 0.1148 - binary_accuracy: 1.0000\n",
            "Epoch 503/1000\n",
            "1/1 [==============================] - 0s 10ms/step - loss: 0.1146 - binary_accuracy: 1.0000\n",
            "Epoch 504/1000\n",
            "1/1 [==============================] - 0s 9ms/step - loss: 0.1143 - binary_accuracy: 1.0000\n",
            "Epoch 505/1000\n",
            "1/1 [==============================] - 0s 14ms/step - loss: 0.1140 - binary_accuracy: 1.0000\n",
            "Epoch 506/1000\n",
            "1/1 [==============================] - 0s 13ms/step - loss: 0.1137 - binary_accuracy: 1.0000\n",
            "Epoch 507/1000\n",
            "1/1 [==============================] - 0s 12ms/step - loss: 0.1134 - binary_accuracy: 1.0000\n",
            "Epoch 508/1000\n",
            "1/1 [==============================] - 0s 7ms/step - loss: 0.1132 - binary_accuracy: 1.0000\n",
            "Epoch 509/1000\n",
            "1/1 [==============================] - 0s 15ms/step - loss: 0.1129 - binary_accuracy: 1.0000\n",
            "Epoch 510/1000\n",
            "1/1 [==============================] - 0s 11ms/step - loss: 0.1126 - binary_accuracy: 1.0000\n",
            "Epoch 511/1000\n",
            "1/1 [==============================] - 0s 10ms/step - loss: 0.1123 - binary_accuracy: 1.0000\n",
            "Epoch 512/1000\n",
            "1/1 [==============================] - 0s 12ms/step - loss: 0.1121 - binary_accuracy: 1.0000\n",
            "Epoch 513/1000\n",
            "1/1 [==============================] - 0s 11ms/step - loss: 0.1118 - binary_accuracy: 1.0000\n",
            "Epoch 514/1000\n",
            "1/1 [==============================] - 0s 12ms/step - loss: 0.1115 - binary_accuracy: 1.0000\n",
            "Epoch 515/1000\n",
            "1/1 [==============================] - 0s 7ms/step - loss: 0.1112 - binary_accuracy: 1.0000\n",
            "Epoch 516/1000\n",
            "1/1 [==============================] - 0s 13ms/step - loss: 0.1110 - binary_accuracy: 1.0000\n",
            "Epoch 517/1000\n",
            "1/1 [==============================] - 0s 7ms/step - loss: 0.1107 - binary_accuracy: 1.0000\n",
            "Epoch 518/1000\n",
            "1/1 [==============================] - 0s 9ms/step - loss: 0.1104 - binary_accuracy: 1.0000\n",
            "Epoch 519/1000\n",
            "1/1 [==============================] - 0s 11ms/step - loss: 0.1102 - binary_accuracy: 1.0000\n",
            "Epoch 520/1000\n",
            "1/1 [==============================] - 0s 9ms/step - loss: 0.1099 - binary_accuracy: 1.0000\n",
            "Epoch 521/1000\n",
            "1/1 [==============================] - 0s 17ms/step - loss: 0.1096 - binary_accuracy: 1.0000\n",
            "Epoch 522/1000\n",
            "1/1 [==============================] - 0s 20ms/step - loss: 0.1094 - binary_accuracy: 1.0000\n",
            "Epoch 523/1000\n",
            "1/1 [==============================] - 0s 7ms/step - loss: 0.1091 - binary_accuracy: 1.0000\n",
            "Epoch 524/1000\n",
            "1/1 [==============================] - 0s 11ms/step - loss: 0.1088 - binary_accuracy: 1.0000\n",
            "Epoch 525/1000\n",
            "1/1 [==============================] - 0s 8ms/step - loss: 0.1086 - binary_accuracy: 1.0000\n",
            "Epoch 526/1000\n",
            "1/1 [==============================] - 0s 18ms/step - loss: 0.1083 - binary_accuracy: 1.0000\n",
            "Epoch 527/1000\n",
            "1/1 [==============================] - 0s 11ms/step - loss: 0.1080 - binary_accuracy: 1.0000\n",
            "Epoch 528/1000\n",
            "1/1 [==============================] - 0s 14ms/step - loss: 0.1078 - binary_accuracy: 1.0000\n",
            "Epoch 529/1000\n",
            "1/1 [==============================] - 0s 14ms/step - loss: 0.1075 - binary_accuracy: 1.0000\n",
            "Epoch 530/1000\n",
            "1/1 [==============================] - 0s 14ms/step - loss: 0.1072 - binary_accuracy: 1.0000\n",
            "Epoch 531/1000\n",
            "1/1 [==============================] - 0s 15ms/step - loss: 0.1070 - binary_accuracy: 1.0000\n",
            "Epoch 532/1000\n",
            "1/1 [==============================] - 0s 11ms/step - loss: 0.1067 - binary_accuracy: 1.0000\n",
            "Epoch 533/1000\n",
            "1/1 [==============================] - 0s 8ms/step - loss: 0.1064 - binary_accuracy: 1.0000\n",
            "Epoch 534/1000\n",
            "1/1 [==============================] - 0s 8ms/step - loss: 0.1062 - binary_accuracy: 1.0000\n",
            "Epoch 535/1000\n",
            "1/1 [==============================] - 0s 16ms/step - loss: 0.1059 - binary_accuracy: 1.0000\n",
            "Epoch 536/1000\n",
            "1/1 [==============================] - 0s 10ms/step - loss: 0.1057 - binary_accuracy: 1.0000\n",
            "Epoch 537/1000\n",
            "1/1 [==============================] - 0s 59ms/step - loss: 0.1054 - binary_accuracy: 1.0000\n",
            "Epoch 538/1000\n",
            "1/1 [==============================] - 0s 10ms/step - loss: 0.1051 - binary_accuracy: 1.0000\n",
            "Epoch 539/1000\n",
            "1/1 [==============================] - 0s 12ms/step - loss: 0.1049 - binary_accuracy: 1.0000\n",
            "Epoch 540/1000\n",
            "1/1 [==============================] - 0s 13ms/step - loss: 0.1046 - binary_accuracy: 1.0000\n",
            "Epoch 541/1000\n",
            "1/1 [==============================] - 0s 9ms/step - loss: 0.1044 - binary_accuracy: 1.0000\n",
            "Epoch 542/1000\n",
            "1/1 [==============================] - 0s 14ms/step - loss: 0.1041 - binary_accuracy: 1.0000\n",
            "Epoch 543/1000\n",
            "1/1 [==============================] - 0s 11ms/step - loss: 0.1038 - binary_accuracy: 1.0000\n",
            "Epoch 544/1000\n",
            "1/1 [==============================] - 0s 12ms/step - loss: 0.1036 - binary_accuracy: 1.0000\n",
            "Epoch 545/1000\n",
            "1/1 [==============================] - 0s 13ms/step - loss: 0.1033 - binary_accuracy: 1.0000\n",
            "Epoch 546/1000\n",
            "1/1 [==============================] - 0s 10ms/step - loss: 0.1030 - binary_accuracy: 1.0000\n",
            "Epoch 547/1000\n",
            "1/1 [==============================] - 0s 29ms/step - loss: 0.1028 - binary_accuracy: 1.0000\n",
            "Epoch 548/1000\n",
            "1/1 [==============================] - 0s 17ms/step - loss: 0.1025 - binary_accuracy: 1.0000\n",
            "Epoch 549/1000\n",
            "1/1 [==============================] - 0s 14ms/step - loss: 0.1023 - binary_accuracy: 1.0000\n",
            "Epoch 550/1000\n",
            "1/1 [==============================] - 0s 11ms/step - loss: 0.1020 - binary_accuracy: 1.0000\n",
            "Epoch 551/1000\n",
            "1/1 [==============================] - 0s 17ms/step - loss: 0.1018 - binary_accuracy: 1.0000\n",
            "Epoch 552/1000\n",
            "1/1 [==============================] - 0s 10ms/step - loss: 0.1015 - binary_accuracy: 1.0000\n",
            "Epoch 553/1000\n",
            "1/1 [==============================] - 0s 15ms/step - loss: 0.1013 - binary_accuracy: 1.0000\n",
            "Epoch 554/1000\n",
            "1/1 [==============================] - 0s 13ms/step - loss: 0.1010 - binary_accuracy: 1.0000\n",
            "Epoch 555/1000\n",
            "1/1 [==============================] - 0s 9ms/step - loss: 0.1007 - binary_accuracy: 1.0000\n",
            "Epoch 556/1000\n",
            "1/1 [==============================] - 0s 8ms/step - loss: 0.1005 - binary_accuracy: 1.0000\n",
            "Epoch 557/1000\n",
            "1/1 [==============================] - 0s 8ms/step - loss: 0.1002 - binary_accuracy: 1.0000\n",
            "Epoch 558/1000\n",
            "1/1 [==============================] - 0s 8ms/step - loss: 0.1000 - binary_accuracy: 1.0000\n",
            "Epoch 559/1000\n",
            "1/1 [==============================] - 0s 13ms/step - loss: 0.0997 - binary_accuracy: 1.0000\n",
            "Epoch 560/1000\n",
            "1/1 [==============================] - 0s 12ms/step - loss: 0.0995 - binary_accuracy: 1.0000\n",
            "Epoch 561/1000\n",
            "1/1 [==============================] - 0s 6ms/step - loss: 0.0992 - binary_accuracy: 1.0000\n",
            "Epoch 562/1000\n",
            "1/1 [==============================] - 0s 13ms/step - loss: 0.0990 - binary_accuracy: 1.0000\n",
            "Epoch 563/1000\n",
            "1/1 [==============================] - 0s 31ms/step - loss: 0.0987 - binary_accuracy: 1.0000\n",
            "Epoch 564/1000\n",
            "1/1 [==============================] - 0s 21ms/step - loss: 0.0985 - binary_accuracy: 1.0000\n",
            "Epoch 565/1000\n",
            "1/1 [==============================] - 0s 48ms/step - loss: 0.0982 - binary_accuracy: 1.0000\n",
            "Epoch 566/1000\n",
            "1/1 [==============================] - 0s 44ms/step - loss: 0.0980 - binary_accuracy: 1.0000\n",
            "Epoch 567/1000\n",
            "1/1 [==============================] - 0s 23ms/step - loss: 0.0977 - binary_accuracy: 1.0000\n",
            "Epoch 568/1000\n",
            "1/1 [==============================] - 0s 19ms/step - loss: 0.0975 - binary_accuracy: 1.0000\n",
            "Epoch 569/1000\n",
            "1/1 [==============================] - 0s 18ms/step - loss: 0.0973 - binary_accuracy: 1.0000\n",
            "Epoch 570/1000\n",
            "1/1 [==============================] - 0s 15ms/step - loss: 0.0970 - binary_accuracy: 1.0000\n",
            "Epoch 571/1000\n",
            "1/1 [==============================] - 0s 16ms/step - loss: 0.0968 - binary_accuracy: 1.0000\n",
            "Epoch 572/1000\n",
            "1/1 [==============================] - 0s 15ms/step - loss: 0.0965 - binary_accuracy: 1.0000\n",
            "Epoch 573/1000\n",
            "1/1 [==============================] - 0s 13ms/step - loss: 0.0963 - binary_accuracy: 1.0000\n",
            "Epoch 574/1000\n",
            "1/1 [==============================] - 0s 12ms/step - loss: 0.0960 - binary_accuracy: 1.0000\n",
            "Epoch 575/1000\n",
            "1/1 [==============================] - 0s 18ms/step - loss: 0.0958 - binary_accuracy: 1.0000\n",
            "Epoch 576/1000\n",
            "1/1 [==============================] - 0s 12ms/step - loss: 0.0956 - binary_accuracy: 1.0000\n",
            "Epoch 577/1000\n",
            "1/1 [==============================] - 0s 18ms/step - loss: 0.0953 - binary_accuracy: 1.0000\n",
            "Epoch 578/1000\n",
            "1/1 [==============================] - 0s 15ms/step - loss: 0.0951 - binary_accuracy: 1.0000\n",
            "Epoch 579/1000\n",
            "1/1 [==============================] - 0s 9ms/step - loss: 0.0948 - binary_accuracy: 1.0000\n",
            "Epoch 580/1000\n",
            "1/1 [==============================] - 0s 12ms/step - loss: 0.0946 - binary_accuracy: 1.0000\n",
            "Epoch 581/1000\n",
            "1/1 [==============================] - 0s 10ms/step - loss: 0.0943 - binary_accuracy: 1.0000\n",
            "Epoch 582/1000\n",
            "1/1 [==============================] - 0s 15ms/step - loss: 0.0941 - binary_accuracy: 1.0000\n",
            "Epoch 583/1000\n",
            "1/1 [==============================] - 0s 13ms/step - loss: 0.0939 - binary_accuracy: 1.0000\n",
            "Epoch 584/1000\n",
            "1/1 [==============================] - 0s 12ms/step - loss: 0.0936 - binary_accuracy: 1.0000\n",
            "Epoch 585/1000\n",
            "1/1 [==============================] - 0s 15ms/step - loss: 0.0934 - binary_accuracy: 1.0000\n",
            "Epoch 586/1000\n",
            "1/1 [==============================] - 0s 12ms/step - loss: 0.0932 - binary_accuracy: 1.0000\n",
            "Epoch 587/1000\n",
            "1/1 [==============================] - 0s 14ms/step - loss: 0.0929 - binary_accuracy: 1.0000\n",
            "Epoch 588/1000\n",
            "1/1 [==============================] - 0s 7ms/step - loss: 0.0927 - binary_accuracy: 1.0000\n",
            "Epoch 589/1000\n",
            "1/1 [==============================] - 0s 10ms/step - loss: 0.0924 - binary_accuracy: 1.0000\n",
            "Epoch 590/1000\n",
            "1/1 [==============================] - 0s 7ms/step - loss: 0.0922 - binary_accuracy: 1.0000\n",
            "Epoch 591/1000\n",
            "1/1 [==============================] - 0s 7ms/step - loss: 0.0920 - binary_accuracy: 1.0000\n",
            "Epoch 592/1000\n",
            "1/1 [==============================] - 0s 14ms/step - loss: 0.0917 - binary_accuracy: 1.0000\n",
            "Epoch 593/1000\n",
            "1/1 [==============================] - 0s 7ms/step - loss: 0.0915 - binary_accuracy: 1.0000\n",
            "Epoch 594/1000\n",
            "1/1 [==============================] - 0s 10ms/step - loss: 0.0913 - binary_accuracy: 1.0000\n",
            "Epoch 595/1000\n",
            "1/1 [==============================] - 0s 15ms/step - loss: 0.0910 - binary_accuracy: 1.0000\n",
            "Epoch 596/1000\n",
            "1/1 [==============================] - 0s 9ms/step - loss: 0.0908 - binary_accuracy: 1.0000\n",
            "Epoch 597/1000\n",
            "1/1 [==============================] - 0s 10ms/step - loss: 0.0906 - binary_accuracy: 1.0000\n",
            "Epoch 598/1000\n",
            "1/1 [==============================] - 0s 12ms/step - loss: 0.0903 - binary_accuracy: 1.0000\n",
            "Epoch 599/1000\n",
            "1/1 [==============================] - 0s 14ms/step - loss: 0.0901 - binary_accuracy: 1.0000\n",
            "Epoch 600/1000\n",
            "1/1 [==============================] - 0s 8ms/step - loss: 0.0899 - binary_accuracy: 1.0000\n",
            "Epoch 601/1000\n",
            "1/1 [==============================] - 0s 12ms/step - loss: 0.0896 - binary_accuracy: 1.0000\n",
            "Epoch 602/1000\n",
            "1/1 [==============================] - 0s 15ms/step - loss: 0.0894 - binary_accuracy: 1.0000\n",
            "Epoch 603/1000\n",
            "1/1 [==============================] - 0s 19ms/step - loss: 0.0892 - binary_accuracy: 1.0000\n",
            "Epoch 604/1000\n",
            "1/1 [==============================] - 0s 17ms/step - loss: 0.0890 - binary_accuracy: 1.0000\n",
            "Epoch 605/1000\n",
            "1/1 [==============================] - 0s 12ms/step - loss: 0.0887 - binary_accuracy: 1.0000\n",
            "Epoch 606/1000\n",
            "1/1 [==============================] - 0s 9ms/step - loss: 0.0885 - binary_accuracy: 1.0000\n",
            "Epoch 607/1000\n",
            "1/1 [==============================] - 0s 8ms/step - loss: 0.0883 - binary_accuracy: 1.0000\n",
            "Epoch 608/1000\n",
            "1/1 [==============================] - 0s 19ms/step - loss: 0.0880 - binary_accuracy: 1.0000\n",
            "Epoch 609/1000\n",
            "1/1 [==============================] - 0s 9ms/step - loss: 0.0878 - binary_accuracy: 1.0000\n",
            "Epoch 610/1000\n",
            "1/1 [==============================] - 0s 6ms/step - loss: 0.0876 - binary_accuracy: 1.0000\n",
            "Epoch 611/1000\n",
            "1/1 [==============================] - 0s 6ms/step - loss: 0.0874 - binary_accuracy: 1.0000\n",
            "Epoch 612/1000\n",
            "1/1 [==============================] - 0s 6ms/step - loss: 0.0871 - binary_accuracy: 1.0000\n",
            "Epoch 613/1000\n",
            "1/1 [==============================] - 0s 18ms/step - loss: 0.0869 - binary_accuracy: 1.0000\n",
            "Epoch 614/1000\n",
            "1/1 [==============================] - 0s 18ms/step - loss: 0.0867 - binary_accuracy: 1.0000\n",
            "Epoch 615/1000\n",
            "1/1 [==============================] - 0s 22ms/step - loss: 0.0865 - binary_accuracy: 1.0000\n",
            "Epoch 616/1000\n",
            "1/1 [==============================] - 0s 44ms/step - loss: 0.0863 - binary_accuracy: 1.0000\n",
            "Epoch 617/1000\n",
            "1/1 [==============================] - 0s 11ms/step - loss: 0.0860 - binary_accuracy: 1.0000\n",
            "Epoch 618/1000\n",
            "1/1 [==============================] - 0s 8ms/step - loss: 0.0858 - binary_accuracy: 1.0000\n",
            "Epoch 619/1000\n",
            "1/1 [==============================] - 0s 12ms/step - loss: 0.0856 - binary_accuracy: 1.0000\n",
            "Epoch 620/1000\n",
            "1/1 [==============================] - 0s 13ms/step - loss: 0.0854 - binary_accuracy: 1.0000\n",
            "Epoch 621/1000\n",
            "1/1 [==============================] - 0s 12ms/step - loss: 0.0851 - binary_accuracy: 1.0000\n",
            "Epoch 622/1000\n",
            "1/1 [==============================] - 0s 8ms/step - loss: 0.0849 - binary_accuracy: 1.0000\n",
            "Epoch 623/1000\n",
            "1/1 [==============================] - 0s 12ms/step - loss: 0.0847 - binary_accuracy: 1.0000\n",
            "Epoch 624/1000\n",
            "1/1 [==============================] - 0s 11ms/step - loss: 0.0845 - binary_accuracy: 1.0000\n",
            "Epoch 625/1000\n",
            "1/1 [==============================] - 0s 14ms/step - loss: 0.0843 - binary_accuracy: 1.0000\n",
            "Epoch 626/1000\n",
            "1/1 [==============================] - 0s 11ms/step - loss: 0.0841 - binary_accuracy: 1.0000\n",
            "Epoch 627/1000\n",
            "1/1 [==============================] - 0s 16ms/step - loss: 0.0838 - binary_accuracy: 1.0000\n",
            "Epoch 628/1000\n",
            "1/1 [==============================] - 0s 13ms/step - loss: 0.0836 - binary_accuracy: 1.0000\n",
            "Epoch 629/1000\n",
            "1/1 [==============================] - 0s 11ms/step - loss: 0.0834 - binary_accuracy: 1.0000\n",
            "Epoch 630/1000\n",
            "1/1 [==============================] - 0s 9ms/step - loss: 0.0832 - binary_accuracy: 1.0000\n",
            "Epoch 631/1000\n",
            "1/1 [==============================] - 0s 13ms/step - loss: 0.0830 - binary_accuracy: 1.0000\n",
            "Epoch 632/1000\n",
            "1/1 [==============================] - 0s 8ms/step - loss: 0.0828 - binary_accuracy: 1.0000\n",
            "Epoch 633/1000\n",
            "1/1 [==============================] - 0s 13ms/step - loss: 0.0825 - binary_accuracy: 1.0000\n",
            "Epoch 634/1000\n",
            "1/1 [==============================] - 0s 13ms/step - loss: 0.0823 - binary_accuracy: 1.0000\n",
            "Epoch 635/1000\n",
            "1/1 [==============================] - 0s 6ms/step - loss: 0.0821 - binary_accuracy: 1.0000\n",
            "Epoch 636/1000\n",
            "1/1 [==============================] - 0s 9ms/step - loss: 0.0819 - binary_accuracy: 1.0000\n",
            "Epoch 637/1000\n",
            "1/1 [==============================] - 0s 11ms/step - loss: 0.0817 - binary_accuracy: 1.0000\n",
            "Epoch 638/1000\n",
            "1/1 [==============================] - 0s 11ms/step - loss: 0.0815 - binary_accuracy: 1.0000\n",
            "Epoch 639/1000\n",
            "1/1 [==============================] - 0s 19ms/step - loss: 0.0813 - binary_accuracy: 1.0000\n",
            "Epoch 640/1000\n",
            "1/1 [==============================] - 0s 17ms/step - loss: 0.0811 - binary_accuracy: 1.0000\n",
            "Epoch 641/1000\n",
            "1/1 [==============================] - 0s 13ms/step - loss: 0.0809 - binary_accuracy: 1.0000\n",
            "Epoch 642/1000\n",
            "1/1 [==============================] - 0s 10ms/step - loss: 0.0806 - binary_accuracy: 1.0000\n",
            "Epoch 643/1000\n",
            "1/1 [==============================] - 0s 6ms/step - loss: 0.0804 - binary_accuracy: 1.0000\n",
            "Epoch 644/1000\n",
            "1/1 [==============================] - 0s 8ms/step - loss: 0.0802 - binary_accuracy: 1.0000\n",
            "Epoch 645/1000\n",
            "1/1 [==============================] - 0s 18ms/step - loss: 0.0800 - binary_accuracy: 1.0000\n",
            "Epoch 646/1000\n",
            "1/1 [==============================] - 0s 20ms/step - loss: 0.0798 - binary_accuracy: 1.0000\n",
            "Epoch 647/1000\n",
            "1/1 [==============================] - 0s 14ms/step - loss: 0.0796 - binary_accuracy: 1.0000\n",
            "Epoch 648/1000\n",
            "1/1 [==============================] - 0s 11ms/step - loss: 0.0794 - binary_accuracy: 1.0000\n",
            "Epoch 649/1000\n",
            "1/1 [==============================] - 0s 21ms/step - loss: 0.0792 - binary_accuracy: 1.0000\n",
            "Epoch 650/1000\n",
            "1/1 [==============================] - 0s 21ms/step - loss: 0.0790 - binary_accuracy: 1.0000\n",
            "Epoch 651/1000\n",
            "1/1 [==============================] - 0s 10ms/step - loss: 0.0788 - binary_accuracy: 1.0000\n",
            "Epoch 652/1000\n",
            "1/1 [==============================] - 0s 16ms/step - loss: 0.0786 - binary_accuracy: 1.0000\n",
            "Epoch 653/1000\n",
            "1/1 [==============================] - 0s 17ms/step - loss: 0.0784 - binary_accuracy: 1.0000\n",
            "Epoch 654/1000\n",
            "1/1 [==============================] - 0s 11ms/step - loss: 0.0782 - binary_accuracy: 1.0000\n",
            "Epoch 655/1000\n",
            "1/1 [==============================] - 0s 14ms/step - loss: 0.0780 - binary_accuracy: 1.0000\n",
            "Epoch 656/1000\n",
            "1/1 [==============================] - 0s 15ms/step - loss: 0.0778 - binary_accuracy: 1.0000\n",
            "Epoch 657/1000\n",
            "1/1 [==============================] - 0s 16ms/step - loss: 0.0776 - binary_accuracy: 1.0000\n",
            "Epoch 658/1000\n",
            "1/1 [==============================] - 0s 12ms/step - loss: 0.0774 - binary_accuracy: 1.0000\n",
            "Epoch 659/1000\n",
            "1/1 [==============================] - 0s 9ms/step - loss: 0.0772 - binary_accuracy: 1.0000\n",
            "Epoch 660/1000\n",
            "1/1 [==============================] - 0s 19ms/step - loss: 0.0770 - binary_accuracy: 1.0000\n",
            "Epoch 661/1000\n",
            "1/1 [==============================] - 0s 25ms/step - loss: 0.0768 - binary_accuracy: 1.0000\n",
            "Epoch 662/1000\n",
            "1/1 [==============================] - 0s 13ms/step - loss: 0.0766 - binary_accuracy: 1.0000\n",
            "Epoch 663/1000\n",
            "1/1 [==============================] - 0s 11ms/step - loss: 0.0764 - binary_accuracy: 1.0000\n",
            "Epoch 664/1000\n",
            "1/1 [==============================] - 0s 23ms/step - loss: 0.0762 - binary_accuracy: 1.0000\n",
            "Epoch 665/1000\n",
            "1/1 [==============================] - 0s 21ms/step - loss: 0.0760 - binary_accuracy: 1.0000\n",
            "Epoch 666/1000\n",
            "1/1 [==============================] - 0s 17ms/step - loss: 0.0758 - binary_accuracy: 1.0000\n",
            "Epoch 667/1000\n",
            "1/1 [==============================] - 0s 22ms/step - loss: 0.0756 - binary_accuracy: 1.0000\n",
            "Epoch 668/1000\n",
            "1/1 [==============================] - 0s 24ms/step - loss: 0.0754 - binary_accuracy: 1.0000\n",
            "Epoch 669/1000\n",
            "1/1 [==============================] - 0s 20ms/step - loss: 0.0752 - binary_accuracy: 1.0000\n",
            "Epoch 670/1000\n",
            "1/1 [==============================] - 0s 8ms/step - loss: 0.0750 - binary_accuracy: 1.0000\n",
            "Epoch 671/1000\n",
            "1/1 [==============================] - 0s 30ms/step - loss: 0.0748 - binary_accuracy: 1.0000\n",
            "Epoch 672/1000\n",
            "1/1 [==============================] - 0s 27ms/step - loss: 0.0746 - binary_accuracy: 1.0000\n",
            "Epoch 673/1000\n",
            "1/1 [==============================] - 0s 17ms/step - loss: 0.0744 - binary_accuracy: 1.0000\n",
            "Epoch 674/1000\n",
            "1/1 [==============================] - 0s 35ms/step - loss: 0.0742 - binary_accuracy: 1.0000\n",
            "Epoch 675/1000\n",
            "1/1 [==============================] - 0s 22ms/step - loss: 0.0740 - binary_accuracy: 1.0000\n",
            "Epoch 676/1000\n",
            "1/1 [==============================] - 0s 14ms/step - loss: 0.0738 - binary_accuracy: 1.0000\n",
            "Epoch 677/1000\n",
            "1/1 [==============================] - 0s 16ms/step - loss: 0.0736 - binary_accuracy: 1.0000\n",
            "Epoch 678/1000\n",
            "1/1 [==============================] - 0s 21ms/step - loss: 0.0734 - binary_accuracy: 1.0000\n",
            "Epoch 679/1000\n",
            "1/1 [==============================] - 0s 18ms/step - loss: 0.0732 - binary_accuracy: 1.0000\n",
            "Epoch 680/1000\n",
            "1/1 [==============================] - 0s 16ms/step - loss: 0.0731 - binary_accuracy: 1.0000\n",
            "Epoch 681/1000\n",
            "1/1 [==============================] - 0s 16ms/step - loss: 0.0729 - binary_accuracy: 1.0000\n",
            "Epoch 682/1000\n",
            "1/1 [==============================] - 0s 15ms/step - loss: 0.0727 - binary_accuracy: 1.0000\n",
            "Epoch 683/1000\n",
            "1/1 [==============================] - 0s 12ms/step - loss: 0.0725 - binary_accuracy: 1.0000\n",
            "Epoch 684/1000\n",
            "1/1 [==============================] - 0s 8ms/step - loss: 0.0723 - binary_accuracy: 1.0000\n",
            "Epoch 685/1000\n",
            "1/1 [==============================] - 0s 8ms/step - loss: 0.0721 - binary_accuracy: 1.0000\n",
            "Epoch 686/1000\n",
            "1/1 [==============================] - 0s 11ms/step - loss: 0.0719 - binary_accuracy: 1.0000\n",
            "Epoch 687/1000\n",
            "1/1 [==============================] - 0s 14ms/step - loss: 0.0717 - binary_accuracy: 1.0000\n",
            "Epoch 688/1000\n",
            "1/1 [==============================] - 0s 8ms/step - loss: 0.0716 - binary_accuracy: 1.0000\n",
            "Epoch 689/1000\n",
            "1/1 [==============================] - 0s 10ms/step - loss: 0.0714 - binary_accuracy: 1.0000\n",
            "Epoch 690/1000\n",
            "1/1 [==============================] - 0s 15ms/step - loss: 0.0712 - binary_accuracy: 1.0000\n",
            "Epoch 691/1000\n",
            "1/1 [==============================] - 0s 9ms/step - loss: 0.0710 - binary_accuracy: 1.0000\n",
            "Epoch 692/1000\n",
            "1/1 [==============================] - 0s 7ms/step - loss: 0.0708 - binary_accuracy: 1.0000\n",
            "Epoch 693/1000\n",
            "1/1 [==============================] - 0s 11ms/step - loss: 0.0706 - binary_accuracy: 1.0000\n",
            "Epoch 694/1000\n",
            "1/1 [==============================] - 0s 8ms/step - loss: 0.0704 - binary_accuracy: 1.0000\n",
            "Epoch 695/1000\n",
            "1/1 [==============================] - 0s 7ms/step - loss: 0.0703 - binary_accuracy: 1.0000\n",
            "Epoch 696/1000\n",
            "1/1 [==============================] - 0s 16ms/step - loss: 0.0701 - binary_accuracy: 1.0000\n",
            "Epoch 697/1000\n",
            "1/1 [==============================] - 0s 17ms/step - loss: 0.0699 - binary_accuracy: 1.0000\n",
            "Epoch 698/1000\n",
            "1/1 [==============================] - 0s 9ms/step - loss: 0.0697 - binary_accuracy: 1.0000\n",
            "Epoch 699/1000\n",
            "1/1 [==============================] - 0s 16ms/step - loss: 0.0696 - binary_accuracy: 1.0000\n",
            "Epoch 700/1000\n",
            "1/1 [==============================] - 0s 10ms/step - loss: 0.0694 - binary_accuracy: 1.0000\n",
            "Epoch 701/1000\n",
            "1/1 [==============================] - 0s 12ms/step - loss: 0.0692 - binary_accuracy: 1.0000\n",
            "Epoch 702/1000\n",
            "1/1 [==============================] - 0s 12ms/step - loss: 0.0690 - binary_accuracy: 1.0000\n",
            "Epoch 703/1000\n",
            "1/1 [==============================] - 0s 14ms/step - loss: 0.0689 - binary_accuracy: 1.0000\n",
            "Epoch 704/1000\n",
            "1/1 [==============================] - 0s 9ms/step - loss: 0.0687 - binary_accuracy: 1.0000\n",
            "Epoch 705/1000\n",
            "1/1 [==============================] - 0s 10ms/step - loss: 0.0685 - binary_accuracy: 1.0000\n",
            "Epoch 706/1000\n",
            "1/1 [==============================] - 0s 18ms/step - loss: 0.0683 - binary_accuracy: 1.0000\n",
            "Epoch 707/1000\n",
            "1/1 [==============================] - 0s 14ms/step - loss: 0.0682 - binary_accuracy: 1.0000\n",
            "Epoch 708/1000\n",
            "1/1 [==============================] - 0s 18ms/step - loss: 0.0680 - binary_accuracy: 1.0000\n",
            "Epoch 709/1000\n",
            "1/1 [==============================] - 0s 12ms/step - loss: 0.0678 - binary_accuracy: 1.0000\n",
            "Epoch 710/1000\n",
            "1/1 [==============================] - 0s 18ms/step - loss: 0.0676 - binary_accuracy: 1.0000\n",
            "Epoch 711/1000\n",
            "1/1 [==============================] - 0s 13ms/step - loss: 0.0675 - binary_accuracy: 1.0000\n",
            "Epoch 712/1000\n",
            "1/1 [==============================] - 0s 13ms/step - loss: 0.0673 - binary_accuracy: 1.0000\n",
            "Epoch 713/1000\n",
            "1/1 [==============================] - 0s 15ms/step - loss: 0.0671 - binary_accuracy: 1.0000\n",
            "Epoch 714/1000\n",
            "1/1 [==============================] - 0s 19ms/step - loss: 0.0670 - binary_accuracy: 1.0000\n",
            "Epoch 715/1000\n",
            "1/1 [==============================] - 0s 15ms/step - loss: 0.0668 - binary_accuracy: 1.0000\n",
            "Epoch 716/1000\n",
            "1/1 [==============================] - 0s 22ms/step - loss: 0.0666 - binary_accuracy: 1.0000\n",
            "Epoch 717/1000\n",
            "1/1 [==============================] - 0s 15ms/step - loss: 0.0664 - binary_accuracy: 1.0000\n",
            "Epoch 718/1000\n",
            "1/1 [==============================] - 0s 17ms/step - loss: 0.0663 - binary_accuracy: 1.0000\n",
            "Epoch 719/1000\n",
            "1/1 [==============================] - 0s 19ms/step - loss: 0.0661 - binary_accuracy: 1.0000\n",
            "Epoch 720/1000\n",
            "1/1 [==============================] - 0s 27ms/step - loss: 0.0659 - binary_accuracy: 1.0000\n",
            "Epoch 721/1000\n",
            "1/1 [==============================] - 0s 17ms/step - loss: 0.0658 - binary_accuracy: 1.0000\n",
            "Epoch 722/1000\n",
            "1/1 [==============================] - 0s 22ms/step - loss: 0.0656 - binary_accuracy: 1.0000\n",
            "Epoch 723/1000\n",
            "1/1 [==============================] - 0s 19ms/step - loss: 0.0654 - binary_accuracy: 1.0000\n",
            "Epoch 724/1000\n",
            "1/1 [==============================] - 0s 18ms/step - loss: 0.0653 - binary_accuracy: 1.0000\n",
            "Epoch 725/1000\n",
            "1/1 [==============================] - 0s 27ms/step - loss: 0.0651 - binary_accuracy: 1.0000\n",
            "Epoch 726/1000\n",
            "1/1 [==============================] - 0s 16ms/step - loss: 0.0649 - binary_accuracy: 1.0000\n",
            "Epoch 727/1000\n",
            "1/1 [==============================] - 0s 19ms/step - loss: 0.0648 - binary_accuracy: 1.0000\n",
            "Epoch 728/1000\n",
            "1/1 [==============================] - 0s 13ms/step - loss: 0.0646 - binary_accuracy: 1.0000\n",
            "Epoch 729/1000\n",
            "1/1 [==============================] - 0s 8ms/step - loss: 0.0645 - binary_accuracy: 1.0000\n",
            "Epoch 730/1000\n",
            "1/1 [==============================] - 0s 16ms/step - loss: 0.0643 - binary_accuracy: 1.0000\n",
            "Epoch 731/1000\n",
            "1/1 [==============================] - 0s 15ms/step - loss: 0.0641 - binary_accuracy: 1.0000\n",
            "Epoch 732/1000\n",
            "1/1 [==============================] - 0s 18ms/step - loss: 0.0640 - binary_accuracy: 1.0000\n",
            "Epoch 733/1000\n",
            "1/1 [==============================] - 0s 14ms/step - loss: 0.0638 - binary_accuracy: 1.0000\n",
            "Epoch 734/1000\n",
            "1/1 [==============================] - 0s 8ms/step - loss: 0.0637 - binary_accuracy: 1.0000\n",
            "Epoch 735/1000\n",
            "1/1 [==============================] - 0s 6ms/step - loss: 0.0635 - binary_accuracy: 1.0000\n",
            "Epoch 736/1000\n",
            "1/1 [==============================] - 0s 12ms/step - loss: 0.0633 - binary_accuracy: 1.0000\n",
            "Epoch 737/1000\n",
            "1/1 [==============================] - 0s 7ms/step - loss: 0.0632 - binary_accuracy: 1.0000\n",
            "Epoch 738/1000\n",
            "1/1 [==============================] - 0s 10ms/step - loss: 0.0630 - binary_accuracy: 1.0000\n",
            "Epoch 739/1000\n",
            "1/1 [==============================] - 0s 16ms/step - loss: 0.0629 - binary_accuracy: 1.0000\n",
            "Epoch 740/1000\n",
            "1/1 [==============================] - 0s 23ms/step - loss: 0.0627 - binary_accuracy: 1.0000\n",
            "Epoch 741/1000\n",
            "1/1 [==============================] - 0s 34ms/step - loss: 0.0625 - binary_accuracy: 1.0000\n",
            "Epoch 742/1000\n",
            "1/1 [==============================] - 0s 14ms/step - loss: 0.0624 - binary_accuracy: 1.0000\n",
            "Epoch 743/1000\n",
            "1/1 [==============================] - 0s 16ms/step - loss: 0.0622 - binary_accuracy: 1.0000\n",
            "Epoch 744/1000\n",
            "1/1 [==============================] - 0s 20ms/step - loss: 0.0621 - binary_accuracy: 1.0000\n",
            "Epoch 745/1000\n",
            "1/1 [==============================] - 0s 9ms/step - loss: 0.0619 - binary_accuracy: 1.0000\n",
            "Epoch 746/1000\n",
            "1/1 [==============================] - 0s 12ms/step - loss: 0.0618 - binary_accuracy: 1.0000\n",
            "Epoch 747/1000\n",
            "1/1 [==============================] - 0s 9ms/step - loss: 0.0616 - binary_accuracy: 1.0000\n",
            "Epoch 748/1000\n",
            "1/1 [==============================] - 0s 7ms/step - loss: 0.0615 - binary_accuracy: 1.0000\n",
            "Epoch 749/1000\n",
            "1/1 [==============================] - 0s 8ms/step - loss: 0.0613 - binary_accuracy: 1.0000\n",
            "Epoch 750/1000\n",
            "1/1 [==============================] - 0s 8ms/step - loss: 0.0611 - binary_accuracy: 1.0000\n",
            "Epoch 751/1000\n",
            "1/1 [==============================] - 0s 11ms/step - loss: 0.0610 - binary_accuracy: 1.0000\n",
            "Epoch 752/1000\n",
            "1/1 [==============================] - 0s 15ms/step - loss: 0.0608 - binary_accuracy: 1.0000\n",
            "Epoch 753/1000\n",
            "1/1 [==============================] - 0s 14ms/step - loss: 0.0607 - binary_accuracy: 1.0000\n",
            "Epoch 754/1000\n",
            "1/1 [==============================] - 0s 15ms/step - loss: 0.0605 - binary_accuracy: 1.0000\n",
            "Epoch 755/1000\n",
            "1/1 [==============================] - 0s 9ms/step - loss: 0.0604 - binary_accuracy: 1.0000\n",
            "Epoch 756/1000\n",
            "1/1 [==============================] - 0s 8ms/step - loss: 0.0602 - binary_accuracy: 1.0000\n",
            "Epoch 757/1000\n",
            "1/1 [==============================] - 0s 14ms/step - loss: 0.0601 - binary_accuracy: 1.0000\n",
            "Epoch 758/1000\n",
            "1/1 [==============================] - 0s 8ms/step - loss: 0.0599 - binary_accuracy: 1.0000\n",
            "Epoch 759/1000\n",
            "1/1 [==============================] - 0s 8ms/step - loss: 0.0598 - binary_accuracy: 1.0000\n",
            "Epoch 760/1000\n",
            "1/1 [==============================] - 0s 8ms/step - loss: 0.0597 - binary_accuracy: 1.0000\n",
            "Epoch 761/1000\n",
            "1/1 [==============================] - 0s 8ms/step - loss: 0.0595 - binary_accuracy: 1.0000\n",
            "Epoch 762/1000\n",
            "1/1 [==============================] - 0s 12ms/step - loss: 0.0593 - binary_accuracy: 1.0000\n",
            "Epoch 763/1000\n",
            "1/1 [==============================] - 0s 7ms/step - loss: 0.0592 - binary_accuracy: 1.0000\n",
            "Epoch 764/1000\n",
            "1/1 [==============================] - 0s 13ms/step - loss: 0.0590 - binary_accuracy: 1.0000\n",
            "Epoch 765/1000\n",
            "1/1 [==============================] - 0s 9ms/step - loss: 0.0589 - binary_accuracy: 1.0000\n",
            "Epoch 766/1000\n",
            "1/1 [==============================] - 0s 8ms/step - loss: 0.0588 - binary_accuracy: 1.0000\n",
            "Epoch 767/1000\n",
            "1/1 [==============================] - 0s 13ms/step - loss: 0.0586 - binary_accuracy: 1.0000\n",
            "Epoch 768/1000\n",
            "1/1 [==============================] - 0s 7ms/step - loss: 0.0585 - binary_accuracy: 1.0000\n",
            "Epoch 769/1000\n",
            "1/1 [==============================] - 0s 8ms/step - loss: 0.0583 - binary_accuracy: 1.0000\n",
            "Epoch 770/1000\n",
            "1/1 [==============================] - 0s 14ms/step - loss: 0.0582 - binary_accuracy: 1.0000\n",
            "Epoch 771/1000\n",
            "1/1 [==============================] - 0s 16ms/step - loss: 0.0580 - binary_accuracy: 1.0000\n",
            "Epoch 772/1000\n",
            "1/1 [==============================] - 0s 47ms/step - loss: 0.0579 - binary_accuracy: 1.0000\n",
            "Epoch 773/1000\n",
            "1/1 [==============================] - 0s 22ms/step - loss: 0.0577 - binary_accuracy: 1.0000\n",
            "Epoch 774/1000\n",
            "1/1 [==============================] - 0s 16ms/step - loss: 0.0576 - binary_accuracy: 1.0000\n",
            "Epoch 775/1000\n",
            "1/1 [==============================] - 0s 19ms/step - loss: 0.0575 - binary_accuracy: 1.0000\n",
            "Epoch 776/1000\n",
            "1/1 [==============================] - 0s 16ms/step - loss: 0.0573 - binary_accuracy: 1.0000\n",
            "Epoch 777/1000\n",
            "1/1 [==============================] - 0s 7ms/step - loss: 0.0572 - binary_accuracy: 1.0000\n",
            "Epoch 778/1000\n",
            "1/1 [==============================] - 0s 7ms/step - loss: 0.0570 - binary_accuracy: 1.0000\n",
            "Epoch 779/1000\n",
            "1/1 [==============================] - 0s 8ms/step - loss: 0.0569 - binary_accuracy: 1.0000\n",
            "Epoch 780/1000\n",
            "1/1 [==============================] - 0s 11ms/step - loss: 0.0568 - binary_accuracy: 1.0000\n",
            "Epoch 781/1000\n",
            "1/1 [==============================] - 0s 12ms/step - loss: 0.0566 - binary_accuracy: 1.0000\n",
            "Epoch 782/1000\n",
            "1/1 [==============================] - 0s 13ms/step - loss: 0.0565 - binary_accuracy: 1.0000\n",
            "Epoch 783/1000\n",
            "1/1 [==============================] - 0s 12ms/step - loss: 0.0563 - binary_accuracy: 1.0000\n",
            "Epoch 784/1000\n",
            "1/1 [==============================] - 0s 8ms/step - loss: 0.0562 - binary_accuracy: 1.0000\n",
            "Epoch 785/1000\n",
            "1/1 [==============================] - 0s 9ms/step - loss: 0.0561 - binary_accuracy: 1.0000\n",
            "Epoch 786/1000\n",
            "1/1 [==============================] - 0s 12ms/step - loss: 0.0559 - binary_accuracy: 1.0000\n",
            "Epoch 787/1000\n",
            "1/1 [==============================] - 0s 24ms/step - loss: 0.0558 - binary_accuracy: 1.0000\n",
            "Epoch 788/1000\n",
            "1/1 [==============================] - 0s 25ms/step - loss: 0.0557 - binary_accuracy: 1.0000\n",
            "Epoch 789/1000\n",
            "1/1 [==============================] - 0s 16ms/step - loss: 0.0555 - binary_accuracy: 1.0000\n",
            "Epoch 790/1000\n",
            "1/1 [==============================] - 0s 32ms/step - loss: 0.0554 - binary_accuracy: 1.0000\n",
            "Epoch 791/1000\n",
            "1/1 [==============================] - 0s 10ms/step - loss: 0.0553 - binary_accuracy: 1.0000\n",
            "Epoch 792/1000\n",
            "1/1 [==============================] - 0s 7ms/step - loss: 0.0551 - binary_accuracy: 1.0000\n",
            "Epoch 793/1000\n",
            "1/1 [==============================] - 0s 16ms/step - loss: 0.0550 - binary_accuracy: 1.0000\n",
            "Epoch 794/1000\n",
            "1/1 [==============================] - 0s 23ms/step - loss: 0.0548 - binary_accuracy: 1.0000\n",
            "Epoch 795/1000\n",
            "1/1 [==============================] - 0s 12ms/step - loss: 0.0547 - binary_accuracy: 1.0000\n",
            "Epoch 796/1000\n",
            "1/1 [==============================] - 0s 21ms/step - loss: 0.0546 - binary_accuracy: 1.0000\n",
            "Epoch 797/1000\n",
            "1/1 [==============================] - 0s 12ms/step - loss: 0.0544 - binary_accuracy: 1.0000\n",
            "Epoch 798/1000\n",
            "1/1 [==============================] - 0s 12ms/step - loss: 0.0543 - binary_accuracy: 1.0000\n",
            "Epoch 799/1000\n",
            "1/1 [==============================] - 0s 11ms/step - loss: 0.0542 - binary_accuracy: 1.0000\n",
            "Epoch 800/1000\n",
            "1/1 [==============================] - 0s 12ms/step - loss: 0.0541 - binary_accuracy: 1.0000\n",
            "Epoch 801/1000\n",
            "1/1 [==============================] - 0s 11ms/step - loss: 0.0539 - binary_accuracy: 1.0000\n",
            "Epoch 802/1000\n",
            "1/1 [==============================] - 0s 12ms/step - loss: 0.0538 - binary_accuracy: 1.0000\n",
            "Epoch 803/1000\n",
            "1/1 [==============================] - 0s 7ms/step - loss: 0.0537 - binary_accuracy: 1.0000\n",
            "Epoch 804/1000\n",
            "1/1 [==============================] - 0s 10ms/step - loss: 0.0535 - binary_accuracy: 1.0000\n",
            "Epoch 805/1000\n",
            "1/1 [==============================] - 0s 13ms/step - loss: 0.0534 - binary_accuracy: 1.0000\n",
            "Epoch 806/1000\n",
            "1/1 [==============================] - 0s 12ms/step - loss: 0.0533 - binary_accuracy: 1.0000\n",
            "Epoch 807/1000\n",
            "1/1 [==============================] - 0s 11ms/step - loss: 0.0531 - binary_accuracy: 1.0000\n",
            "Epoch 808/1000\n",
            "1/1 [==============================] - 0s 12ms/step - loss: 0.0530 - binary_accuracy: 1.0000\n",
            "Epoch 809/1000\n",
            "1/1 [==============================] - 0s 13ms/step - loss: 0.0529 - binary_accuracy: 1.0000\n",
            "Epoch 810/1000\n",
            "1/1 [==============================] - 0s 14ms/step - loss: 0.0528 - binary_accuracy: 1.0000\n",
            "Epoch 811/1000\n",
            "1/1 [==============================] - 0s 18ms/step - loss: 0.0526 - binary_accuracy: 1.0000\n",
            "Epoch 812/1000\n",
            "1/1 [==============================] - 0s 9ms/step - loss: 0.0525 - binary_accuracy: 1.0000\n",
            "Epoch 813/1000\n",
            "1/1 [==============================] - 0s 20ms/step - loss: 0.0524 - binary_accuracy: 1.0000\n",
            "Epoch 814/1000\n",
            "1/1 [==============================] - 0s 8ms/step - loss: 0.0522 - binary_accuracy: 1.0000\n",
            "Epoch 815/1000\n",
            "1/1 [==============================] - 0s 7ms/step - loss: 0.0521 - binary_accuracy: 1.0000\n",
            "Epoch 816/1000\n",
            "1/1 [==============================] - 0s 7ms/step - loss: 0.0520 - binary_accuracy: 1.0000\n",
            "Epoch 817/1000\n",
            "1/1 [==============================] - 0s 7ms/step - loss: 0.0519 - binary_accuracy: 1.0000\n",
            "Epoch 818/1000\n",
            "1/1 [==============================] - 0s 21ms/step - loss: 0.0518 - binary_accuracy: 1.0000\n",
            "Epoch 819/1000\n",
            "1/1 [==============================] - 0s 56ms/step - loss: 0.0516 - binary_accuracy: 1.0000\n",
            "Epoch 820/1000\n",
            "1/1 [==============================] - 0s 38ms/step - loss: 0.0515 - binary_accuracy: 1.0000\n",
            "Epoch 821/1000\n",
            "1/1 [==============================] - 0s 12ms/step - loss: 0.0514 - binary_accuracy: 1.0000\n",
            "Epoch 822/1000\n",
            "1/1 [==============================] - 0s 11ms/step - loss: 0.0513 - binary_accuracy: 1.0000\n",
            "Epoch 823/1000\n",
            "1/1 [==============================] - 0s 12ms/step - loss: 0.0511 - binary_accuracy: 1.0000\n",
            "Epoch 824/1000\n",
            "1/1 [==============================] - 0s 16ms/step - loss: 0.0510 - binary_accuracy: 1.0000\n",
            "Epoch 825/1000\n",
            "1/1 [==============================] - 0s 14ms/step - loss: 0.0509 - binary_accuracy: 1.0000\n",
            "Epoch 826/1000\n",
            "1/1 [==============================] - 0s 36ms/step - loss: 0.0508 - binary_accuracy: 1.0000\n",
            "Epoch 827/1000\n",
            "1/1 [==============================] - 0s 25ms/step - loss: 0.0507 - binary_accuracy: 1.0000\n",
            "Epoch 828/1000\n",
            "1/1 [==============================] - 0s 13ms/step - loss: 0.0505 - binary_accuracy: 1.0000\n",
            "Epoch 829/1000\n",
            "1/1 [==============================] - 0s 12ms/step - loss: 0.0504 - binary_accuracy: 1.0000\n",
            "Epoch 830/1000\n",
            "1/1 [==============================] - 0s 13ms/step - loss: 0.0503 - binary_accuracy: 1.0000\n",
            "Epoch 831/1000\n",
            "1/1 [==============================] - 0s 75ms/step - loss: 0.0502 - binary_accuracy: 1.0000\n",
            "Epoch 832/1000\n",
            "1/1 [==============================] - 0s 47ms/step - loss: 0.0501 - binary_accuracy: 1.0000\n",
            "Epoch 833/1000\n",
            "1/1 [==============================] - 0s 21ms/step - loss: 0.0499 - binary_accuracy: 1.0000\n",
            "Epoch 834/1000\n",
            "1/1 [==============================] - 0s 21ms/step - loss: 0.0498 - binary_accuracy: 1.0000\n",
            "Epoch 835/1000\n",
            "1/1 [==============================] - 0s 28ms/step - loss: 0.0497 - binary_accuracy: 1.0000\n",
            "Epoch 836/1000\n",
            "1/1 [==============================] - 0s 24ms/step - loss: 0.0496 - binary_accuracy: 1.0000\n",
            "Epoch 837/1000\n",
            "1/1 [==============================] - 0s 18ms/step - loss: 0.0495 - binary_accuracy: 1.0000\n",
            "Epoch 838/1000\n",
            "1/1 [==============================] - 0s 18ms/step - loss: 0.0493 - binary_accuracy: 1.0000\n",
            "Epoch 839/1000\n",
            "1/1 [==============================] - 0s 11ms/step - loss: 0.0492 - binary_accuracy: 1.0000\n",
            "Epoch 840/1000\n",
            "1/1 [==============================] - 0s 12ms/step - loss: 0.0491 - binary_accuracy: 1.0000\n",
            "Epoch 841/1000\n",
            "1/1 [==============================] - 0s 18ms/step - loss: 0.0490 - binary_accuracy: 1.0000\n",
            "Epoch 842/1000\n",
            "1/1 [==============================] - 0s 17ms/step - loss: 0.0489 - binary_accuracy: 1.0000\n",
            "Epoch 843/1000\n",
            "1/1 [==============================] - 0s 8ms/step - loss: 0.0488 - binary_accuracy: 1.0000\n",
            "Epoch 844/1000\n",
            "1/1 [==============================] - 0s 8ms/step - loss: 0.0486 - binary_accuracy: 1.0000\n",
            "Epoch 845/1000\n",
            "1/1 [==============================] - 0s 8ms/step - loss: 0.0485 - binary_accuracy: 1.0000\n",
            "Epoch 846/1000\n",
            "1/1 [==============================] - 0s 12ms/step - loss: 0.0484 - binary_accuracy: 1.0000\n",
            "Epoch 847/1000\n",
            "1/1 [==============================] - 0s 10ms/step - loss: 0.0483 - binary_accuracy: 1.0000\n",
            "Epoch 848/1000\n",
            "1/1 [==============================] - 0s 9ms/step - loss: 0.0482 - binary_accuracy: 1.0000\n",
            "Epoch 849/1000\n",
            "1/1 [==============================] - 0s 12ms/step - loss: 0.0481 - binary_accuracy: 1.0000\n",
            "Epoch 850/1000\n",
            "1/1 [==============================] - 0s 8ms/step - loss: 0.0480 - binary_accuracy: 1.0000\n",
            "Epoch 851/1000\n",
            "1/1 [==============================] - 0s 9ms/step - loss: 0.0478 - binary_accuracy: 1.0000\n",
            "Epoch 852/1000\n",
            "1/1 [==============================] - 0s 11ms/step - loss: 0.0477 - binary_accuracy: 1.0000\n",
            "Epoch 853/1000\n",
            "1/1 [==============================] - 0s 8ms/step - loss: 0.0476 - binary_accuracy: 1.0000\n",
            "Epoch 854/1000\n",
            "1/1 [==============================] - 0s 9ms/step - loss: 0.0475 - binary_accuracy: 1.0000\n",
            "Epoch 855/1000\n",
            "1/1 [==============================] - 0s 14ms/step - loss: 0.0474 - binary_accuracy: 1.0000\n",
            "Epoch 856/1000\n",
            "1/1 [==============================] - 0s 9ms/step - loss: 0.0473 - binary_accuracy: 1.0000\n",
            "Epoch 857/1000\n",
            "1/1 [==============================] - 0s 12ms/step - loss: 0.0472 - binary_accuracy: 1.0000\n",
            "Epoch 858/1000\n",
            "1/1 [==============================] - 0s 21ms/step - loss: 0.0471 - binary_accuracy: 1.0000\n",
            "Epoch 859/1000\n",
            "1/1 [==============================] - 0s 16ms/step - loss: 0.0470 - binary_accuracy: 1.0000\n",
            "Epoch 860/1000\n",
            "1/1 [==============================] - 0s 21ms/step - loss: 0.0469 - binary_accuracy: 1.0000\n",
            "Epoch 861/1000\n",
            "1/1 [==============================] - 0s 13ms/step - loss: 0.0467 - binary_accuracy: 1.0000\n",
            "Epoch 862/1000\n",
            "1/1 [==============================] - 0s 17ms/step - loss: 0.0466 - binary_accuracy: 1.0000\n",
            "Epoch 863/1000\n",
            "1/1 [==============================] - 0s 19ms/step - loss: 0.0465 - binary_accuracy: 1.0000\n",
            "Epoch 864/1000\n",
            "1/1 [==============================] - 0s 29ms/step - loss: 0.0464 - binary_accuracy: 1.0000\n",
            "Epoch 865/1000\n",
            "1/1 [==============================] - 0s 12ms/step - loss: 0.0463 - binary_accuracy: 1.0000\n",
            "Epoch 866/1000\n",
            "1/1 [==============================] - 0s 17ms/step - loss: 0.0462 - binary_accuracy: 1.0000\n",
            "Epoch 867/1000\n",
            "1/1 [==============================] - 0s 17ms/step - loss: 0.0461 - binary_accuracy: 1.0000\n",
            "Epoch 868/1000\n",
            "1/1 [==============================] - 0s 8ms/step - loss: 0.0460 - binary_accuracy: 1.0000\n",
            "Epoch 869/1000\n",
            "1/1 [==============================] - 0s 48ms/step - loss: 0.0459 - binary_accuracy: 1.0000\n",
            "Epoch 870/1000\n",
            "1/1 [==============================] - 0s 17ms/step - loss: 0.0458 - binary_accuracy: 1.0000\n",
            "Epoch 871/1000\n",
            "1/1 [==============================] - 0s 27ms/step - loss: 0.0457 - binary_accuracy: 1.0000\n",
            "Epoch 872/1000\n",
            "1/1 [==============================] - 0s 15ms/step - loss: 0.0456 - binary_accuracy: 1.0000\n",
            "Epoch 873/1000\n",
            "1/1 [==============================] - 0s 16ms/step - loss: 0.0455 - binary_accuracy: 1.0000\n",
            "Epoch 874/1000\n",
            "1/1 [==============================] - 0s 19ms/step - loss: 0.0453 - binary_accuracy: 1.0000\n",
            "Epoch 875/1000\n",
            "1/1 [==============================] - 0s 17ms/step - loss: 0.0452 - binary_accuracy: 1.0000\n",
            "Epoch 876/1000\n",
            "1/1 [==============================] - 0s 22ms/step - loss: 0.0451 - binary_accuracy: 1.0000\n",
            "Epoch 877/1000\n",
            "1/1 [==============================] - 0s 9ms/step - loss: 0.0450 - binary_accuracy: 1.0000\n",
            "Epoch 878/1000\n",
            "1/1 [==============================] - 0s 8ms/step - loss: 0.0449 - binary_accuracy: 1.0000\n",
            "Epoch 879/1000\n",
            "1/1 [==============================] - 0s 9ms/step - loss: 0.0448 - binary_accuracy: 1.0000\n",
            "Epoch 880/1000\n",
            "1/1 [==============================] - 0s 13ms/step - loss: 0.0447 - binary_accuracy: 1.0000\n",
            "Epoch 881/1000\n",
            "1/1 [==============================] - 0s 9ms/step - loss: 0.0446 - binary_accuracy: 1.0000\n",
            "Epoch 882/1000\n",
            "1/1 [==============================] - 0s 19ms/step - loss: 0.0445 - binary_accuracy: 1.0000\n",
            "Epoch 883/1000\n",
            "1/1 [==============================] - 0s 13ms/step - loss: 0.0444 - binary_accuracy: 1.0000\n",
            "Epoch 884/1000\n",
            "1/1 [==============================] - 0s 11ms/step - loss: 0.0443 - binary_accuracy: 1.0000\n",
            "Epoch 885/1000\n",
            "1/1 [==============================] - 0s 8ms/step - loss: 0.0442 - binary_accuracy: 1.0000\n",
            "Epoch 886/1000\n",
            "1/1 [==============================] - 0s 16ms/step - loss: 0.0441 - binary_accuracy: 1.0000\n",
            "Epoch 887/1000\n",
            "1/1 [==============================] - 0s 11ms/step - loss: 0.0440 - binary_accuracy: 1.0000\n",
            "Epoch 888/1000\n",
            "1/1 [==============================] - 0s 8ms/step - loss: 0.0439 - binary_accuracy: 1.0000\n",
            "Epoch 889/1000\n",
            "1/1 [==============================] - 0s 11ms/step - loss: 0.0438 - binary_accuracy: 1.0000\n",
            "Epoch 890/1000\n",
            "1/1 [==============================] - 0s 8ms/step - loss: 0.0437 - binary_accuracy: 1.0000\n",
            "Epoch 891/1000\n",
            "1/1 [==============================] - 0s 10ms/step - loss: 0.0436 - binary_accuracy: 1.0000\n",
            "Epoch 892/1000\n",
            "1/1 [==============================] - 0s 8ms/step - loss: 0.0435 - binary_accuracy: 1.0000\n",
            "Epoch 893/1000\n",
            "1/1 [==============================] - 0s 10ms/step - loss: 0.0434 - binary_accuracy: 1.0000\n",
            "Epoch 894/1000\n",
            "1/1 [==============================] - 0s 11ms/step - loss: 0.0433 - binary_accuracy: 1.0000\n",
            "Epoch 895/1000\n",
            "1/1 [==============================] - 0s 10ms/step - loss: 0.0432 - binary_accuracy: 1.0000\n",
            "Epoch 896/1000\n",
            "1/1 [==============================] - 0s 19ms/step - loss: 0.0431 - binary_accuracy: 1.0000\n",
            "Epoch 897/1000\n",
            "1/1 [==============================] - 0s 11ms/step - loss: 0.0430 - binary_accuracy: 1.0000\n",
            "Epoch 898/1000\n",
            "1/1 [==============================] - 0s 9ms/step - loss: 0.0429 - binary_accuracy: 1.0000\n",
            "Epoch 899/1000\n",
            "1/1 [==============================] - 0s 12ms/step - loss: 0.0428 - binary_accuracy: 1.0000\n",
            "Epoch 900/1000\n",
            "1/1 [==============================] - 0s 9ms/step - loss: 0.0427 - binary_accuracy: 1.0000\n",
            "Epoch 901/1000\n",
            "1/1 [==============================] - 0s 11ms/step - loss: 0.0426 - binary_accuracy: 1.0000\n",
            "Epoch 902/1000\n",
            "1/1 [==============================] - 0s 8ms/step - loss: 0.0425 - binary_accuracy: 1.0000\n",
            "Epoch 903/1000\n",
            "1/1 [==============================] - 0s 8ms/step - loss: 0.0424 - binary_accuracy: 1.0000\n",
            "Epoch 904/1000\n",
            "1/1 [==============================] - 0s 7ms/step - loss: 0.0423 - binary_accuracy: 1.0000\n",
            "Epoch 905/1000\n",
            "1/1 [==============================] - 0s 7ms/step - loss: 0.0423 - binary_accuracy: 1.0000\n",
            "Epoch 906/1000\n",
            "1/1 [==============================] - 0s 7ms/step - loss: 0.0422 - binary_accuracy: 1.0000\n",
            "Epoch 907/1000\n",
            "1/1 [==============================] - 0s 7ms/step - loss: 0.0421 - binary_accuracy: 1.0000\n",
            "Epoch 908/1000\n",
            "1/1 [==============================] - 0s 11ms/step - loss: 0.0420 - binary_accuracy: 1.0000\n",
            "Epoch 909/1000\n",
            "1/1 [==============================] - 0s 18ms/step - loss: 0.0419 - binary_accuracy: 1.0000\n",
            "Epoch 910/1000\n",
            "1/1 [==============================] - 0s 19ms/step - loss: 0.0418 - binary_accuracy: 1.0000\n",
            "Epoch 911/1000\n",
            "1/1 [==============================] - 0s 12ms/step - loss: 0.0417 - binary_accuracy: 1.0000\n",
            "Epoch 912/1000\n",
            "1/1 [==============================] - 0s 27ms/step - loss: 0.0416 - binary_accuracy: 1.0000\n",
            "Epoch 913/1000\n",
            "1/1 [==============================] - 0s 22ms/step - loss: 0.0415 - binary_accuracy: 1.0000\n",
            "Epoch 914/1000\n",
            "1/1 [==============================] - 0s 28ms/step - loss: 0.0414 - binary_accuracy: 1.0000\n",
            "Epoch 915/1000\n",
            "1/1 [==============================] - 0s 11ms/step - loss: 0.0413 - binary_accuracy: 1.0000\n",
            "Epoch 916/1000\n",
            "1/1 [==============================] - 0s 37ms/step - loss: 0.0412 - binary_accuracy: 1.0000\n",
            "Epoch 917/1000\n",
            "1/1 [==============================] - 0s 14ms/step - loss: 0.0411 - binary_accuracy: 1.0000\n",
            "Epoch 918/1000\n",
            "1/1 [==============================] - 0s 8ms/step - loss: 0.0410 - binary_accuracy: 1.0000\n",
            "Epoch 919/1000\n",
            "1/1 [==============================] - 0s 14ms/step - loss: 0.0409 - binary_accuracy: 1.0000\n",
            "Epoch 920/1000\n",
            "1/1 [==============================] - 0s 13ms/step - loss: 0.0409 - binary_accuracy: 1.0000\n",
            "Epoch 921/1000\n",
            "1/1 [==============================] - 0s 8ms/step - loss: 0.0408 - binary_accuracy: 1.0000\n",
            "Epoch 922/1000\n",
            "1/1 [==============================] - 0s 15ms/step - loss: 0.0407 - binary_accuracy: 1.0000\n",
            "Epoch 923/1000\n",
            "1/1 [==============================] - 0s 18ms/step - loss: 0.0406 - binary_accuracy: 1.0000\n",
            "Epoch 924/1000\n",
            "1/1 [==============================] - 0s 11ms/step - loss: 0.0405 - binary_accuracy: 1.0000\n",
            "Epoch 925/1000\n",
            "1/1 [==============================] - 0s 10ms/step - loss: 0.0404 - binary_accuracy: 1.0000\n",
            "Epoch 926/1000\n",
            "1/1 [==============================] - 0s 17ms/step - loss: 0.0403 - binary_accuracy: 1.0000\n",
            "Epoch 927/1000\n",
            "1/1 [==============================] - 0s 8ms/step - loss: 0.0402 - binary_accuracy: 1.0000\n",
            "Epoch 928/1000\n",
            "1/1 [==============================] - 0s 9ms/step - loss: 0.0401 - binary_accuracy: 1.0000\n",
            "Epoch 929/1000\n",
            "1/1 [==============================] - 0s 22ms/step - loss: 0.0400 - binary_accuracy: 1.0000\n",
            "Epoch 930/1000\n",
            "1/1 [==============================] - 0s 16ms/step - loss: 0.0400 - binary_accuracy: 1.0000\n",
            "Epoch 931/1000\n",
            "1/1 [==============================] - 0s 16ms/step - loss: 0.0399 - binary_accuracy: 1.0000\n",
            "Epoch 932/1000\n",
            "1/1 [==============================] - 0s 15ms/step - loss: 0.0398 - binary_accuracy: 1.0000\n",
            "Epoch 933/1000\n",
            "1/1 [==============================] - 0s 11ms/step - loss: 0.0397 - binary_accuracy: 1.0000\n",
            "Epoch 934/1000\n",
            "1/1 [==============================] - 0s 13ms/step - loss: 0.0396 - binary_accuracy: 1.0000\n",
            "Epoch 935/1000\n",
            "1/1 [==============================] - 0s 16ms/step - loss: 0.0395 - binary_accuracy: 1.0000\n",
            "Epoch 936/1000\n",
            "1/1 [==============================] - 0s 19ms/step - loss: 0.0394 - binary_accuracy: 1.0000\n",
            "Epoch 937/1000\n",
            "1/1 [==============================] - 0s 13ms/step - loss: 0.0393 - binary_accuracy: 1.0000\n",
            "Epoch 938/1000\n",
            "1/1 [==============================] - 0s 13ms/step - loss: 0.0393 - binary_accuracy: 1.0000\n",
            "Epoch 939/1000\n",
            "1/1 [==============================] - 0s 13ms/step - loss: 0.0392 - binary_accuracy: 1.0000\n",
            "Epoch 940/1000\n",
            "1/1 [==============================] - 0s 10ms/step - loss: 0.0391 - binary_accuracy: 1.0000\n",
            "Epoch 941/1000\n",
            "1/1 [==============================] - 0s 14ms/step - loss: 0.0390 - binary_accuracy: 1.0000\n",
            "Epoch 942/1000\n",
            "1/1 [==============================] - 0s 15ms/step - loss: 0.0389 - binary_accuracy: 1.0000\n",
            "Epoch 943/1000\n",
            "1/1 [==============================] - 0s 12ms/step - loss: 0.0388 - binary_accuracy: 1.0000\n",
            "Epoch 944/1000\n",
            "1/1 [==============================] - 0s 11ms/step - loss: 0.0388 - binary_accuracy: 1.0000\n",
            "Epoch 945/1000\n",
            "1/1 [==============================] - 0s 10ms/step - loss: 0.0387 - binary_accuracy: 1.0000\n",
            "Epoch 946/1000\n",
            "1/1 [==============================] - 0s 17ms/step - loss: 0.0386 - binary_accuracy: 1.0000\n",
            "Epoch 947/1000\n",
            "1/1 [==============================] - 0s 10ms/step - loss: 0.0385 - binary_accuracy: 1.0000\n",
            "Epoch 948/1000\n",
            "1/1 [==============================] - 0s 12ms/step - loss: 0.0384 - binary_accuracy: 1.0000\n",
            "Epoch 949/1000\n",
            "1/1 [==============================] - 0s 9ms/step - loss: 0.0383 - binary_accuracy: 1.0000\n",
            "Epoch 950/1000\n",
            "1/1 [==============================] - 0s 14ms/step - loss: 0.0382 - binary_accuracy: 1.0000\n",
            "Epoch 951/1000\n",
            "1/1 [==============================] - 0s 12ms/step - loss: 0.0382 - binary_accuracy: 1.0000\n",
            "Epoch 952/1000\n",
            "1/1 [==============================] - 0s 21ms/step - loss: 0.0381 - binary_accuracy: 1.0000\n",
            "Epoch 953/1000\n",
            "1/1 [==============================] - 0s 12ms/step - loss: 0.0380 - binary_accuracy: 1.0000\n",
            "Epoch 954/1000\n",
            "1/1 [==============================] - 0s 17ms/step - loss: 0.0379 - binary_accuracy: 1.0000\n",
            "Epoch 955/1000\n",
            "1/1 [==============================] - 0s 9ms/step - loss: 0.0378 - binary_accuracy: 1.0000\n",
            "Epoch 956/1000\n",
            "1/1 [==============================] - 0s 9ms/step - loss: 0.0377 - binary_accuracy: 1.0000\n",
            "Epoch 957/1000\n",
            "1/1 [==============================] - 0s 14ms/step - loss: 0.0377 - binary_accuracy: 1.0000\n",
            "Epoch 958/1000\n",
            "1/1 [==============================] - 0s 10ms/step - loss: 0.0376 - binary_accuracy: 1.0000\n",
            "Epoch 959/1000\n",
            "1/1 [==============================] - 0s 10ms/step - loss: 0.0375 - binary_accuracy: 1.0000\n",
            "Epoch 960/1000\n",
            "1/1 [==============================] - 0s 15ms/step - loss: 0.0374 - binary_accuracy: 1.0000\n",
            "Epoch 961/1000\n",
            "1/1 [==============================] - 0s 17ms/step - loss: 0.0373 - binary_accuracy: 1.0000\n",
            "Epoch 962/1000\n",
            "1/1 [==============================] - 0s 15ms/step - loss: 0.0373 - binary_accuracy: 1.0000\n",
            "Epoch 963/1000\n",
            "1/1 [==============================] - 0s 16ms/step - loss: 0.0372 - binary_accuracy: 1.0000\n",
            "Epoch 964/1000\n",
            "1/1 [==============================] - 0s 19ms/step - loss: 0.0371 - binary_accuracy: 1.0000\n",
            "Epoch 965/1000\n",
            "1/1 [==============================] - 0s 19ms/step - loss: 0.0370 - binary_accuracy: 1.0000\n",
            "Epoch 966/1000\n",
            "1/1 [==============================] - 0s 18ms/step - loss: 0.0369 - binary_accuracy: 1.0000\n",
            "Epoch 967/1000\n",
            "1/1 [==============================] - 0s 18ms/step - loss: 0.0369 - binary_accuracy: 1.0000\n",
            "Epoch 968/1000\n",
            "1/1 [==============================] - 0s 41ms/step - loss: 0.0368 - binary_accuracy: 1.0000\n",
            "Epoch 969/1000\n",
            "1/1 [==============================] - 0s 22ms/step - loss: 0.0367 - binary_accuracy: 1.0000\n",
            "Epoch 970/1000\n",
            "1/1 [==============================] - 0s 18ms/step - loss: 0.0366 - binary_accuracy: 1.0000\n",
            "Epoch 971/1000\n",
            "1/1 [==============================] - 0s 19ms/step - loss: 0.0365 - binary_accuracy: 1.0000\n",
            "Epoch 972/1000\n",
            "1/1 [==============================] - 0s 16ms/step - loss: 0.0365 - binary_accuracy: 1.0000\n",
            "Epoch 973/1000\n",
            "1/1 [==============================] - 0s 15ms/step - loss: 0.0364 - binary_accuracy: 1.0000\n",
            "Epoch 974/1000\n",
            "1/1 [==============================] - 0s 20ms/step - loss: 0.0363 - binary_accuracy: 1.0000\n",
            "Epoch 975/1000\n",
            "1/1 [==============================] - 0s 18ms/step - loss: 0.0362 - binary_accuracy: 1.0000\n",
            "Epoch 976/1000\n",
            "1/1 [==============================] - 0s 13ms/step - loss: 0.0362 - binary_accuracy: 1.0000\n",
            "Epoch 977/1000\n",
            "1/1 [==============================] - 0s 23ms/step - loss: 0.0361 - binary_accuracy: 1.0000\n",
            "Epoch 978/1000\n",
            "1/1 [==============================] - 0s 17ms/step - loss: 0.0360 - binary_accuracy: 1.0000\n",
            "Epoch 979/1000\n",
            "1/1 [==============================] - 0s 20ms/step - loss: 0.0359 - binary_accuracy: 1.0000\n",
            "Epoch 980/1000\n",
            "1/1 [==============================] - 0s 13ms/step - loss: 0.0359 - binary_accuracy: 1.0000\n",
            "Epoch 981/1000\n",
            "1/1 [==============================] - 0s 17ms/step - loss: 0.0358 - binary_accuracy: 1.0000\n",
            "Epoch 982/1000\n",
            "1/1 [==============================] - 0s 17ms/step - loss: 0.0357 - binary_accuracy: 1.0000\n",
            "Epoch 983/1000\n",
            "1/1 [==============================] - 0s 18ms/step - loss: 0.0356 - binary_accuracy: 1.0000\n",
            "Epoch 984/1000\n",
            "1/1 [==============================] - 0s 19ms/step - loss: 0.0356 - binary_accuracy: 1.0000\n",
            "Epoch 985/1000\n",
            "1/1 [==============================] - 0s 12ms/step - loss: 0.0355 - binary_accuracy: 1.0000\n",
            "Epoch 986/1000\n",
            "1/1 [==============================] - 0s 21ms/step - loss: 0.0354 - binary_accuracy: 1.0000\n",
            "Epoch 987/1000\n",
            "1/1 [==============================] - 0s 17ms/step - loss: 0.0353 - binary_accuracy: 1.0000\n",
            "Epoch 988/1000\n",
            "1/1 [==============================] - 0s 16ms/step - loss: 0.0353 - binary_accuracy: 1.0000\n",
            "Epoch 989/1000\n",
            "1/1 [==============================] - 0s 20ms/step - loss: 0.0352 - binary_accuracy: 1.0000\n",
            "Epoch 990/1000\n",
            "1/1 [==============================] - 0s 12ms/step - loss: 0.0351 - binary_accuracy: 1.0000\n",
            "Epoch 991/1000\n",
            "1/1 [==============================] - 0s 21ms/step - loss: 0.0350 - binary_accuracy: 1.0000\n",
            "Epoch 992/1000\n",
            "1/1 [==============================] - 0s 23ms/step - loss: 0.0350 - binary_accuracy: 1.0000\n",
            "Epoch 993/1000\n",
            "1/1 [==============================] - 0s 19ms/step - loss: 0.0349 - binary_accuracy: 1.0000\n",
            "Epoch 994/1000\n",
            "1/1 [==============================] - 0s 20ms/step - loss: 0.0348 - binary_accuracy: 1.0000\n",
            "Epoch 995/1000\n",
            "1/1 [==============================] - 0s 20ms/step - loss: 0.0347 - binary_accuracy: 1.0000\n",
            "Epoch 996/1000\n",
            "1/1 [==============================] - 0s 24ms/step - loss: 0.0347 - binary_accuracy: 1.0000\n",
            "Epoch 997/1000\n",
            "1/1 [==============================] - 0s 18ms/step - loss: 0.0346 - binary_accuracy: 1.0000\n",
            "Epoch 998/1000\n",
            "1/1 [==============================] - 0s 19ms/step - loss: 0.0345 - binary_accuracy: 1.0000\n",
            "Epoch 999/1000\n",
            "1/1 [==============================] - 0s 19ms/step - loss: 0.0345 - binary_accuracy: 1.0000\n",
            "Epoch 1000/1000\n",
            "1/1 [==============================] - 0s 18ms/step - loss: 0.0344 - binary_accuracy: 1.0000\n"
          ]
        },
        {
          "output_type": "execute_result",
          "data": {
            "text/plain": [
              "<keras.callbacks.History at 0x7f15497cc310>"
            ]
          },
          "metadata": {},
          "execution_count": 163
        }
      ]
    },
    {
      "cell_type": "markdown",
      "source": [
        "La primer iteración detcetó la mitad de las salidas (0.5) pero a partir de la segunda, sólo acierta 1 de cada 4 (0.25). Más adelante en la “epoch” 107 recupera el 0.5 de aciertos, y pasa a 0.75"
      ],
      "metadata": {
        "id": "m1AyAcSgPo1U"
      }
    },
    {
      "cell_type": "code",
      "source": [
        "# Evaluamos y Predecimos\n",
        "scores = model.evaluate(explicativas, objetivo)\n",
        "print(\"\\n%s: %.2f%%\" % (model.metrics_names[1], scores[1]*100))"
      ],
      "metadata": {
        "colab": {
          "base_uri": "https://localhost:8080/"
        },
        "id": "03le7MYVQEu-",
        "outputId": "aa10f4e5-e903-471f-d977-043827bd4778"
      },
      "execution_count": null,
      "outputs": [
        {
          "output_type": "stream",
          "name": "stdout",
          "text": [
            "1/1 [==============================] - 0s 255ms/step - loss: 0.0343 - binary_accuracy: 1.0000\n",
            "\n",
            "binary_accuracy: 100.00%\n"
          ]
        }
      ]
    },
    {
      "cell_type": "code",
      "source": [
        "# con un 100% de precisión hacemos las 4 predicciones posibles de XOR, pasando nuestras entradas\n",
        "\n",
        "print (model.predict(explicativas).round())"
      ],
      "metadata": {
        "colab": {
          "base_uri": "https://localhost:8080/"
        },
        "id": "VBan1p6jRRmg",
        "outputId": "afc85c5c-492a-44ac-fe31-ad65cff766fa"
      },
      "execution_count": null,
      "outputs": [
        {
          "output_type": "stream",
          "name": "stdout",
          "text": [
            "[[0.]\n",
            " [1.]\n",
            " [1.]\n",
            " [0.]]\n"
          ]
        }
      ]
    }
  ]
}